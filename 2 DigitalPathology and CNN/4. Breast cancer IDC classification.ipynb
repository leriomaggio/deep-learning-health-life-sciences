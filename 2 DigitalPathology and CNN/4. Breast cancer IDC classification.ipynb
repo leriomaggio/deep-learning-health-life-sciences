{
 "cells": [
  {
   "cell_type": "code",
   "execution_count": null,
   "metadata": {},
   "outputs": [],
   "source": [
    "!pip install kaggle"
   ]
  },
  {
   "cell_type": "code",
   "execution_count": null,
   "metadata": {},
   "outputs": [],
   "source": [
    "!pip install captum"
   ]
  },
  {
   "cell_type": "markdown",
   "metadata": {},
   "source": [
    "# Invasive Ductal Carcinoma (IDC)"
   ]
  },
  {
   "cell_type": "markdown",
   "metadata": {},
   "source": [
    "In this tutorial we will implement a **breast cancer image** classifier with the task of distinguishing IDC ([Invasive Ductal Carcinoma](https://www.hopkinsmedicine.org/breast_center/breast_cancers_other_conditions/invasive_ductal_carcinoma.html)) vs non-IDC images. \n",
    "\n",
    "Invasive ductal carcinoma (IDC), also known as infiltrating ductal carcinoma, is cancer that began growing in a milk duct and has invaded the fibrous or fatty tissue of the breast outside of the duct. IDC is the most common form of breast cancer, representing 80 percent of all breast cancer diagnoses.\n",
    "\n",
    "We will use a [small dataset](https://www.kaggle.com/simjeg/lymphoma-subtype-classification-fl-vs-cll) publicly available on Kaggle. \n",
    "\n",
    "**Credits** to Kaggle user [Jegs](https://www.kaggle.com/simjeg) for the reduced dataset used in this tutorial and [Andrew Janowczyk](http://www.andrewjanowczyk.com/use-case-6-invasive-ductal-carcinoma-idc-segmentation/) for the original dataset (`~1.6GB`)\n",
    "\n",
    "In the following, we will train a small ConvNet model, and we will try to interpret it using LIME, Anchors, contrastive and gradient-based methods.\n",
    "\n",
    "__NOTE: To download the dataset and follow this tutorial, you need to have an account on Kaggle.__"
   ]
  },
  {
   "cell_type": "code",
   "execution_count": 1,
   "metadata": {},
   "outputs": [],
   "source": [
    "import os\n",
    "import stat\n",
    "import json\n",
    "from ipywidgets import Password\n",
    "from ipywidgets import widgets\n",
    "from IPython.display import display\n",
    "from IPython.display import Image"
   ]
  },
  {
   "cell_type": "markdown",
   "metadata": {},
   "source": [
    "## Download the dataset"
   ]
  },
  {
   "cell_type": "markdown",
   "metadata": {},
   "source": [
    "### Create and place your API token\n",
    "\n",
    "To be able to download datasets using the Kaggle API, please create and download your API token.\n",
    "1. Go to [Kaggle](https://www.kaggle.com/) and log in.\n",
    "2. Go to your account (locate your profile image at the top-right corner of the page)\n",
    "\n",
    "![](kaggle_account.png)\n",
    "\n",
    "3. Scroll down your account page until you find the API cell, and click on the \"Create new API token\" button.\n",
    "\n",
    "![](api_key.png)\n",
    "\n",
    "This will download a file called `kaggle.json`. This file contains the credentials that the Kaggle API will need, but you need to place it in the correct folder. "
   ]
  },
  {
   "cell_type": "code",
   "execution_count": null,
   "metadata": {},
   "outputs": [],
   "source": [
    "user = widgets.Text(\n",
    "    placeholder='Insert your Kaggle username!',\n",
    "    description='User',\n",
    "    disabled=False\n",
    ")\n",
    "\n",
    "pwd = Password(\n",
    "    description='Key',\n",
    "    placeholder='Insert key for user {}'.format(user.value)\n",
    ")\n",
    "\n",
    "def callback(wdgt):\n",
    "    folder = os.path.expanduser('~/.kaggle')\n",
    "    os.makedirs(folder, exist_ok=True)\n",
    "    file = '{}/kaggle.json'.format(folder)\n",
    "    with open(file, 'w') as kaggle_file:\n",
    "        json.dump({\n",
    "            'username': user.value,\n",
    "            'key': wdgt.value\n",
    "        }, kaggle_file)\n",
    "        \n",
    "        print(\"Credentials created in {}\".format(folder))\n",
    "    os.chmod(file, stat.S_IREAD | stat.S_IWRITE)\n",
    "\n",
    "user.on_submit(lambda wdg: display(pwd))\n",
    "pwd.on_submit(callback)\n",
    "\n",
    "display(user)"
   ]
  },
  {
   "cell_type": "markdown",
   "metadata": {},
   "source": [
    "### Download the breast cancer dataset"
   ]
  },
  {
   "cell_type": "code",
   "execution_count": 11,
   "metadata": {},
   "outputs": [],
   "source": [
    "import kaggle\n",
    "\n",
    "DATASET_FOLDER = './breast_cancer/'\n",
    "os.makedirs(DATASET_FOLDER, exist_ok=True)"
   ]
  },
  {
   "cell_type": "code",
   "execution_count": 12,
   "metadata": {},
   "outputs": [],
   "source": [
    "kaggle.api.authenticate()"
   ]
  },
  {
   "cell_type": "code",
   "execution_count": 6,
   "metadata": {},
   "outputs": [],
   "source": [
    "\n",
    "kaggle.api.dataset_download_files('simjeg/lymphoma-subtype-classification-fl-vs-cll', \n",
    "                                  path=DATASET_FOLDER, unzip=True)"
   ]
  },
  {
   "cell_type": "code",
   "execution_count": 7,
   "metadata": {},
   "outputs": [
    {
     "data": {
      "text/plain": [
       "['X.npy', 'Y.npy']"
      ]
     },
     "execution_count": 7,
     "metadata": {},
     "output_type": "execute_result"
    }
   ],
   "source": [
    "os.listdir(DATASET_FOLDER)"
   ]
  },
  {
   "cell_type": "markdown",
   "metadata": {},
   "source": [
    "## Setup the task"
   ]
  },
  {
   "cell_type": "markdown",
   "metadata": {},
   "source": [
    "### Load dataset"
   ]
  },
  {
   "cell_type": "markdown",
   "metadata": {},
   "source": [
    "Let's load the dataset and split it in train (60%), validation (20%) and test (20%). "
   ]
  },
  {
   "cell_type": "code",
   "execution_count": 8,
   "metadata": {},
   "outputs": [],
   "source": [
    "import numpy as np\n",
    "from sklearn.model_selection import train_test_split"
   ]
  },
  {
   "cell_type": "code",
   "execution_count": 9,
   "metadata": {},
   "outputs": [],
   "source": [
    "# If you want replicate the same results, fix the seed\n",
    "seed = 100\n",
    "# seed = None\n",
    "np.random.seed(seed)\n",
    "\n",
    "X = np.load(os.path.join(DATASET_FOLDER, 'X.npy'))\n",
    "y = np.load(os.path.join(DATASET_FOLDER, 'Y.npy'))\n",
    "\n",
    "X_train, X_test, y_train, y_test = train_test_split(X, y, test_size=0.2, random_state=seed)\n",
    "X_train, X_val, y_train, y_val = train_test_split(X_train, y_train, test_size=0.25, random_state=seed)"
   ]
  },
  {
   "cell_type": "markdown",
   "metadata": {},
   "source": [
    "Sanity check of the splits distributions"
   ]
  },
  {
   "cell_type": "code",
   "execution_count": 10,
   "metadata": {},
   "outputs": [],
   "source": [
    "label2idx = {\n",
    "    'non-IDC': 0,\n",
    "    'IDC': 1\n",
    "}\n",
    "idx2label = ['non-IDC', 'IDC']"
   ]
  },
  {
   "cell_type": "code",
   "execution_count": 11,
   "metadata": {},
   "outputs": [
    {
     "data": {
      "image/png": "[encoded data removed]",
      "text/plain": [
       "<Figure size 432x288 with 1 Axes>"
      ]
     },
     "metadata": {
      "needs_background": "light"
     },
     "output_type": "display_data"
    }
   ],
   "source": [
    "%matplotlib inline\n",
    "import matplotlib.pyplot as plt\n",
    "\n",
    "bar_width = 0.2\n",
    "\n",
    "pos_train = np.array([-0.2, 0.8])\n",
    "pos_val = pos_train + bar_width\n",
    "pos_test = pos_val + bar_width\n",
    "\n",
    "plt.bar(pos_train, [np.mean(y_train==label2idx['non-IDC']), np.mean(y_train==label2idx['IDC'])], width=bar_width, color='r', edgecolor='k', label='train')\n",
    "plt.bar(pos_val, [np.mean(y_val==label2idx['non-IDC']), np.mean(y_val==label2idx['IDC'])], width=bar_width, color='g', edgecolor='k', label='val')\n",
    "plt.bar(pos_test, [np.mean(y_test==label2idx['non-IDC']), np.mean(y_test==label2idx['IDC'])], width=bar_width, color='b', edgecolor='k', label='test')\n",
    "\n",
    "plt.xticks([0, 1])\n",
    "plt.legend()\n",
    "\n",
    "plt.show()"
   ]
  },
  {
   "cell_type": "markdown",
   "metadata": {},
   "source": [
    "To have a sense of the data let's have a look at some samples."
   ]
  },
  {
   "cell_type": "code",
   "execution_count": 12,
   "metadata": {},
   "outputs": [],
   "source": [
    "def show_samples():\n",
    "    non_idc_sample_idx = np.random.choice(np.argwhere(y == label2idx['non-IDC']).squeeze())\n",
    "    non_idc_sample = X[non_idc_sample_idx]\n",
    "    \n",
    "    idc_sample_idx = np.random.choice(np.argwhere(y == label2idx['IDC']).squeeze())\n",
    "    idc_sample = X[idc_sample_idx]\n",
    "    \n",
    "    plt.figure()\n",
    "    \n",
    "    plt.subplot(121)\n",
    "    plt.imshow(non_idc_sample)\n",
    "    plt.title('non-IDC (sample idx: {})'.format(non_idc_sample_idx))\n",
    "    plt.axis('off')\n",
    "    \n",
    "    plt.subplot(122)\n",
    "    plt.imshow(idc_sample)\n",
    "    plt.title('IDC (sample idx: {})'.format(idc_sample_idx))\n",
    "    plt.axis('off')\n",
    "    \n",
    "    plt.show()"
   ]
  },
  {
   "cell_type": "code",
   "execution_count": 13,
   "metadata": {},
   "outputs": [
    {
     "data": {
      "image/png": "[encoded data removed]",
      "text/plain": [
       "<Figure size 432x288 with 2 Axes>"
      ]
     },
     "metadata": {
      "needs_background": "light"
     },
     "output_type": "display_data"
    }
   ],
   "source": [
    "show_samples()"
   ]
  },
  {
   "cell_type": "markdown",
   "metadata": {},
   "source": [
    "What's the image size? And are the images normalized?"
   ]
  },
  {
   "cell_type": "code",
   "execution_count": 14,
   "metadata": {},
   "outputs": [
    {
     "name": "stdout",
     "output_type": "stream",
     "text": [
      "Image shape: (50, 50, 3)\n",
      "Min value: 255\n",
      "Max value: 2\n"
     ]
    }
   ],
   "source": [
    "print('Image shape: {}'.format(X.shape[1:]))\n",
    "\n",
    "print('Min value: {}\\nMax value: {}'.format(\n",
    "    np.max(X),\n",
    "    np.min(X)\n",
    "))"
   ]
  },
  {
   "cell_type": "markdown",
   "metadata": {},
   "source": [
    "Let's create a preprocessing pipeline in PyTorch to convert the `np.array`s to `torch.tensor`s and then normalize them to the range `[-1.0, 1.0]` for each channel."
   ]
  },
  {
   "cell_type": "code",
   "execution_count": 15,
   "metadata": {},
   "outputs": [],
   "source": [
    "import torch\n",
    "import torchvision\n",
    "\n",
    "preprocessor = torchvision.transforms.Compose([\n",
    "    torchvision.transforms.ToTensor(),\n",
    "    torchvision.transforms.Normalize([0]*3, [255]*3, inplace=True)\n",
    "])"
   ]
  },
  {
   "cell_type": "markdown",
   "metadata": {},
   "source": [
    "We now create a `torch.utils.data.Dataset` wrapper around our data so we can use the `torch.utils.data.DataLoader` to then perform some training utilities (i.e. batching)."
   ]
  },
  {
   "cell_type": "code",
   "execution_count": 16,
   "metadata": {},
   "outputs": [],
   "source": [
    "class BreastCancerDataset(torch.utils.data.Dataset):\n",
    "    def __init__(self, _X, _y):\n",
    "        # Preprocess the data\n",
    "        self._X = torch.stack([preprocessor(x) for x in _X])\n",
    "        self._y = torch.tensor(_y.astype(np.int))\n",
    "        \n",
    "    def __len__(self):\n",
    "        return len(self._X)\n",
    "    \n",
    "    def __getitem__(self, idx):\n",
    "        if torch.is_tensor(idx):\n",
    "            idx = idx.tolist()\n",
    "        \n",
    "        return {'image': self._X[idx], 'label': self._y[idx]}\n",
    "    \n",
    "    @property\n",
    "    def X(self):\n",
    "        return self._X"
   ]
  },
  {
   "cell_type": "code",
   "execution_count": 17,
   "metadata": {},
   "outputs": [],
   "source": [
    "train_set = BreastCancerDataset(X_train, y_train)\n",
    "valid_set = BreastCancerDataset(X_val, y_val)\n",
    "test_set  = BreastCancerDataset(X_test, y_test)"
   ]
  },
  {
   "cell_type": "markdown",
   "metadata": {},
   "source": [
    "### Let's create our CNN"
   ]
  },
  {
   "cell_type": "markdown",
   "metadata": {},
   "source": [
    "Define the model ..."
   ]
  },
  {
   "cell_type": "code",
   "execution_count": 18,
   "metadata": {},
   "outputs": [],
   "source": [
    "from torch import nn\n",
    "\n",
    "class CancerCNN(nn.Module):\n",
    "    def _conv_op(self, in_channels, out_channels):\n",
    "        return nn.Sequential(\n",
    "            nn.Conv2d(in_channels, out_channels, 9, padding=4), # this maintains the same size\n",
    "            nn.Tanh()\n",
    "        )\n",
    "    \n",
    "    def _fc_op(self, in_dim, out_dim):\n",
    "        return nn.Sequential(\n",
    "            nn.Linear(in_dim, out_dim),\n",
    "            nn.Tanh()\n",
    "        )\n",
    "    \n",
    "    def __init__(self):\n",
    "        super().__init__()\n",
    "        \n",
    "        self.conv1 = self._conv_op(3, 32)\n",
    "        self.conv2 = self._conv_op(32, 64)\n",
    "        self.conv3 = self._conv_op(64, 128)\n",
    "        \n",
    "        self.max_pool_2 = nn.MaxPool2d(2)\n",
    "        self.max_pool_5 = nn.MaxPool2d(5)\n",
    "        \n",
    "        self.fc1 = self._fc_op(128, 32)\n",
    "        self.fc2 = self._fc_op(32, 2)\n",
    "        \n",
    "    def forward(self, x, return_argmax=False):\n",
    "        # size = (?, 50, 50, 3)\n",
    "        x = self.conv1(x)\n",
    "        # size = (?, 50, 50, 32)\n",
    "        x = self.max_pool_2(x)\n",
    "        # size = (?, 25, 25, 32)\n",
    "        x = self.conv2(x)\n",
    "        # size = (?, 25, 25, 64)\n",
    "        x = self.max_pool_5(x)\n",
    "        # size = (?, 5, 5, 64)\n",
    "        x = self.conv3(x)\n",
    "        # size = (?, 5, 5, 128)\n",
    "        x = self.max_pool_5(x)\n",
    "        # size = (?, 1, 1, 128)\n",
    "        x = x.view(-1, 128)\n",
    "        # size = (?, 128)\n",
    "        x = self.fc1(x)\n",
    "        # size = (?, 32)\n",
    "        x = self.fc2(x)\n",
    "        # size = (?, 2)\n",
    "        if return_argmax:\n",
    "            argmax = torch.argmax(x, dim=1)\n",
    "            return argmax\n",
    "        return x"
   ]
  },
  {
   "cell_type": "markdown",
   "metadata": {},
   "source": [
    "... and then instantiate it."
   ]
  },
  {
   "cell_type": "code",
   "execution_count": 19,
   "metadata": {},
   "outputs": [
    {
     "name": "stdout",
     "output_type": "stream",
     "text": [
      "CancerCNN(\n",
      "  (conv1): Sequential(\n",
      "    (0): Conv2d(3, 32, kernel_size=(9, 9), stride=(1, 1), padding=(4, 4))\n",
      "    (1): Tanh()\n",
      "  )\n",
      "  (conv2): Sequential(\n",
      "    (0): Conv2d(32, 64, kernel_size=(9, 9), stride=(1, 1), padding=(4, 4))\n",
      "    (1): Tanh()\n",
      "  )\n",
      "  (conv3): Sequential(\n",
      "    (0): Conv2d(64, 128, kernel_size=(9, 9), stride=(1, 1), padding=(4, 4))\n",
      "    (1): Tanh()\n",
      "  )\n",
      "  (max_pool_2): MaxPool2d(kernel_size=2, stride=2, padding=0, dilation=1, ceil_mode=False)\n",
      "  (max_pool_5): MaxPool2d(kernel_size=5, stride=5, padding=0, dilation=1, ceil_mode=False)\n",
      "  (fc1): Sequential(\n",
      "    (0): Linear(in_features=128, out_features=32, bias=True)\n",
      "    (1): Tanh()\n",
      "  )\n",
      "  (fc2): Sequential(\n",
      "    (0): Linear(in_features=32, out_features=2, bias=True)\n",
      "    (1): Tanh()\n",
      "  )\n",
      ")\n"
     ]
    }
   ],
   "source": [
    "# set the seed for reproducibility\n",
    "torch.manual_seed(1123)\n",
    "\n",
    "cnn_model = CancerCNN()\n",
    "print(cnn_model)"
   ]
  },
  {
   "cell_type": "markdown",
   "metadata": {},
   "source": [
    "### Now let's train the model"
   ]
  },
  {
   "cell_type": "code",
   "execution_count": null,
   "metadata": {},
   "outputs": [],
   "source": []
  },
  {
   "cell_type": "code",
   "execution_count": 20,
   "metadata": {},
   "outputs": [],
   "source": [
    "batch_size = 4\n",
    "learning_rate = 1e-4\n",
    "n_epochs = 20\n",
    "\n",
    "ce_loss = nn.CrossEntropyLoss()\n",
    "optimizer = torch.optim.Adam(cnn_model.parameters(), lr=learning_rate)\n",
    "\n",
    "model_file = os.path.join(DATASET_FOLDER, 'cancer_cnn_trained.model')"
   ]
  },
  {
   "cell_type": "code",
   "execution_count": 21,
   "metadata": {},
   "outputs": [],
   "source": [
    "torch.manual_seed(13901)\n",
    "\n",
    "# randomized data loader for training\n",
    "train_loader = torch.utils.data.DataLoader(train_set, batch_size=batch_size, shuffle=True)\n",
    "val_loader = torch.utils.data.DataLoader(valid_set, batch_size=batch_size, shuffle=False)\n",
    "test_loader = torch.utils.data.DataLoader(test_set, batch_size=batch_size, shuffle=False)"
   ]
  },
  {
   "cell_type": "code",
   "execution_count": 22,
   "metadata": {},
   "outputs": [],
   "source": [
    "def compute_metrics(model, loader, set_name, set_size):\n",
    "    total_loss = 0\n",
    "    correct = 0\n",
    "    TP = 0\n",
    "    TN = 0\n",
    "    FP = 0\n",
    "    FN = 0\n",
    "    \n",
    "    def precision_and_recall(t, f, f_other):\n",
    "        if t == 0:\n",
    "            return 0, 0\n",
    "        return (np.float(t)/np.float(t+f_other), np.float(t)/np.float(t+f))\n",
    "    \n",
    "    for i, data in enumerate(loader):\n",
    "        images = data['image']\n",
    "        labels = data['label']\n",
    "        \n",
    "        logits = model(images)\n",
    "        loss = ce_loss(logits, labels)\n",
    "        \n",
    "        predicted = torch.argmax(logits, dim=1)\n",
    "        curr_correct = (labels == predicted).sum().item()\n",
    "        pos_count = (predicted == 1).sum().item()\n",
    "        neg_count = len(predicted) - pos_count\n",
    "        curr_correct = (labels == predicted)\n",
    "        curr_tp = ((labels == 1) & curr_correct).sum().item()\n",
    "        curr_tn = ((labels == 0) & curr_correct).sum().item()\n",
    "        correct += curr_correct.sum().item()\n",
    "        \n",
    "        TP += curr_tp \n",
    "        TN += curr_tn\n",
    "        FP += pos_count - curr_tp\n",
    "        FN += neg_count - curr_tn\n",
    "        \n",
    "        total_loss += loss.item()*len(images)\n",
    "        \n",
    "    print('{}..'.format(set_name))\n",
    "    print('\\t.. loss: {}'.format(total_loss/set_size))\n",
    "    print('\\t.. accuracy: {}%'.format((correct*100.0)/set_size))\n",
    "    print('\\t.. TP={}, TN={}, FP={}, FN={}'.format(TP, TN, FP, FN))\n",
    "    precision_0, recall_0 = precision_and_recall(TN, FN, FP)\n",
    "    precision_1, recall_1 = precision_and_recall(TP, FP, FN)\n",
    "    print('\\t.. precision(0): {}'.format(precision_0))\n",
    "    print('\\t.. recall(0): {}'.format(recall_0))\n",
    "    print('\\t.. precision(1): {}'.format(precision_1))\n",
    "    print('\\t.. recall(1): {}'.format(recall_1))"
   ]
  },
  {
   "cell_type": "code",
   "execution_count": 23,
   "metadata": {},
   "outputs": [],
   "source": [
    "from IPython.display import clear_output\n",
    "\n",
    "def print_summary(model, train_loss, print_test=False):\n",
    "    clear_output()\n",
    "    print('================= Summary =================')\n",
    "    print('Training loss: {}'.format(train_loss/len(train_set)))\n",
    "    compute_metrics(model, val_loader, 'Validation', len(valid_set))\n",
    "    if print_test:\n",
    "        compute_metrics(model, test_loader, 'Test', len(test_set))\n",
    "    print('===========================================')\n",
    "    print()"
   ]
  },
  {
   "cell_type": "code",
   "execution_count": 25,
   "metadata": {
    "scrolled": false
   },
   "outputs": [
    {
     "name": "stdout",
     "output_type": "stream",
     "text": [
      "================= Summary =================\n",
      "Training loss: 0.5839828270170329\n",
      "Validation..\n",
      "\t.. loss: 0.562821816216718\n",
      "\t.. accuracy: 71.8018018018018%\n",
      "\t.. TP=460, TN=337, FP=198, FN=115\n",
      "\t.. precision(0): 0.6299065420560748\n",
      "\t.. recall(0): 0.745575221238938\n",
      "\t.. precision(1): 0.8\n",
      "\t.. recall(1): 0.6990881458966566\n",
      "===========================================\n",
      "\n",
      "Epoch 3 |===>....................................| 9.62% (Batch Loss: 0.79455, Average Loss: 0.59901)"
     ]
    },
    {
     "ename": "KeyboardInterrupt",
     "evalue": "",
     "output_type": "error",
     "traceback": [
      "\u001b[0;31m---------------------------------------------------------------------------\u001b[0m",
      "\u001b[0;31mKeyboardInterrupt\u001b[0m                         Traceback (most recent call last)",
      "\u001b[0;32m<ipython-input-25-999ec9d64ac9>\u001b[0m in \u001b[0;36m<module>\u001b[0;34m\u001b[0m\n\u001b[1;32m     22\u001b[0m         \u001b[0moptimizer\u001b[0m\u001b[0;34m.\u001b[0m\u001b[0mzero_grad\u001b[0m\u001b[0;34m(\u001b[0m\u001b[0;34m)\u001b[0m\u001b[0;34m\u001b[0m\u001b[0;34m\u001b[0m\u001b[0m\n\u001b[1;32m     23\u001b[0m \u001b[0;34m\u001b[0m\u001b[0m\n\u001b[0;32m---> 24\u001b[0;31m         \u001b[0mlogits\u001b[0m \u001b[0;34m=\u001b[0m \u001b[0mcnn_model\u001b[0m\u001b[0;34m(\u001b[0m\u001b[0mimages\u001b[0m\u001b[0;34m)\u001b[0m\u001b[0;34m\u001b[0m\u001b[0;34m\u001b[0m\u001b[0m\n\u001b[0m\u001b[1;32m     25\u001b[0m         \u001b[0mloss\u001b[0m \u001b[0;34m=\u001b[0m \u001b[0mce_loss\u001b[0m\u001b[0;34m(\u001b[0m\u001b[0mlogits\u001b[0m\u001b[0;34m,\u001b[0m \u001b[0mlabels\u001b[0m\u001b[0;34m)\u001b[0m\u001b[0;34m\u001b[0m\u001b[0;34m\u001b[0m\u001b[0m\n\u001b[1;32m     26\u001b[0m         \u001b[0mtotal_train_loss\u001b[0m \u001b[0;34m+=\u001b[0m \u001b[0mloss\u001b[0m\u001b[0;34m.\u001b[0m\u001b[0mitem\u001b[0m\u001b[0;34m(\u001b[0m\u001b[0;34m)\u001b[0m\u001b[0;34m*\u001b[0m\u001b[0mlen\u001b[0m\u001b[0;34m(\u001b[0m\u001b[0mimages\u001b[0m\u001b[0;34m)\u001b[0m\u001b[0;34m\u001b[0m\u001b[0;34m\u001b[0m\u001b[0m\n",
      "\u001b[0;32m~/opt/anaconda3/envs/dl-torch/lib/python3.7/site-packages/torch/nn/modules/module.py\u001b[0m in \u001b[0;36m__call__\u001b[0;34m(self, *input, **kwargs)\u001b[0m\n\u001b[1;32m    548\u001b[0m             \u001b[0mresult\u001b[0m \u001b[0;34m=\u001b[0m \u001b[0mself\u001b[0m\u001b[0;34m.\u001b[0m\u001b[0m_slow_forward\u001b[0m\u001b[0;34m(\u001b[0m\u001b[0;34m*\u001b[0m\u001b[0minput\u001b[0m\u001b[0;34m,\u001b[0m \u001b[0;34m**\u001b[0m\u001b[0mkwargs\u001b[0m\u001b[0;34m)\u001b[0m\u001b[0;34m\u001b[0m\u001b[0;34m\u001b[0m\u001b[0m\n\u001b[1;32m    549\u001b[0m         \u001b[0;32melse\u001b[0m\u001b[0;34m:\u001b[0m\u001b[0;34m\u001b[0m\u001b[0;34m\u001b[0m\u001b[0m\n\u001b[0;32m--> 550\u001b[0;31m             \u001b[0mresult\u001b[0m \u001b[0;34m=\u001b[0m \u001b[0mself\u001b[0m\u001b[0;34m.\u001b[0m\u001b[0mforward\u001b[0m\u001b[0;34m(\u001b[0m\u001b[0;34m*\u001b[0m\u001b[0minput\u001b[0m\u001b[0;34m,\u001b[0m \u001b[0;34m**\u001b[0m\u001b[0mkwargs\u001b[0m\u001b[0;34m)\u001b[0m\u001b[0;34m\u001b[0m\u001b[0;34m\u001b[0m\u001b[0m\n\u001b[0m\u001b[1;32m    551\u001b[0m         \u001b[0;32mfor\u001b[0m \u001b[0mhook\u001b[0m \u001b[0;32min\u001b[0m \u001b[0mself\u001b[0m\u001b[0;34m.\u001b[0m\u001b[0m_forward_hooks\u001b[0m\u001b[0;34m.\u001b[0m\u001b[0mvalues\u001b[0m\u001b[0;34m(\u001b[0m\u001b[0;34m)\u001b[0m\u001b[0;34m:\u001b[0m\u001b[0;34m\u001b[0m\u001b[0;34m\u001b[0m\u001b[0m\n\u001b[1;32m    552\u001b[0m             \u001b[0mhook_result\u001b[0m \u001b[0;34m=\u001b[0m \u001b[0mhook\u001b[0m\u001b[0;34m(\u001b[0m\u001b[0mself\u001b[0m\u001b[0;34m,\u001b[0m \u001b[0minput\u001b[0m\u001b[0;34m,\u001b[0m \u001b[0mresult\u001b[0m\u001b[0;34m)\u001b[0m\u001b[0;34m\u001b[0m\u001b[0;34m\u001b[0m\u001b[0m\n",
      "\u001b[0;32m<ipython-input-18-a60897d760e2>\u001b[0m in \u001b[0;36mforward\u001b[0;34m(self, x, return_argmax)\u001b[0m\n\u001b[1;32m     37\u001b[0m         \u001b[0mx\u001b[0m \u001b[0;34m=\u001b[0m \u001b[0mself\u001b[0m\u001b[0;34m.\u001b[0m\u001b[0mmax_pool_5\u001b[0m\u001b[0;34m(\u001b[0m\u001b[0mx\u001b[0m\u001b[0;34m)\u001b[0m\u001b[0;34m\u001b[0m\u001b[0;34m\u001b[0m\u001b[0m\n\u001b[1;32m     38\u001b[0m         \u001b[0;31m# size = (?, 5, 5, 64)\u001b[0m\u001b[0;34m\u001b[0m\u001b[0;34m\u001b[0m\u001b[0;34m\u001b[0m\u001b[0m\n\u001b[0;32m---> 39\u001b[0;31m         \u001b[0mx\u001b[0m \u001b[0;34m=\u001b[0m \u001b[0mself\u001b[0m\u001b[0;34m.\u001b[0m\u001b[0mconv3\u001b[0m\u001b[0;34m(\u001b[0m\u001b[0mx\u001b[0m\u001b[0;34m)\u001b[0m\u001b[0;34m\u001b[0m\u001b[0;34m\u001b[0m\u001b[0m\n\u001b[0m\u001b[1;32m     40\u001b[0m         \u001b[0;31m# size = (?, 5, 5, 128)\u001b[0m\u001b[0;34m\u001b[0m\u001b[0;34m\u001b[0m\u001b[0;34m\u001b[0m\u001b[0m\n\u001b[1;32m     41\u001b[0m         \u001b[0mx\u001b[0m \u001b[0;34m=\u001b[0m \u001b[0mself\u001b[0m\u001b[0;34m.\u001b[0m\u001b[0mmax_pool_5\u001b[0m\u001b[0;34m(\u001b[0m\u001b[0mx\u001b[0m\u001b[0;34m)\u001b[0m\u001b[0;34m\u001b[0m\u001b[0;34m\u001b[0m\u001b[0m\n",
      "\u001b[0;32m~/opt/anaconda3/envs/dl-torch/lib/python3.7/site-packages/torch/nn/modules/module.py\u001b[0m in \u001b[0;36m__call__\u001b[0;34m(self, *input, **kwargs)\u001b[0m\n\u001b[1;32m    548\u001b[0m             \u001b[0mresult\u001b[0m \u001b[0;34m=\u001b[0m \u001b[0mself\u001b[0m\u001b[0;34m.\u001b[0m\u001b[0m_slow_forward\u001b[0m\u001b[0;34m(\u001b[0m\u001b[0;34m*\u001b[0m\u001b[0minput\u001b[0m\u001b[0;34m,\u001b[0m \u001b[0;34m**\u001b[0m\u001b[0mkwargs\u001b[0m\u001b[0;34m)\u001b[0m\u001b[0;34m\u001b[0m\u001b[0;34m\u001b[0m\u001b[0m\n\u001b[1;32m    549\u001b[0m         \u001b[0;32melse\u001b[0m\u001b[0;34m:\u001b[0m\u001b[0;34m\u001b[0m\u001b[0;34m\u001b[0m\u001b[0m\n\u001b[0;32m--> 550\u001b[0;31m             \u001b[0mresult\u001b[0m \u001b[0;34m=\u001b[0m \u001b[0mself\u001b[0m\u001b[0;34m.\u001b[0m\u001b[0mforward\u001b[0m\u001b[0;34m(\u001b[0m\u001b[0;34m*\u001b[0m\u001b[0minput\u001b[0m\u001b[0;34m,\u001b[0m \u001b[0;34m**\u001b[0m\u001b[0mkwargs\u001b[0m\u001b[0;34m)\u001b[0m\u001b[0;34m\u001b[0m\u001b[0;34m\u001b[0m\u001b[0m\n\u001b[0m\u001b[1;32m    551\u001b[0m         \u001b[0;32mfor\u001b[0m \u001b[0mhook\u001b[0m \u001b[0;32min\u001b[0m \u001b[0mself\u001b[0m\u001b[0;34m.\u001b[0m\u001b[0m_forward_hooks\u001b[0m\u001b[0;34m.\u001b[0m\u001b[0mvalues\u001b[0m\u001b[0;34m(\u001b[0m\u001b[0;34m)\u001b[0m\u001b[0;34m:\u001b[0m\u001b[0;34m\u001b[0m\u001b[0;34m\u001b[0m\u001b[0m\n\u001b[1;32m    552\u001b[0m             \u001b[0mhook_result\u001b[0m \u001b[0;34m=\u001b[0m \u001b[0mhook\u001b[0m\u001b[0;34m(\u001b[0m\u001b[0mself\u001b[0m\u001b[0;34m,\u001b[0m \u001b[0minput\u001b[0m\u001b[0;34m,\u001b[0m \u001b[0mresult\u001b[0m\u001b[0;34m)\u001b[0m\u001b[0;34m\u001b[0m\u001b[0;34m\u001b[0m\u001b[0m\n",
      "\u001b[0;32m~/opt/anaconda3/envs/dl-torch/lib/python3.7/site-packages/torch/nn/modules/container.py\u001b[0m in \u001b[0;36mforward\u001b[0;34m(self, input)\u001b[0m\n\u001b[1;32m     98\u001b[0m     \u001b[0;32mdef\u001b[0m \u001b[0mforward\u001b[0m\u001b[0;34m(\u001b[0m\u001b[0mself\u001b[0m\u001b[0;34m,\u001b[0m \u001b[0minput\u001b[0m\u001b[0;34m)\u001b[0m\u001b[0;34m:\u001b[0m\u001b[0;34m\u001b[0m\u001b[0;34m\u001b[0m\u001b[0m\n\u001b[1;32m     99\u001b[0m         \u001b[0;32mfor\u001b[0m \u001b[0mmodule\u001b[0m \u001b[0;32min\u001b[0m \u001b[0mself\u001b[0m\u001b[0;34m:\u001b[0m\u001b[0;34m\u001b[0m\u001b[0;34m\u001b[0m\u001b[0m\n\u001b[0;32m--> 100\u001b[0;31m             \u001b[0minput\u001b[0m \u001b[0;34m=\u001b[0m \u001b[0mmodule\u001b[0m\u001b[0;34m(\u001b[0m\u001b[0minput\u001b[0m\u001b[0;34m)\u001b[0m\u001b[0;34m\u001b[0m\u001b[0;34m\u001b[0m\u001b[0m\n\u001b[0m\u001b[1;32m    101\u001b[0m         \u001b[0;32mreturn\u001b[0m \u001b[0minput\u001b[0m\u001b[0;34m\u001b[0m\u001b[0;34m\u001b[0m\u001b[0m\n\u001b[1;32m    102\u001b[0m \u001b[0;34m\u001b[0m\u001b[0m\n",
      "\u001b[0;32m~/opt/anaconda3/envs/dl-torch/lib/python3.7/site-packages/torch/nn/modules/module.py\u001b[0m in \u001b[0;36m__call__\u001b[0;34m(self, *input, **kwargs)\u001b[0m\n\u001b[1;32m    548\u001b[0m             \u001b[0mresult\u001b[0m \u001b[0;34m=\u001b[0m \u001b[0mself\u001b[0m\u001b[0;34m.\u001b[0m\u001b[0m_slow_forward\u001b[0m\u001b[0;34m(\u001b[0m\u001b[0;34m*\u001b[0m\u001b[0minput\u001b[0m\u001b[0;34m,\u001b[0m \u001b[0;34m**\u001b[0m\u001b[0mkwargs\u001b[0m\u001b[0;34m)\u001b[0m\u001b[0;34m\u001b[0m\u001b[0;34m\u001b[0m\u001b[0m\n\u001b[1;32m    549\u001b[0m         \u001b[0;32melse\u001b[0m\u001b[0;34m:\u001b[0m\u001b[0;34m\u001b[0m\u001b[0;34m\u001b[0m\u001b[0m\n\u001b[0;32m--> 550\u001b[0;31m             \u001b[0mresult\u001b[0m \u001b[0;34m=\u001b[0m \u001b[0mself\u001b[0m\u001b[0;34m.\u001b[0m\u001b[0mforward\u001b[0m\u001b[0;34m(\u001b[0m\u001b[0;34m*\u001b[0m\u001b[0minput\u001b[0m\u001b[0;34m,\u001b[0m \u001b[0;34m**\u001b[0m\u001b[0mkwargs\u001b[0m\u001b[0;34m)\u001b[0m\u001b[0;34m\u001b[0m\u001b[0;34m\u001b[0m\u001b[0m\n\u001b[0m\u001b[1;32m    551\u001b[0m         \u001b[0;32mfor\u001b[0m \u001b[0mhook\u001b[0m \u001b[0;32min\u001b[0m \u001b[0mself\u001b[0m\u001b[0;34m.\u001b[0m\u001b[0m_forward_hooks\u001b[0m\u001b[0;34m.\u001b[0m\u001b[0mvalues\u001b[0m\u001b[0;34m(\u001b[0m\u001b[0;34m)\u001b[0m\u001b[0;34m:\u001b[0m\u001b[0;34m\u001b[0m\u001b[0;34m\u001b[0m\u001b[0m\n\u001b[1;32m    552\u001b[0m             \u001b[0mhook_result\u001b[0m \u001b[0;34m=\u001b[0m \u001b[0mhook\u001b[0m\u001b[0;34m(\u001b[0m\u001b[0mself\u001b[0m\u001b[0;34m,\u001b[0m \u001b[0minput\u001b[0m\u001b[0;34m,\u001b[0m \u001b[0mresult\u001b[0m\u001b[0;34m)\u001b[0m\u001b[0;34m\u001b[0m\u001b[0;34m\u001b[0m\u001b[0m\n",
      "\u001b[0;32m~/opt/anaconda3/envs/dl-torch/lib/python3.7/site-packages/torch/nn/modules/activation.py\u001b[0m in \u001b[0;36mforward\u001b[0;34m(self, input)\u001b[0m\n\u001b[1;32m    316\u001b[0m \u001b[0;34m\u001b[0m\u001b[0m\n\u001b[1;32m    317\u001b[0m     \u001b[0;32mdef\u001b[0m \u001b[0mforward\u001b[0m\u001b[0;34m(\u001b[0m\u001b[0mself\u001b[0m\u001b[0;34m,\u001b[0m \u001b[0minput\u001b[0m\u001b[0;34m)\u001b[0m\u001b[0;34m:\u001b[0m\u001b[0;34m\u001b[0m\u001b[0;34m\u001b[0m\u001b[0m\n\u001b[0;32m--> 318\u001b[0;31m         \u001b[0;32mreturn\u001b[0m \u001b[0mtorch\u001b[0m\u001b[0;34m.\u001b[0m\u001b[0mtanh\u001b[0m\u001b[0;34m(\u001b[0m\u001b[0minput\u001b[0m\u001b[0;34m)\u001b[0m\u001b[0;34m\u001b[0m\u001b[0;34m\u001b[0m\u001b[0m\n\u001b[0m\u001b[1;32m    319\u001b[0m \u001b[0;34m\u001b[0m\u001b[0m\n\u001b[1;32m    320\u001b[0m \u001b[0;34m\u001b[0m\u001b[0m\n",
      "\u001b[0;31mKeyboardInterrupt\u001b[0m: "
     ]
    }
   ],
   "source": [
    "import sys\n",
    "\n",
    "LEN_BAR = 40\n",
    "\n",
    "for e in range(1, n_epochs+1):\n",
    "    \n",
    "    if e > 1:\n",
    "        clear_output()\n",
    "        print_summary(cnn_model, total_train_loss, False)\n",
    "    \n",
    "    total_train_loss = 0\n",
    "    n_samples = 0\n",
    "    \n",
    "    for i, data in enumerate(train_loader):\n",
    "        # get current data\n",
    "        images = data['image']\n",
    "        labels = data['label']\n",
    "        \n",
    "        n_samples += len(images)\n",
    "\n",
    "        # \n",
    "        optimizer.zero_grad()\n",
    "\n",
    "        logits = cnn_model(images)\n",
    "        loss = ce_loss(logits, labels)\n",
    "        total_train_loss += loss.item()*len(images)\n",
    "        loss.backward()\n",
    "        optimizer.step()\n",
    "\n",
    "        if i % 20 == 0:\n",
    "            frac = i/len(train_loader)\n",
    "            n_progress = int(frac*LEN_BAR)\n",
    "            message = ('Epoch {} |{}{}{}| {:0.2f}% (Batch Loss: {:0.5f}, Average Loss: {:0.5f})'.format(\n",
    "                e,\n",
    "                '='*n_progress,\n",
    "                '>' if n_progress < LEN_BAR else '',\n",
    "                '.'*max(0, LEN_BAR - n_progress - 1),\n",
    "                frac*100,\n",
    "                loss.item(),\n",
    "                total_train_loss/n_samples\n",
    "            ))\n",
    "            sys.stdout.write('\\r' + message)\n",
    "            sys.stdout.flush()\n",
    "            torch.save(cnn_model.state_dict(), model_file) # save\n",
    "\n",
    "    \n",
    "clear_output()\n",
    "print_summary(cnn_model, total_train_loss, True)  \n",
    "torch.save(cnn_model.state_dict(), model_file) # save"
   ]
  },
  {
   "cell_type": "markdown",
   "metadata": {},
   "source": [
    "If you are too impatient to train the model (or you want to reproduce the results in this notebook), you can download and load the pre-trained model by running the following cell."
   ]
  },
  {
   "cell_type": "code",
   "execution_count": 115,
   "metadata": {},
   "outputs": [],
   "source": [
    "def import_model_from_box():\n",
    "    import wget, math, shutil\n",
    "    pretrained_model_file = os.path.join(DATASET_FOLDER, 'pretrained.model')\n",
    "    file = wget.download('https://ibm.box.com/shared/static/rgoxyepbdwahd65m9ou3t9cmobq38qxa.model', \n",
    "                         pretrained_model_file)\n",
    "    shutil.move(file,pretrained_model_file)\n",
    "    cnn_model = CancerCNN()\n",
    "    cnn_model.load_state_dict(torch.load(pretrained_model_file))\n",
    "    print_summary(cnn_model, math.nan, True)  \n",
    "    return cnn_model"
   ]
  },
  {
   "cell_type": "code",
   "execution_count": 116,
   "metadata": {},
   "outputs": [
    {
     "name": "stdout",
     "output_type": "stream",
     "text": [
      "================= Summary =================\n",
      "Training loss: nan\n",
      "Validation..\n",
      "\t.. loss: 0.498497543839721\n",
      "\t.. accuracy: 77.11711711711712%\n",
      "\t.. TP=433, TN=423, FP=112, FN=142\n",
      "\t.. precision(0): 0.7906542056074767\n",
      "\t.. recall(0): 0.7486725663716814\n",
      "\t.. precision(1): 0.7530434782608696\n",
      "\t.. recall(1): 0.7944954128440367\n",
      "Test..\n",
      "\t.. loss: 0.5068819138917837\n",
      "\t.. accuracy: 76.21621621621621%\n",
      "\t.. TP=396, TN=450, FP=124, FN=140\n",
      "\t.. precision(0): 0.7839721254355401\n",
      "\t.. recall(0): 0.7627118644067796\n",
      "\t.. precision(1): 0.7388059701492538\n",
      "\t.. recall(1): 0.7615384615384615\n",
      "===========================================\n",
      "\n"
     ]
    }
   ],
   "source": [
    "# NOTE: to actually run this cell, please uncomment the following lines.\n",
    "cnn_model = import_model_from_box()"
   ]
  },
  {
   "cell_type": "code",
   "execution_count": 117,
   "metadata": {},
   "outputs": [
    {
     "name": "stdout",
     "output_type": "stream",
     "text": [
      "CancerCNN(\n",
      "  (conv1): Sequential(\n",
      "    (0): Conv2d(3, 32, kernel_size=(9, 9), stride=(1, 1), padding=(4, 4))\n",
      "    (1): Tanh()\n",
      "  )\n",
      "  (conv2): Sequential(\n",
      "    (0): Conv2d(32, 64, kernel_size=(9, 9), stride=(1, 1), padding=(4, 4))\n",
      "    (1): Tanh()\n",
      "  )\n",
      "  (conv3): Sequential(\n",
      "    (0): Conv2d(64, 128, kernel_size=(9, 9), stride=(1, 1), padding=(4, 4))\n",
      "    (1): Tanh()\n",
      "  )\n",
      "  (max_pool_2): MaxPool2d(kernel_size=2, stride=2, padding=0, dilation=1, ceil_mode=False)\n",
      "  (max_pool_5): MaxPool2d(kernel_size=5, stride=5, padding=0, dilation=1, ceil_mode=False)\n",
      "  (fc1): Sequential(\n",
      "    (0): Linear(in_features=128, out_features=32, bias=True)\n",
      "    (1): Tanh()\n",
      "  )\n",
      "  (fc2): Sequential(\n",
      "    (0): Linear(in_features=32, out_features=2, bias=True)\n",
      "    (1): Tanh()\n",
      "  )\n",
      ")\n"
     ]
    }
   ],
   "source": [
    "print(cnn_model)"
   ]
  },
  {
   "cell_type": "markdown",
   "metadata": {},
   "source": [
    "## Time to interpret!"
   ]
  },
  {
   "cell_type": "markdown",
   "metadata": {},
   "source": [
    "In the case of ConvNets on images, instead of just using interpretability methods, we can actually have a look at filters and activations to have an idea of how the model is working. This is conceptually similar to inspecting the weights of a linear model.\n",
    "\n",
    "Let's have a look first at the `conv1` filters."
   ]
  },
  {
   "cell_type": "code",
   "execution_count": 28,
   "metadata": {},
   "outputs": [
    {
     "data": {
      "image/png": "[encoded data removed]",
      "text/plain": [
       "<Figure size 1800x1800 with 1 Axes>"
      ]
     },
     "metadata": {
      "needs_background": "light"
     },
     "output_type": "display_data"
    }
   ],
   "source": [
    "filter_grid = torchvision.utils.make_grid(cnn_model.conv1[0].weight, \n",
    "                                          nrow=8, normalize=True, \n",
    "                                          scale_each=True)\n",
    "filter_grid_pil = torchvision.transforms.functional.to_pil_image(filter_grid)\n",
    "fig = plt.figure(figsize=(25, 25))\n",
    "ax = plt.axes()\n",
    "ax.set_aspect('equal')\n",
    "plt.imshow(filter_grid_pil)\n",
    "plt.axis('off')\n",
    "plt.show()"
   ]
  },
  {
   "cell_type": "markdown",
   "metadata": {},
   "source": [
    "Not very easy to interpret. Maybe let's have a look at the activation maps of the CNN for some given example."
   ]
  },
  {
   "cell_type": "code",
   "execution_count": 30,
   "metadata": {},
   "outputs": [],
   "source": [
    "data = test_set[:]\n",
    "images = data['image']\n",
    "labels = data['label'].numpy()\n",
    "predicted = cnn_model(images, return_argmax=True).detach().numpy()\n",
    "correctly_predicted = (labels == predicted)\n",
    "positive_samples = (predicted == 1)\n",
    "negative_samples = (predicted == 0)\n",
    "\n",
    "TP = (correctly_predicted & positive_samples)\n",
    "TN = (correctly_predicted & negative_samples)\n",
    "FP = (~correctly_predicted & positive_samples)\n",
    "FN = (~correctly_predicted & negative_samples) "
   ]
  },
  {
   "cell_type": "code",
   "execution_count": 31,
   "metadata": {},
   "outputs": [],
   "source": [
    "conv1_activations = cnn_model.conv1(images)\n",
    "conv1_activations_maxed = cnn_model.max_pool_2(conv1_activations)\n",
    "conv2_activations = cnn_model.conv2(conv1_activations_maxed)\n",
    "conv2_activations_maxed = cnn_model.max_pool_5(conv2_activations)\n",
    "conv3_activations = cnn_model.conv3(conv2_activations_maxed)\n",
    "conv3_activations_maxed = cnn_model.max_pool_5(conv3_activations)\n",
    "\n",
    "activations = {\n",
    "    1: {\n",
    "        True: conv1_activations_maxed,\n",
    "        False: conv1_activations\n",
    "    },\n",
    "    2: {\n",
    "        True: conv2_activations_maxed,\n",
    "        False: conv2_activations\n",
    "    },\n",
    "    3: {\n",
    "        True: conv3_activations_maxed,\n",
    "        False: conv3_activations\n",
    "    }\n",
    "}"
   ]
  },
  {
   "cell_type": "code",
   "execution_count": 32,
   "metadata": {},
   "outputs": [],
   "source": [
    "%matplotlib inline\n",
    "def visualize_activations(sample_idx, conv_layer, return_max_activation):\n",
    "    \n",
    "    plt.figure()\n",
    "    plt.imshow(torchvision.transforms.functional.to_pil_image(images[sample_idx]*255))\n",
    "    plt.axis('off')\n",
    "    \n",
    "    fig = plt.figure(figsize=(25, 25))\n",
    "    ax = plt.axes()\n",
    "    plt.title('Predicted: {}, Correct: {}'.format(predicted[sample_idx], labels[sample_idx]),\n",
    "              fontsize=20)\n",
    "    \n",
    "    activs = activations[conv_layer][return_max_activation][sample_idx].unsqueeze(1)\n",
    "    torch_images = torchvision.utils.make_grid(activs, nrow=8, normalize=(conv_layer!=3), \n",
    "                                               pad_value=0.5, scale_each=True)\n",
    "    pil_images = torchvision.transforms.functional.to_pil_image(torch_images)\n",
    "    \n",
    "    plt.axis('off')\n",
    "    plt.imshow(pil_images)\n",
    "    ax.set_aspect('equal')\n",
    "    \n",
    "    plt.show()"
   ]
  },
  {
   "cell_type": "code",
   "execution_count": 33,
   "metadata": {},
   "outputs": [],
   "source": [
    "from ipywidgets import interact, interact_manual"
   ]
  },
  {
   "cell_type": "code",
   "execution_count": 34,
   "metadata": {},
   "outputs": [
    {
     "name": "stdout",
     "output_type": "stream",
     "text": [
      "Correctly predicted as Non-IDC: sample with idx 863\n",
      "Correctly predicted as IDC: sample with idx 1009\n",
      "Misclassified as Non-IDC: sample with idx 1091\n",
      "Misclassified as IDC: sample with idx 716\n"
     ]
    }
   ],
   "source": [
    "tp_sample_idx = np.random.choice(np.argwhere(TP).squeeze())\n",
    "tn_sample_idx = np.random.choice(np.argwhere(TN).squeeze())\n",
    "fp_sample_idx = np.random.choice(np.argwhere(FP).squeeze())\n",
    "fn_sample_idx = np.random.choice(np.argwhere(FN).squeeze())\n",
    "\n",
    "print('Correctly predicted as Non-IDC: sample with idx {}'.format(tn_sample_idx))\n",
    "print('Correctly predicted as IDC: sample with idx {}'.format(tp_sample_idx))\n",
    "print('Misclassified as Non-IDC: sample with idx {}'.format(fn_sample_idx))\n",
    "print('Misclassified as IDC: sample with idx {}'.format(fp_sample_idx))"
   ]
  },
  {
   "cell_type": "code",
   "execution_count": 35,
   "metadata": {
    "scrolled": false
   },
   "outputs": [
    {
     "data": {
      "application/vnd.jupyter.widget-view+json": {
       "model_id": "27a684c426424c7493a5faac3aa7a1f6",
       "version_major": 2,
       "version_minor": 0
      },
      "text/plain": [
       "interactive(children=(Dropdown(description='sample_idx', options=(0, 1, 2, 3, 4, 5, 6, 7, 8, 9, 10, 11, 12, 13…"
      ]
     },
     "metadata": {},
     "output_type": "display_data"
    }
   ],
   "source": [
    "interact(visualize_activations, \n",
    "         sample_idx=range(len(labels)), \n",
    "         conv_layer=[1,2,3], \n",
    "         return_max_activation=[True, False]);"
   ]
  },
  {
   "cell_type": "markdown",
   "metadata": {},
   "source": [
    "## Interpreting with `depiction`!"
   ]
  },
  {
   "cell_type": "markdown",
   "metadata": {},
   "source": [
    "Let's now see what insights can we get with `depiction`. First we wrap our previously implemented CNN model into one of `depiction` interface model. In this case we are gonna use `depiction.models.torch.core.TorchModel`. "
   ]
  },
  {
   "cell_type": "code",
   "execution_count": 37,
   "metadata": {},
   "outputs": [],
   "source": [
    "from skimage.segmentation import quickshift\n",
    "segmenter = lambda x: quickshift(x, kernel_size=4, max_dist=14, ratio=0.4)"
   ]
  },
  {
   "cell_type": "code",
   "execution_count": 38,
   "metadata": {},
   "outputs": [
    {
     "name": "stdout",
     "output_type": "stream",
     "text": [
      "Correctly predicted as Non-IDC: sample with idx 1068\n",
      "Correctly predicted as IDC: sample with idx 973\n",
      "Misclassified as Non-IDC: sample with idx 420\n",
      "Misclassified as IDC: sample with idx 891\n"
     ]
    }
   ],
   "source": [
    "tp_sample_idx = np.random.choice(np.argwhere(TP).squeeze())\n",
    "tn_sample_idx = np.random.choice(np.argwhere(TN).squeeze())\n",
    "fp_sample_idx = np.random.choice(np.argwhere(FP).squeeze())\n",
    "fn_sample_idx = np.random.choice(np.argwhere(FN).squeeze())\n",
    "\n",
    "print('Correctly predicted as Non-IDC: sample with idx {}'.format(tn_sample_idx))\n",
    "print('Correctly predicted as IDC: sample with idx {}'.format(tp_sample_idx))\n",
    "print('Misclassified as Non-IDC: sample with idx {}'.format(fn_sample_idx))\n",
    "print('Misclassified as IDC: sample with idx {}'.format(fp_sample_idx))"
   ]
  },
  {
   "cell_type": "code",
   "execution_count": 39,
   "metadata": {},
   "outputs": [],
   "source": [
    "example = X_test[420] # choose the sample you want to interpret"
   ]
  },
  {
   "cell_type": "markdown",
   "metadata": {},
   "source": [
    "### Excellent, now some gradient! "
   ]
  },
  {
   "cell_type": "code",
   "execution_count": 118,
   "metadata": {},
   "outputs": [],
   "source": [
    "from captum.attr import InputXGradient"
   ]
  },
  {
   "cell_type": "code",
   "execution_count": 119,
   "metadata": {},
   "outputs": [],
   "source": [
    "interpreter = InputXGradient(cnn_model)"
   ]
  },
  {
   "cell_type": "code",
   "execution_count": 120,
   "metadata": {},
   "outputs": [
    {
     "data": {
      "text/plain": [
       "False"
      ]
     },
     "execution_count": 120,
     "metadata": {},
     "output_type": "execute_result"
    }
   ],
   "source": [
    "interpreter.has_convergence_delta()"
   ]
  },
  {
   "cell_type": "code",
   "execution_count": 121,
   "metadata": {},
   "outputs": [
    {
     "data": {
      "text/plain": [
       "(50, 50, 3)"
      ]
     },
     "execution_count": 121,
     "metadata": {},
     "output_type": "execute_result"
    }
   ],
   "source": [
    "example.shape"
   ]
  },
  {
   "cell_type": "code",
   "execution_count": 122,
   "metadata": {},
   "outputs": [],
   "source": [
    "preprocessor = torchvision.transforms.Compose([\n",
    "    torchvision.transforms.ToTensor(),\n",
    "    torchvision.transforms.Normalize([0]*3, [255]*3, inplace=True)\n",
    "])\n",
    "\n",
    "def prepare_sample(samples):\n",
    "    return torch.stack([preprocessor(s) for s in samples])\n"
   ]
  },
  {
   "cell_type": "code",
   "execution_count": 124,
   "metadata": {},
   "outputs": [],
   "source": [
    "samples = prepare_sample(np.expand_dims(example, 0))"
   ]
  },
  {
   "cell_type": "code",
   "execution_count": 125,
   "metadata": {},
   "outputs": [
    {
     "data": {
      "text/plain": [
       "torch.Size([1, 3, 50, 50])"
      ]
     },
     "execution_count": 125,
     "metadata": {},
     "output_type": "execute_result"
    }
   ],
   "source": [
    "samples.shape"
   ]
  },
  {
   "cell_type": "code",
   "execution_count": 126,
   "metadata": {},
   "outputs": [],
   "source": [
    "exp = interpreter.attribute(samples, target=0)"
   ]
  },
  {
   "cell_type": "code",
   "execution_count": 127,
   "metadata": {},
   "outputs": [
    {
     "data": {
      "text/plain": [
       "torch.Size([1, 3, 50, 50])"
      ]
     },
     "execution_count": 127,
     "metadata": {},
     "output_type": "execute_result"
    }
   ],
   "source": [
    "exp.shape"
   ]
  },
  {
   "cell_type": "code",
   "execution_count": 128,
   "metadata": {},
   "outputs": [],
   "source": [
    "exp = np.transpose(exp.detach().numpy()[0], (1, 2, 0))"
   ]
  },
  {
   "cell_type": "code",
   "execution_count": 129,
   "metadata": {},
   "outputs": [
    {
     "data": {
      "text/plain": [
       "(50, 50, 3)"
      ]
     },
     "execution_count": 129,
     "metadata": {},
     "output_type": "execute_result"
    }
   ],
   "source": [
    "exp.shape"
   ]
  },
  {
   "cell_type": "code",
   "execution_count": 143,
   "metadata": {},
   "outputs": [
    {
     "data": {
      "image/png": "[encoded data removed]",
      "text/plain": [
       "<Figure size 432x288 with 1 Axes>"
      ]
     },
     "metadata": {
      "needs_background": "light"
     },
     "output_type": "display_data"
    }
   ],
   "source": [
    "from matplotlib.colors import Normalize\n",
    "\n",
    "normaliser = Normalize()\n",
    "\n",
    "plt.imshow(normaliser(example)[15:, 15: ,:])\n",
    "plt.show()"
   ]
  },
  {
   "cell_type": "code",
   "execution_count": 136,
   "metadata": {},
   "outputs": [
    {
     "data": {
      "image/png": "[encoded data removed]",
      "text/plain": [
       "<Figure size 432x432 with 1 Axes>"
      ]
     },
     "metadata": {
      "needs_background": "light"
     },
     "output_type": "display_data"
    }
   ],
   "source": [
    "from captum.attr import visualization as viz\n",
    "\n",
    "viz.visualize_image_attr(exp, original_image=normaliser(example), \n",
    "                         method=\"blended_heat_map\", sign=\"negative\")\n",
    "plt.show()"
   ]
  },
  {
   "cell_type": "code",
   "execution_count": 137,
   "metadata": {},
   "outputs": [],
   "source": [
    "from captum.attr import IntegratedGradients\n",
    "\n",
    "ig = IntegratedGradients(cnn_model)"
   ]
  },
  {
   "cell_type": "code",
   "execution_count": 139,
   "metadata": {},
   "outputs": [
    {
     "data": {
      "text/plain": [
       "True"
      ]
     },
     "execution_count": 139,
     "metadata": {},
     "output_type": "execute_result"
    }
   ],
   "source": [
    "ig.has_convergence_delta()"
   ]
  },
  {
   "cell_type": "code",
   "execution_count": 173,
   "metadata": {},
   "outputs": [
    {
     "data": {
      "image/png": "[encoded data removed]",
      "text/plain": [
       "<Figure size 432x288 with 1 Axes>"
      ]
     },
     "metadata": {
      "needs_background": "light"
     },
     "output_type": "display_data"
    }
   ],
   "source": [
    "baseline = np.zeros_like(example)\n",
    "baseline[:, :15, :] = example[:, :15, ...]\n",
    "\n",
    "plt.imshow(baseline)\n",
    "plt.show()"
   ]
  },
  {
   "cell_type": "code",
   "execution_count": 174,
   "metadata": {},
   "outputs": [],
   "source": [
    "exp, conv_delta = ig.attribute(prepare_sample(np.expand_dims(example, 0)), \n",
    "                               baselines=prepare_sample(np.expand_dims(baseline, 0)),\n",
    "                               target=0, \n",
    "                               return_convergence_delta=True)"
   ]
  },
  {
   "cell_type": "code",
   "execution_count": 175,
   "metadata": {},
   "outputs": [
    {
     "data": {
      "text/plain": [
       "tensor([-0.0112], dtype=torch.float64)"
      ]
     },
     "execution_count": 175,
     "metadata": {},
     "output_type": "execute_result"
    }
   ],
   "source": [
    "conv_delta"
   ]
  },
  {
   "cell_type": "code",
   "execution_count": 176,
   "metadata": {},
   "outputs": [],
   "source": [
    "exp = np.transpose(exp.detach().numpy()[0], (1, 2, 0))"
   ]
  },
  {
   "cell_type": "code",
   "execution_count": 177,
   "metadata": {},
   "outputs": [
    {
     "data": {
      "image/png": "[encoded data removed]",
      "text/plain": [
       "<Figure size 432x432 with 1 Axes>"
      ]
     },
     "metadata": {
      "needs_background": "light"
     },
     "output_type": "display_data"
    }
   ],
   "source": [
    "viz.visualize_image_attr(exp, original_image=normaliser(example), \n",
    "                         method=\"blended_heat_map\", sign=\"negative\")\n",
    "plt.show()"
   ]
  },
  {
   "cell_type": "markdown",
   "metadata": {},
   "source": [
    "---\n",
    "\n",
    "### References and Further notes\n",
    "\n",
    "The content of this notebook adapts and extends the [\"Breast Cancer IDC Classification\"](https://github.com/IBM/depiction/blob/master/notebooks/Breast%20cancer%20IDC%20classification.ipynb) example notebook from the `IBM/depiction` repository.\n",
    "\n",
    "[IBM `depiction`](https://github.com/IBM/depiction) is *a collection of tools and resources to interpret deep learning models in a framework-independent fashion*.\n",
    "\n",
    "`depiction` is a very promising and well designed tool for model interpretability that aims at providing \n",
    "a (DL) framework agnostic tool for ML/DL models interpretability.\n",
    "\n",
    "`depiction` has a very clear and straightforward design, complemented by a good (internal) documentation.\n",
    "Thus, if you feel confident enough with the Python language, I do strongly encourage to have a look at \n",
    "the `depiction` code implementation (*as I did when creating this notebook, ed.*) to get your bearings \n",
    "into existing tools for model interpretability on which `depiction` depends on to work.\n",
    "\n",
    "Due to its flexibility in (*kind of*) equally supporting interpretation of Keras/TensorFlow as well as \n",
    "PyTorch DL models, `depiction` has a very large set of dependencies (which I did not want to include in \n",
    "this repo), being only interested in supporting PyTorch and `captum`.\n",
    "\n",
    "For more information on [`depiction`](https://github.com/IBM/depiction/blob/master/blogs/ibm_developer/01_depiction.ipynb), and how to  [install](https://github.com/IBM/depiction/blob/master/README.md) the framework (tldr; `docker` to the rescue), I would recommend having a look at the official `depiction` GitHub repository.\n"
   ]
  }
 ],
 "metadata": {
  "kernelspec": {
   "display_name": "Python 3.7 (DL BioMed)",
   "language": "python",
   "name": "dl-biomed"
  },
  "language_info": {
   "codemirror_mode": {
    "name": "ipython",
    "version": 3
   },
   "file_extension": ".py",
   "mimetype": "text/x-python",
   "name": "python",
   "nbconvert_exporter": "python",
   "pygments_lexer": "ipython3",
   "version": "3.7.6"
  }
 },
 "nbformat": 4,
 "nbformat_minor": 2
}
