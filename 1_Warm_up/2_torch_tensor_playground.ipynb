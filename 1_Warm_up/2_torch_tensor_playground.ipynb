{
 "cells": [
  {
   "cell_type": "code",
   "execution_count": 1,
   "metadata": {},
   "outputs": [],
   "source": [
    "%load_ext notexbook"
   ]
  },
  {
   "cell_type": "code",
   "execution_count": 2,
   "metadata": {},
   "outputs": [
    {
     "data": {
      "text/html": [
       "<style type=\"text/css\">\n",
       "    /*\n",
       "Author: Valerio Maggio < @leriomaggio >\n",
       "Code: https://github.com/leriomaggio/notexbook-jupyter-theme\n",
       "License: Apache License 2.0\n",
       "*/\n",
       "\n",
       "/*\n",
       "Author: Valerio Maggio < @leriomaggio >\n",
       "Code: https://github.com/leriomaggio/notexbook-jupyter-theme\n",
       "License: Apache License 2.0\n",
       "\n",
       " ======================================================\n",
       "                         FONTS\n",
       "\n",
       "    FONT WEIGHT MAP:\n",
       "    ----------------\n",
       "    100: Ultra Light\n",
       "    200: Thin\n",
       "    300: Light\n",
       "    400: Regular (normal)\n",
       "    500: Medium\n",
       "    600: Semi-bold\n",
       "    700: Bold\n",
       "    800: Heavy\n",
       "    900: Black\n",
       "\n",
       "    Font faces:\n",
       "        - ====================================|=======================\n",
       "        -              Scope                  | Font Family Name\n",
       "        - ====================================| ======================\n",
       "        - Markdown Display (Computer Modern)    (CMU Serif)\n",
       "        - Markdown Display monospace            (CMU Typewriter Text)\n",
       "        - Markdown Edit    monospace            (Hack)\n",
       "        - Source Code      monospace            (Fira Code)\n",
       "        - ====================================| =======================\n",
       "\n",
       " ======================================================  */\n",
       "\n",
       "/* Roboto Slab */\n",
       "@import url(\"https://fonts.googleapis.com/css2?family=Roboto+Slab:wght@100;200;300;400;500;600;700;800;900&display=swap\");\n",
       "/*md-display-computer-modern --> CMU Serif*/\n",
       "@import url(\"https://fonts.cdnfonts.com/css/cmu-serif?styles=30038,30039,30037,30036\");\n",
       "/*md-display-monospace --> CMU Typewriter Text*/\n",
       "@import url(\"https://fonts.cdnfonts.com/css/cmu-typewriter-text?styles=24833,24829,24830,24831,24832,24834\");\n",
       "/*code-monospace --> Fira Code*/\n",
       "@import url(\"https://fonts.googleapis.com/css2?family=Fira+Code:wght@300;400;500&display=swap\");\n",
       "/*md-edit-monospace --> Hack*/\n",
       "@import url(\"https://fonts.cdnfonts.com/css/hack?styles=20708,20707,20705,20706\");\n",
       "/*\n",
       "Author: Valerio Maggio < @leriomaggio >\n",
       "Code: https://github.com/leriomaggio/notexbook-jupyter-theme\n",
       "License: Apache License 2.0\n",
       "\n",
       "======================================================\n",
       "\n",
       "\n",
       "    ---------------------------------\n",
       "    Code Mirror - Code Cell Highlight\n",
       "    ---------------------------------\n",
       "\n",
       "    Define the Style for Code **and** Markdown editors (Themes)\n",
       "    Theme files are all located in the \"themes\" folder, and the\n",
       "    different styles for the Code and Markdown editors are\n",
       "    distinguished by a common prefix in the file names:\n",
       "\n",
       "        --> Code editors Themes: \"themes/code_*\"\n",
       "        --> Markdown Editor Themes: \"themes/md_*\"\n",
       "\n",
       "    Styles can be imported as separate CSS modules.\n",
       "\n",
       "    Current stylesheet (editor.css) defines the CSS rules\n",
       "    for notebook tags and classes. These rules are\n",
       "    all based to colors defined in external Theme files.\n",
       "\n",
       "    This would ease the definition of other custom CSS Editor themes\n",
       "*/\n",
       "\n",
       "/* Code Editor theme */\n",
       "\n",
       "    /*\n",
       "Author: Valerio Maggio < @leriomaggio >\n",
       "Code: https://github.com/leriomaggio/notexbook-jupyter-theme\n",
       "License: Apache License 2.0\n",
       "\n",
       " ======================================================\n",
       "\n",
       "The color palette is inspired by Light\n",
       " Material Design theme\n",
       "Repo: https://github.com/JonaDuran/Material-Light-Theme/\n",
       "*/\n",
       "\n",
       ":root {\n",
       "    /* Color Palette */\n",
       "    --white: #ffffff;\n",
       "    --light-white: #FAFAFA;\n",
       "    --black: #24292E;\n",
       "    --dark-blue : #01579B11;\n",
       "    --dark-blue-2: #01579B22;\n",
       "    --blue: #1565C0;\n",
       "    --green: #2E7D32;\n",
       "    --yellow: #A8601A;\n",
       "    --cyan: #00838f;\n",
       "    --magenta: #9C00B0;\n",
       "    --red: #C0392B;\n",
       "    --grey: #9E9E9E;\n",
       "    --light-blue: #78909c;\n",
       "\n",
       "\n",
       "    /* Editor Theme */\n",
       "    --code-background-color: var(--light-white);\n",
       "    --gutter-background: var(--light-white);\n",
       "    --selection-background-color: var(--dark-blue-2);\n",
       "    --line-numbers: var(--grey);\n",
       "    --cursor: var(--black);\n",
       "    --bracket: var(--black);\n",
       "    --matching-bracket: var(--blue);\n",
       "    --code-text-color: var(--black);\n",
       "    --keywords: var(--magenta);\n",
       "    --types: var(--magenta);\n",
       "    --variables: var(--code-text-color);\n",
       "    --variables2: var(--green);\n",
       "    --def: var(--blue);\n",
       "    --property: var(--blue);\n",
       "    --meta: var(--light-blue);\n",
       "    --builtin: var(--blue);\n",
       "    --attribute: var(--blue);\n",
       "    --strings: var(--yellow);\n",
       "    --strings2: var(--grey);\n",
       "    --comments: var(--grey);\n",
       "    --operator: var(--magenta);\n",
       "    --numbers: var(--red);\n",
       "    /* Dataframe */\n",
       "    --dataframe: var(--code-text-color);\n",
       "    --df-bg: var(--light-white);\n",
       "    --df-thead: var(--blue);\n",
       "    --df-thead-border: var(--black);\n",
       "    --df-tr-hover: var(--selection-background-color);\n",
       "    --df-border: var(--white);\n",
       "    --df-border-right: var(--grey);\n",
       "    --df-th-bg: var(--white);\n",
       "}\n",
       "\n",
       "\n",
       "\n",
       "/* Markdown Editor theme */\n",
       "\n",
       "    /*\n",
       "Author: Valerio Maggio < @leriomaggio >\n",
       "Code: https://github.com/leriomaggio/notexbook-jupyter-theme\n",
       "License: Apache License 2.0\n",
       "\n",
       " ======================================================\n",
       "\n",
       "    Custom Theme for Markdown Editor\n",
       "    based on Material Clear Theme.\n",
       "\n",
       " */\n",
       "\n",
       ":root {\n",
       "    /* Color Palette */\n",
       "    --md-red: #C0392B;\n",
       "    --md-yellow: #A8601A;\n",
       "    --md-black: #24292E;\n",
       "    --md-grey: #9E9E9E;\n",
       "    --md-blue: #1565C0;\n",
       "    --md-dark-blue: #01579B;\n",
       "    --md-light-blue: #78909c;\n",
       "\n",
       "    /*  Editor Theme  */\n",
       "    --editor-text: var(--md-black);\n",
       "    --header: var(--md-dark-blue);\n",
       "    --quote: var(--md-grey);\n",
       "    --link: var(--md-blue);\n",
       "    --attribute: var(--md-red);\n",
       "    --tag: var(--md-yellow);\n",
       "    --string: var(--md-yellow);\n",
       "    --delimiter: var(--md-black);\n",
       "    --monospace: var(--md-light-blue);\n",
       "}\n",
       "\n",
       "\n",
       "\n",
       "\n",
       "\n",
       "\n",
       "/*\n",
       "    =================\n",
       "    Code Editor Theme\n",
       "    =================\n",
       "*/\n",
       "div.output_error pre,\n",
       "div.output_result pre,\n",
       "div.output_stream pre {\n",
       "    color: var(--code-text-color) !important;\n",
       "}\n",
       "\n",
       ".cm-s-ipython.CodeMirror {\n",
       "    background: var(--code-background-color);\n",
       "    color: var(--code-text-color);\n",
       "}\n",
       "\n",
       ".cm-s-ipython div.CodeMirror-selected {\n",
       "    cursor: pointer;\n",
       "    background: var(--selection-background-color);\n",
       "}\n",
       "\n",
       ".cm-s-ipython .CodeMirror-gutters {\n",
       "    background: var(--gutter-background);\n",
       "    border-right: 0;\n",
       "}\n",
       "\n",
       ".cm-s-ipython .CodeMirror-linenumber {\n",
       "    color: var(--line-numbers);\n",
       "}\n",
       "\n",
       ".cm-s-ipython .CodeMirror-cursor {\n",
       "    border-left: 1px solid var(--cursor) !important;\n",
       "}\n",
       "\n",
       ".cm-s-ipython span.cm-bracket {\n",
       "    /*color: #828282;*/\n",
       "    color: var(--bracket);\n",
       "}\n",
       "\n",
       "span.CodeMirror-matchingbracket {\n",
       "    text-decoration: underline !important;\n",
       "    text-decoration-color: var(--matching-bracket) !important;\n",
       "    color: var(--matching-bracket) !important;\n",
       "}\n",
       "\n",
       ".cm-s-ipython span.cm-keyword {\n",
       "    color: var(--keywords);\n",
       "    font-weight: 500 !important;\n",
       "}\n",
       "\n",
       ".cm-s-ipython span.cm-variable {\n",
       "    color: var(--variables);\n",
       "}\n",
       "\n",
       ".cm-s-ipython span.cm-variable-2 {\n",
       "    color: var(--variables2);\n",
       "}\n",
       "\n",
       ".cm-s-ipython span.cm-def {\n",
       "    color: var(--def);\n",
       "}\n",
       "\n",
       ".cm-s-ipython span.cm-property {\n",
       "    color: var(--property);\n",
       "}\n",
       "\n",
       ".cm-s-ipython span.cm-meta {\n",
       "    color: var(--meta);\n",
       "}\n",
       "\n",
       ".cm-s-ipython span.cm-attribute {\n",
       "    color: var(--attribute);\n",
       "}\n",
       "\n",
       ".cm-s-ipython span.cm-builtin {\n",
       "    color: var(--builtin)\n",
       "}\n",
       "\n",
       ".cm-s-ipython span.cm-string {\n",
       "    color: var(--strings);\n",
       "}\n",
       "\n",
       ".cm-s-ipython span.cm-string-2 {\n",
       "    color: var(--strings2);\n",
       "}\n",
       "\n",
       ".cm-s-ipython span.cm-comment {\n",
       "    color: var(--comments);\n",
       "}\n",
       "\n",
       ".cm-s-ipython span.cm-operator {\n",
       "    color: var(--operator);\n",
       "    font-weight: 500 !important;\n",
       "}\n",
       "\n",
       ".cm-s-ipython span.cm-number {\n",
       "    color: var(--numbers);\n",
       "}\n",
       "\n",
       ".cm-s-ipython span.cm-type {\n",
       "    color: var(--types);\n",
       "}\n",
       "\n",
       "/*\n",
       "==============================\n",
       "Markdown MathJax Customisation\n",
       "==============================\n",
       "*/\n",
       "\n",
       "/*This customisation only applies to Math Display showing the font bigger than normal*/\n",
       ".MathJax_Display {\n",
       "    font-size: 2.2rem;\n",
       "    /*color: rgb(83, 83, 83) !important;*/\n",
       "}\n",
       "\n",
       "/*\n",
       "    Pygments CSS (replacement) for HTML export\n",
       "    ===========================================\n",
       "\n",
       "    Original Pygments CSS rewrite thanks to @rubik\n",
       "    https://github.com/jupyter/nbconvert/issues/447#issuecomment-270766965\n",
       "*/\n",
       "\n",
       ".highlight .hll, div.highlight > pre {\n",
       "    background-color: var(--code-background-color) !important;\n",
       "    color: var(--code-text-color) !important;\n",
       "}\n",
       "\n",
       "/* Comment */\n",
       ".highlight .c {\n",
       "    color: var(--comments);\n",
       "}\n",
       "\n",
       "/* Error */\n",
       ".highlight .err {\n",
       "    color: #960050;\n",
       "    background-color: #1e0010;\n",
       "}\n",
       "\n",
       "/* Keyword */\n",
       ".highlight .k {\n",
       "    color: var(--keywords);\n",
       "    font-weight: 500 !important;\n",
       "}\n",
       "\n",
       "/* Literal */\n",
       ".highlight .l {\n",
       "    color: var(--numbers);\n",
       "}\n",
       "\n",
       "/* Name */\n",
       ".highlight .n {\n",
       "    color: var(--code-text-color);\n",
       "}\n",
       "\n",
       "/* HACK:\n",
       "fix Interpreter mismatch pygments vs codemirror\n",
       "mpl.rcParams <- rcParams will be highlighted as property (as in codemirror)\n",
       "*/\n",
       ".highlight .o + .n {\n",
       "    color: var(--property);\n",
       "}\n",
       "\n",
       "/* Operator */\n",
       ".highlight .o {\n",
       "    color: var(--code-text-color);\n",
       "    font-weight: 500 !important;\n",
       "}\n",
       "\n",
       "/* Punctuation */\n",
       ".highlight .p {\n",
       "    color: var(--code-text-color);\n",
       "}\n",
       "\n",
       "/* Comment.Multiline */\n",
       ".highlight .cm {\n",
       "    color: var(--comments);\n",
       "}\n",
       "\n",
       "/* Comment.Preproc */\n",
       ".highlight .cp {\n",
       "    color: var(--meta);\n",
       "}\n",
       "\n",
       ".highlight .cpf {\n",
       "    color: var(--meta);\n",
       "    font-style: normal;\n",
       "}\n",
       "\n",
       "/* Comment.Single */\n",
       ".highlight .c1 {\n",
       "    color: var(--comments);\n",
       "}\n",
       "\n",
       "/* Comment.Special */\n",
       ".highlight .cs {\n",
       "    color: var(--comments);\n",
       "}\n",
       "\n",
       "/* @ Generic.Deleted */\n",
       ".highlight .gd {\n",
       "    color: var(--red);\n",
       "}\n",
       "\n",
       "/* Generic.Emph */\n",
       ".highlight .ge {\n",
       "    font-style: italic\n",
       "}\n",
       "\n",
       "/* @ Generic.Inserted */\n",
       ".highlight .gi {\n",
       "    color: #a6e22e\n",
       "}\n",
       "\n",
       "/* Generic.Strong */\n",
       ".highlight .gs {\n",
       "    font-weight: 500 !important;\n",
       "}\n",
       "\n",
       "/* @ Generic.Subheading */\n",
       ".highlight .gu {\n",
       "    color: #75715e\n",
       "}\n",
       "\n",
       "/* */\n",
       "\n",
       "/* Keyword.Constant */\n",
       ".highlight .kc {\n",
       "    color: var(--keywords);\n",
       "    font-weight: 500 !important;\n",
       "}\n",
       "\n",
       "/* Keyword.Declaration */\n",
       ".highlight .kd {\n",
       "    color: var(--keywords);\n",
       "    font-weight: 500 !important;\n",
       "}\n",
       "\n",
       "/* Keyword.Namespace */\n",
       ".highlight .kn {\n",
       "    color: var(--keywords);\n",
       "    font-weight: 500 !important;\n",
       "}\n",
       "\n",
       "/* Keyword.Pseudo */\n",
       ".highlight .kp {\n",
       "    color: var(--keywords);\n",
       "    font-weight: 500 !important;\n",
       "}\n",
       "\n",
       "/* Keyword.Reserved */\n",
       ".highlight .kr {\n",
       "    color: var(--keywords);\n",
       "    font-weight: 500 !important;\n",
       "}\n",
       "\n",
       "/* Keyword.Type */\n",
       ".highlight .kt {\n",
       "    color: var(--types);\n",
       "    font-weight: 500 !important;\n",
       "}\n",
       "\n",
       "/* Literal.Date */\n",
       ".highlight .ld {\n",
       "    color: var(--numbers)\n",
       "}\n",
       "\n",
       "/* Literal.Number */\n",
       ".highlight .m {\n",
       "    color: var(--numbers);\n",
       "}\n",
       "\n",
       "/* Literal.String */\n",
       ".highlight .s {\n",
       "    color: var(--string);\n",
       "}\n",
       "\n",
       "/* Name.Attribute */\n",
       ".highlight .na {\n",
       "    color: var(--property);\n",
       "}\n",
       "\n",
       "/* Name.Builtin */\n",
       ".highlight .nb {\n",
       "    color: var(--builtin);\n",
       "}\n",
       "\n",
       "/* Name.Class */\n",
       ".highlight .nc {\n",
       "    color: var(--def);\n",
       "    font-weight: normal !important;\n",
       "}\n",
       "\n",
       "/* @ Name.Constant */\n",
       ".highlight .no {\n",
       "    color: var(--variables2);\n",
       "}\n",
       "\n",
       "/* Name.Decorator */\n",
       ".highlight .nd {\n",
       "    color: var(--builtin);\n",
       "}\n",
       "\n",
       "/* @ Name.Entity */\n",
       ".highlight .ni {\n",
       "    color: var(--variables2);\n",
       "}\n",
       "\n",
       "/* Name.Exception */\n",
       ".highlight .ne {\n",
       "    color: var(--code-text-color);\n",
       "    font-weight: normal !important;\n",
       "}\n",
       "\n",
       "/* Name.Function */\n",
       ".highlight .nf, .highlight .fm {\n",
       "    color: var(--def);\n",
       "}\n",
       "\n",
       "/* @ Name.Label */\n",
       ".highlight .nl {\n",
       "    color: var(--comments);\n",
       "}\n",
       "\n",
       "/* Name.Namespace */\n",
       ".highlight .nn {\n",
       "    color: var(--code-text-color);\n",
       "    font-weight: normal !important;\n",
       "}\n",
       "\n",
       "/* @ Name.Other */\n",
       ".highlight .nx {\n",
       "    color: var(--code-text-color);\n",
       "}\n",
       "\n",
       "/* @ Name.Property */\n",
       ".highlight .py {\n",
       "    color: var(--property);\n",
       "}\n",
       "\n",
       "/* @ Name.Tag */\n",
       ".highlight .nt {\n",
       "    color: var(--tag);\n",
       "}\n",
       "\n",
       "/* @ Name.Variable */\n",
       ".highlight .nv {\n",
       "    color:  var(--variables);\n",
       "}\n",
       "\n",
       "/* Operator.Word */\n",
       ".highlight .ow {\n",
       "    color: var(--operator);\n",
       "    font-weight: 500 !important;\n",
       "}\n",
       "\n",
       "/* @ Text.Whitespace */\n",
       ".highlight .w {\n",
       "    color: var(--code-background-color);\n",
       "\n",
       "}\n",
       "\n",
       "/* Literal.Number.Bin */\n",
       "/* Literal.Number.Float */\n",
       "/* Literal.Number.Hex */\n",
       "/* Literal.Number.Integer */\n",
       "/* Literal.Number.Oct */\n",
       ".highlight .mb,\n",
       ".highlight .mf,\n",
       ".highlight .mh,\n",
       ".highlight .mi,\n",
       ".highlight .mo {\n",
       "    color: var(--numbers);\n",
       "}\n",
       "\n",
       "/* Literal.String.Backtick */\n",
       ".highlight .sb {\n",
       "    color: var(--strings2);\n",
       "}\n",
       "\n",
       ".highlight .sc,  /* Literal.String.Char */\n",
       ".highlight .sd,  /* Literal.String.Doc */\n",
       ".highlight .s2,  /* Literal.String.Double */\n",
       ".highlight .sh,  /* Literal.String.Heredoc */\n",
       ".highlight .si,  /* Literal.String.Interpol */\n",
       ".highlight .sx,  /* Literal.String.Other */\n",
       ".highlight .sr,  /* Literal.String.Regex */\n",
       ".highlight .s1,  /* Literal.String.Single */\n",
       ".highlight .ss  /* Literal.String.Symbol */\n",
       "{\n",
       "    color: var(--strings);\n",
       "    font-style: normal;\n",
       "}\n",
       "\n",
       "/* Literal.String.Escape */\n",
       ".highlight .se {\n",
       "    color: var(--red);\n",
       "}\n",
       "\n",
       "/* Name.Builtin.Pseudo */\n",
       ".highlight .bp {\n",
       "    color: var(--variables2);\n",
       "}\n",
       "\n",
       "/* Name.Variable.Class */\n",
       ".highlight .vc {\n",
       "    color: var(--variables);\n",
       "}\n",
       "\n",
       "/* Name.Variable.Global */\n",
       ".highlight .vg {\n",
       "    color: var(--variables2);\n",
       "}\n",
       "\n",
       "/* Name.Variable.Instance */\n",
       ".highlight .vi {\n",
       "    color: var(--code-text-color);\n",
       "}\n",
       "\n",
       "/* Literal.Number.Integer.Long */\n",
       ".highlight .il {\n",
       "    color: var(--numbers);\n",
       "}\n",
       "\n",
       "/*\n",
       "    Dataframe Colors\n",
       "    ----------------\n",
       "    Adapt Dataframe table to comply with the theme\n",
       "*/\n",
       "\n",
       "table.dataframe {\n",
       "    color: var(--dataframe) !important;\n",
       "}\n",
       "\n",
       "table.dataframe tbody tr th {\n",
       "    background-color: var(--df-bg);\n",
       "}\n",
       "\n",
       "table.dataframe tbody tr:hover {\n",
       "    background-color: var(--df-tr-hover);\n",
       "}\n",
       "\n",
       "table.dataframe td, table.dataframe th {\n",
       "    border: 1px solid var(--df-border);\n",
       "}\n",
       "\n",
       "table.dataframe > th:not(:empty) {\n",
       "    background-color: var(--df-th-bg);\n",
       "}\n",
       "\n",
       "table.dataframe tr:nth-child(2) th:empty,\n",
       "table.dataframe tr:nth-child(2) th:empty {\n",
       "    border-right: 1px dotted var(--df-border-right);\n",
       "}\n",
       "\n",
       "table.dataframe thead tr th:not(:empty) {\n",
       "    color: var(--df-thead);\n",
       "    border-bottom:  1px solid var(--df-thead-border);\n",
       "}\n",
       "\n",
       "/* ANSI colors\n",
       "   stdout / stderr color customisation */\n",
       "\n",
       "span.ansi-green-fg {\n",
       "    /*color: var(--green);*/\n",
       "    color: var(--keywords) !important;\n",
       "}\n",
       "\n",
       "span.ansi-green-intense-fg{\n",
       "    color: var(--dark-grey) !important;\n",
       "}\n",
       "\n",
       "span.ansi-red-fg {\n",
       "    color: var(--red) !important;\n",
       "}\n",
       "\n",
       "span.ansi-cyan-fg {\n",
       "    color: var(--cyan) !important;\n",
       "}\n",
       "\n",
       "span.ansi-blue-fg {\n",
       "    color: var(--blue) !important;\n",
       "}\n",
       "\n",
       "span.ansi-bold {\n",
       "    font-weight: 500 !important;\n",
       "}\n",
       "\n",
       "/* ----------------------------------- */\n",
       "\n",
       "/*\n",
       "    ======================\n",
       "    Markdown Editor Theme\n",
       "    ======================\n",
       "*/\n",
       "\n",
       "div.text_cell.unrendered pre {\n",
       "    color: var(--editor-text) !important;\n",
       "}\n",
       "\n",
       "span.cm-header {\n",
       "    color: var(--header) !important;\n",
       "    font-weight: 500;\n",
       "}\n",
       "\n",
       "span.cm-quote {\n",
       "    color: var(--quote) !important;\n",
       "}\n",
       "\n",
       "span.cm-string.cm-url {\n",
       "    color: var(--link) !important;\n",
       "}\n",
       "\n",
       "span.cm-string {\n",
       "   color: var(--string) !important;\n",
       "}\n",
       "/* Sometimes useful in Mono code Highlighting*/\n",
       "span.cm-string-2 {\n",
       "    color: var(--strings2) !important;\n",
       "}\n",
       "\n",
       "span.cm-link {\n",
       "    color: var(--link) !important;\n",
       "}\n",
       "\n",
       "span.cm-attribute {\n",
       "    color: var(--attribute) !important;\n",
       "}\n",
       "\n",
       "span.cm-tag {\n",
       "    color: var(--tag) !important;\n",
       "}\n",
       "\n",
       "span.cm-delimiter {\n",
       "    color: var(--delimiter) !important;\n",
       "}\n",
       "\n",
       "span.cm-comment {\n",
       "    color: var(--comments) !important;\n",
       "}\n",
       "/*\n",
       "Author: Valerio Maggio < @leriomaggio >\n",
       "Code: https://github.com/leriomaggio/notexbook-jupyter-theme\n",
       "License: Apache License 2.0\n",
       "\n",
       "   ---------------------------------------\n",
       "    CODE CELL OUTPUT (DISPLAY MODE)\n",
       "\n",
       "    Pandas DataFrame - as HTML Table\n",
       "        (includes also HTML tables)\n",
       "\n",
       "\n",
       "   Note: This stylesheet does NOT include\n",
       "   any color nor background color for tables,\n",
       "   as those are assumed to be part of the\n",
       "   Coding colourisation theme.\n",
       "\n",
       "   ---------------------------------------\n",
       "*/\n",
       "table.dataframe {\n",
       "    border-collapse: collapse;\n",
       "    border: none;\n",
       "    margin-left: 20px !important;\n",
       "    font-size: 14px !important;\n",
       "}\n",
       "\n",
       "table.dataframe thead {\n",
       "    padding-bottom: 10px;\n",
       "}\n",
       "\n",
       "table.dataframe thead tr {\n",
       "    font-style: normal;\n",
       "    padding: 5px 10px;\n",
       "    border-bottom:  1px solid;\n",
       "    vertical-align: middle;\n",
       "    text-align: center;\n",
       "    empty-cells: hide;\n",
       "}\n",
       "\n",
       "table.dataframe thead tr th,\n",
       "table.dataframe thead tr:only-child th {\n",
       "    vertical-align: middle;\n",
       "    text-align: center;\n",
       "}\n",
       "\n",
       "table.dataframe tbody {\n",
       "    padding-top:  5px;\n",
       "}\n",
       "\n",
       "table.dataframe tbody tr {\n",
       "}\n",
       "\n",
       "table.dataframe tbody tr th {\n",
       "    text-align: left;\n",
       "    font-style: italic\n",
       "}\n",
       "\n",
       "table.dataframe tbody tr td {\n",
       "    padding-left: 1.0rem;\n",
       "    padding-right: 1.0rem;\n",
       "}\n",
       "\n",
       "table.dataframe tr {\n",
       "    border: none;\n",
       "}\n",
       "\n",
       "table.dataframe td,\n",
       "table.dataframe th {\n",
       "    padding-left: 0.25em;\n",
       "    padding-right: 0.25em;\n",
       "}\n",
       "\n",
       "table.dataframe > th:not(:empty) {\n",
       "    text-align: left;\n",
       "    padding: 0 10px;\n",
       "    font-style: italic\n",
       "}\n",
       "\n",
       "table.dataframe tr:nth-child(2) th:empty,\n",
       "table.dataframe tr:nth-child(2) th:empty {\n",
       "    border-left: none;\n",
       "}\n",
       "\n",
       "table.dataframe td {\n",
       "    padding: 0.375em 1em;\n",
       "}\n",
       "\n",
       "table.dataframe thead {\n",
       "\tpadding: 10px 0;\n",
       "\tfont-weight: bold;\n",
       "}\n",
       "\n",
       "table.dataframe thead tr th:not(:empty) {\n",
       "    text-align: left;\n",
       "    font-style: normal;\n",
       "    padding: 5px 10px;\n",
       "}\n",
       "\n",
       "/* Hacking Font-weight bold capped at 500 */\n",
       ".rendered_html th {\n",
       "    font-weight: 500 !important;\n",
       "}\n",
       ":root {\n",
       "    /* Jupyter Lab Integration (Light Theme) */\n",
       "    --jp-content-font-color1: var(--txbk-content-color);\n",
       "    --jp-content-font-family: var(--txbk-content-font-family);\n",
       "    --jp-content-line-height: var(--txbk-content-line-height);\n",
       "    --jp-content-link-color: var(--link-color);\n",
       "    --jp-content-font-size: var(--txbk-content-font-size);\n",
       "\n",
       "    --jp-code-font-size: var(--txbk-ui-mono-font-size);\n",
       "    --jp-code-line-height: var(--txbk-ui-mono-line-height);\n",
       "    --jp-code-padding: 5px;\n",
       "    --jp-code-font-family-default: var(--txbk-code-font-family);\n",
       "    --jp-code-font-family: var(--jp-code-font-family-default);\n",
       "    --jp-code-presentation-font-size: var(--txbk-ui-mono-font-size);\n",
       "    --jp-content-heading-font-weight: 500;\n",
       "    --jp-content-heading-line-height: 1;\n",
       "\n",
       "    --jp-cell-prompt-font-family: var(--txbk-code-font-family);\n",
       "\n",
       "    --jp-layout-color0: var(--code-background-color);\n",
       "    --jp-cell-prompt-not-active-font-color: #aba9a9;\n",
       "}\n",
       "\n",
       "/* body class*/\n",
       "\n",
       "body.jp-Notebook {\n",
       "\n",
       "    background-color: var(--background-color) !important;\n",
       "    font-weight: 300;\n",
       "    font-family: var(--txbk-ui-font-family);\n",
       "    color: var(--txbk-ui-color);\n",
       "    overflow: inherit;\n",
       "    vertical-align: middle;\n",
       "    font-size: var(--txbk-ui-font-size);\n",
       "}\n",
       "\n",
       "\n",
       "/* MARKDOWN CELLS DISPLAY MODE */\n",
       "\n",
       "div.jp-RenderedHTMLCommon {\n",
       "    font-family: var(--txbk-content-font-family) !important;\n",
       "    font-size: var(--txbk-content-font-size) !important;\n",
       "    color: var(--txbk-content-color) !important;\n",
       "    font-kerning: auto;\n",
       "    text-align: justify !important;\n",
       "    display: block;\n",
       "    word-break: normal !important;\n",
       "    word-wrap: break-word !important;\n",
       "}\n",
       "\n",
       "div.jp-RenderedHTMLCommon a {\n",
       "    color: var(--link-color) !important;\n",
       "}\n",
       "\n",
       "div.jp-RenderedHTMLCommon h1,\n",
       "div.jp-RenderedHTMLCommon h2,\n",
       "div.jp-RenderedHTMLCommon h3,\n",
       "div.jp-RenderedHTMLCommon h4,\n",
       "div.jp-RenderedHTMLCommon h5,\n",
       "div.jp-RenderedHTMLCommon h6 {\n",
       "    font-family:  var(--txbk-content-font-family) !important;\n",
       "    font-style: normal !important;\n",
       "}\n",
       "\n",
       "/* Font-sizes for headers */\n",
       "div.jp-RenderedHTMLCommon h1 {\n",
       "    font-size: 4.2rem !important;\n",
       "    text-align: center !important;\n",
       "    padding-top:  3rem;\n",
       "    padding-bottom: 3rem;\n",
       "}\n",
       "\n",
       "div.jp-RenderedHTMLCommon h2 {\n",
       "    font-size: 3.8rem !important;\n",
       "}\n",
       "\n",
       "div.jp-RenderedHTMLCommon h3 {\n",
       "    font-size: 3.4rem !important;\n",
       "}\n",
       "\n",
       "div.jp-RenderedHTMLCommon h4 {\n",
       "    font-size: 3rem !important;\n",
       "}\n",
       "\n",
       "div.jp-RenderedHTMLCommon h5 {\n",
       "    font-size: 2.6rem !important;\n",
       "}\n",
       "\n",
       "div.jp-RenderedHTMLCommon h6 {\n",
       "    font-size: 2.2rem !important;\n",
       "    border-bottom: 1px solid rgb(204, 204, 204);\n",
       "}\n",
       "\n",
       "div.jp-RenderedHTMLCommon p,\n",
       "div.jp-RenderedHTMLCommon pre,\n",
       "div.jp-RenderedHTMLCommon code {\n",
       "    font-size: 1em !important;\n",
       "    color: var(--code-text-color)  /* REMOVED useless color forcing */;\n",
       "}\n",
       "\n",
       "/* Monospace Code - no code syntax highlight*/\n",
       "div.jp-RenderedHTMLCommon pre {\n",
       "    /* hack: using code background colour here to allow for compatibility */\n",
       "    background-color: var(--code-background-color) !important;\n",
       "    font-family: var(--txbk-content-mono-font-family) !important;\n",
       "}\n",
       "\n",
       "div.jp-RenderedHTMLCommon p {\n",
       "    line-height: var(--txbk-content-line-height);\n",
       "    text-align: justify !important;\n",
       "}\n",
       "\n",
       "div.jp-RenderedHTMLCommon p code {\n",
       "    background-color: var(--txbk-content-mono-bgcolor) !important;\n",
       "    font-size: var(--txbk-content-mono-font-size) !important;\n",
       "}\n",
       "\n",
       "div.jp-RenderedHTMLCommon p strong code {\n",
       "    font-weight: bold !important;\n",
       "}\n",
       "\n",
       "div.jp-RenderedHTMLCommon p em code {\n",
       "    font-style: italic !important;\n",
       "}\n",
       "\n",
       "div.jp-RenderedHTMLCommon pre code {\n",
       "\n",
       "    /*--txbk-ui-mono-line-height: 1.3;*/\n",
       "\n",
       "    font-size: 1em !important;\n",
       "    padding: 1rem 1.5rem;\n",
       "    display: block !important;\n",
       "    color: var(--txkb-content-mono-color) !important;\n",
       "    background-color: var(--txbk-content-mono-bgcolor) !important;\n",
       "    font-family: var(--txbk-content-mono-font-family) !important;\n",
       "    word-wrap: break-word;\n",
       "    word-break: normal;\n",
       "}\n",
       "\n",
       "div.jp-RenderedHTMLCommon blockquote {\n",
       "    --txbk-ui-color: #6f6f6f !important;\n",
       "\n",
       "    margin: 2rem .2rem !important;\n",
       "    padding: .3rem .5rem !important;\n",
       "    border-left: .3rem solid #a7a7a7 !important;\n",
       "}\n",
       "\n",
       "div.jp-RenderedHTMLCommon blockquote p {\n",
       "    padding: .2rem 1.5rem;\n",
       "}\n",
       "\n",
       "div.jp-RenderedHTMLCommon table {\n",
       "    font-size: var(--txbk-content-font-size) !important;\n",
       "    border-collapse: collapse;\n",
       "    border-spacing: 0;\n",
       "    overflow: auto;\n",
       "    break-inside: auto;\n",
       "    text-align: left;\n",
       "    margin-top: 25px;\n",
       "}\n",
       "\n",
       "div.jp-RenderedHTMLCommon table thead {\n",
       "    display: table-header-group;\n",
       "    vertical-align: middle !important;\n",
       "    border-bottom: none !important;\n",
       "}\n",
       "\n",
       "div.jp-RenderedHTMLCommon table thead tr,\n",
       "div.jp-RenderedHTMLCommon table thead tr th,\n",
       "div.jp-RenderedHTMLCommon table thead tr td,\n",
       "div.jp-RenderedHTMLCommon table tbody tr,\n",
       "div.jp-RenderedHTMLCommon table tbody tr th,\n",
       "div.jp-RenderedHTMLCommon table tbody tr td {\n",
       "    break-inside: avoid;\n",
       "    break-after: auto;\n",
       "    text-align: left !important;\n",
       "    vertical-align: middle !important;\n",
       "}\n",
       "\n",
       "div.jp-RenderedHTMLCommon table tr th {\n",
       "    border-bottom-width: 0;\n",
       "}\n",
       "\n",
       "div.jp-RenderedHTMLCommon ul,\n",
       "div.jp-RenderedHTMLCommon ol {\n",
       "    position: relative;\n",
       "    display: block;\n",
       "    margin-bottom: 0 !important;\n",
       "    line-height: var(--txbk-content-line-height);\n",
       "}\n",
       "\n",
       "div.jp-RenderedHTMLCommon ul {\n",
       "    list-style-type: disc;\n",
       "}\n",
       "\n",
       "div.jp-RenderedHTMLCommon ul li,\n",
       "div.jp-RenderedHTMLCommon ol li {\n",
       "    /*white-space: pre-wrap;*/\n",
       "    padding: .8rem !important;\n",
       "}\n",
       "\n",
       "div.jp-RenderedHTMLCommon ul li > code,\n",
       "div.jp-RenderedHTMLCommon ol li > code {\n",
       "    font-size: .9em !important\n",
       "}\n",
       "\n",
       "div.jp-RenderedHTMLCommon ul li a code,\n",
       "div.jp-RenderedHTMLCommon ol li a code {\n",
       "    font-size: .9em !important\n",
       "}\n",
       "\n",
       "div.jp-RenderedHTMLCommon ul ul {\n",
       "    list-style-type: circle !important;\n",
       "}\n",
       "\n",
       "div.jp-RenderedHTMLCommon ul ul,\n",
       "div.jp-RenderedHTMLCommon ul ol,\n",
       "div.jp-RenderedHTMLCommon ol ul,\n",
       "div.jp-RenderedHTMLCommon ol ol {\n",
       "    padding-top: .5rem !important;\n",
       "}\n",
       "\n",
       "div.jp-RenderedHTMLCommon ul li > ul li,\n",
       "div.jp-RenderedHTMLCommon ul li > ol li,\n",
       "div.jp-RenderedHTMLCommon ol li > ul li,\n",
       "div.jp-RenderedHTMLCommon ol li > ol li {\n",
       "    padding: .5rem !important;\n",
       "}\n",
       "\n",
       "div.jp-RenderedHTMLCommon ul li > ul li code,\n",
       "div.jp-RenderedHTMLCommon ul li > ol li code,\n",
       "div.jp-RenderedHTMLCommon ol li > ul li code,\n",
       "div.jp-RenderedHTMLCommon ol li > ol li code {\n",
       "    font-size: .9em !important;\n",
       "}\n",
       "\n",
       "div.jp-RenderedHTMLCommon ul li > ul li a code,\n",
       "div.jp-RenderedHTMLCommon ul li > ol li a code,\n",
       "div.jp-RenderedHTMLCommon ol li > ul li a code,\n",
       "div.jp-RenderedHTMLCommon ol li > ol li a code {\n",
       "    font-size: .9em !important;\n",
       "    color: var(--link-color);\n",
       "}\n",
       "\n",
       "div.jp-RenderedHTMLCommon ul ul ul {\n",
       "    list-style-type: square !important;\n",
       "}\n",
       "\n",
       "div.jp-RenderedHTMLCommon p > img:only-child {\n",
       "    display: block;\n",
       "    margin: auto;\n",
       "    max-width: 70% !important;\n",
       "}\n",
       "\n",
       "div.jp-RenderedHTMLCommon img {\n",
       "    max-width: 70%;\n",
       "}\n",
       "\n",
       "div.jp-InputPrompt{\n",
       "    color: #aba9a9 !important;\n",
       "    font-style: normal !important;\n",
       "    font-size: 1.4rem;\n",
       "    opacity: 1 !important;\n",
       "}\n",
       "\n",
       "\n",
       "div.jp-OutputPrompt {\n",
       "    color: transparent !important;\n",
       "}\n",
       "\n",
       "\n",
       "/* Code export */\n",
       "\n",
       ".cm-s-jupyter.CodeMirror {\n",
       "\n",
       "    background: var(--code-background-color);\n",
       "    color: var(--code-text-color);\n",
       "}\n",
       "\n",
       "/* Img MaxW classes */\n",
       "div.jp-RenderedHTMLCommon img.maxw10,\n",
       "div.jp-RenderedHTMLCommon p > img.maxw10 {\n",
       "    max-width: 10% !important;\n",
       "}\n",
       "\n",
       "div.jp-RenderedHTMLCommon img.maxw15,\n",
       "div.jp-RenderedHTMLCommon p > img.maxw15 {\n",
       "    max-width: 15% !important;\n",
       "}\n",
       "\n",
       "div.jp-RenderedHTMLCommon img.maxw20,\n",
       "div.jp-RenderedHTMLCommon p > img.maxw20 {\n",
       "    max-width: 20% !important;\n",
       "}\n",
       "\n",
       "div.jp-RenderedHTMLCommon img.maxw25,\n",
       "div.jp-RenderedHTMLCommon p > img.maxw25 {\n",
       "    max-width: 25% !important;\n",
       "}\n",
       "\n",
       "div.jp-RenderedHTMLCommon img.maxw30,\n",
       "div.jp-RenderedHTMLCommon p > img.maxw30 {\n",
       "    max-width: 30% !important;\n",
       "}\n",
       "\n",
       "div.jp-RenderedHTMLCommon img.maxw40,\n",
       "div.jp-RenderedHTMLCommon p > img.maxw40 {\n",
       "    max-width: 40% !important;\n",
       "}\n",
       "\n",
       "div.jp-RenderedHTMLCommon img.maxw50,\n",
       "div.jp-RenderedHTMLCommon p > img.maxw50 {\n",
       "    max-width: 50% !important;\n",
       "}\n",
       "\n",
       "div.jp-RenderedHTMLCommon img.maxw80,\n",
       "div.jp-RenderedHTMLCommon p > img.maxw80 {\n",
       "    max-width: 80% !important;\n",
       "}\n",
       "\n",
       "div.jp-RenderedHTMLCommon img.maxw85,\n",
       "div.jp-RenderedHTMLCommon p > img.maxw85 {\n",
       "    max-width: 85% !important;\n",
       "}\n",
       "\n",
       "div.jp-RenderedHTMLCommon img.maxw90,\n",
       "div.jp-RenderedHTMLCommon p > img.maxw90 {\n",
       "    max-width: 90% !important;\n",
       "}\n",
       "\n",
       "div.jp-RenderedHTMLCommon img.maxw100,\n",
       "div.jp-RenderedHTMLCommon p > img.maxw100 {\n",
       "    max-width: 100% !important;\n",
       "}\n",
       "\n",
       "/*\n",
       "Overlay with Shadow for Code Cell Selected !\n",
       "*/\n",
       ".jp-CodeCell.jp-mod-active.jp-mod-selected:not(.jp-mod-multiSelected) {\n",
       "    border: none;\n",
       "    background: transparent;\n",
       "    box-shadow: 0 6px 18px #aaa;\n",
       "    z-index: 10;\n",
       "    top: -10px;\n",
       "}\n",
       "\n",
       "/* Standard Error */\n",
       ".jp-RenderedText[data-mime-type='application/vnd.jupyter.stderr'] {\n",
       "    background: none !important;\n",
       "}\n",
       "\n",
       "\n",
       "\n",
       "\n",
       "/* ======================================================\n",
       "                         GLOBALS\n",
       "   ======================================================\n",
       "*/\n",
       "\n",
       "\n",
       ":root {\n",
       "    /* Base colors */\n",
       "    --texbook-red: #d43133;\n",
       "    --texbook-pink: #D14187;\n",
       "    --texbook-turquoise: #009489;\n",
       "    --texbook-azure: #00afde;\n",
       "    --texbook-blue: #2875d9;\n",
       "    --texbook-light-grey: #828282;\n",
       "    --texbook-dark-grey: rgb(56, 56, 56);\n",
       "\n",
       "    /* Font formatting */\n",
       "    --background-color: #ffffff;\n",
       "    --txbk-ui-font-family: \"Roboto Slab\", \"Helvetica Neue\", Helvetica, Arial, sans-serif;\n",
       "    --txbk-ui-color: rgb(51, 51, 51);\n",
       "    --txbk-ui-font-size: 14px;\n",
       "    --txbk-ui-line-height: 1;\n",
       "\n",
       "    --txbk-ui-header-font-family: \"Roboto Slab\", \"Helvetica Neue\", Helvetica, Arial, sans-serif;\n",
       "    --txbk-ui-header-color: rgb(56, 56, 56);\n",
       "\n",
       "    --txbk-ui-mono-color: #828282;\n",
       "    --txbk-ui-mono-font-size: 15px;\n",
       "    --txbk-ui-mono-line-height: 1.4;\n",
       "\n",
       "    /* Content Formatting */\n",
       "    --txbk-content-font-family: \"CMU Serif\", \"Times New Roman\", serif;\n",
       "    --txbk-content-font-size: 19px;\n",
       "    --txbk-content-color: rgb(51, 51, 51);\n",
       "    --txbk-content-line-height: 1.4;\n",
       "\n",
       "    --txbk-content-mono-font-family: \"CMU Typewriter Text\", \"Fira Code\", \"Fira Code\", monospace;\n",
       "    --txbk-content-mono-font-size: 16px;\n",
       "    --txkb-content-mono-color: var(--texbook-dark-grey);\n",
       "    --txbk-content-mono-bgcolor: var(--code-background-color);\n",
       "\n",
       "    --txbk-code-font-family: \"Fira Code\", \"Fira Code\", monospace;\n",
       "    --txbk-md-font-family: \"Hack\", \"Hack\", monospace;\n",
       "    --txbk-code-font-size: 16px;\n",
       "    --txbk-code-line-height: 1.6;\n",
       "    --txkb-code-color: var(--code-text-color);\n",
       "    --txbk-code-bgcolor: var(--code-background-color);\n",
       "\n",
       "    --link-color: #2875d9;\n",
       "    --del-color: #d43133;\n",
       "    --drop-cap-color: #d43133;\n",
       "\n",
       "    --kernel-name-color: #00afde;\n",
       "    --kernel-idle: #009489;\n",
       "    --kernel-busy: #D14187;\n",
       "    --kernel-disconnected: #d43133;\n",
       "    --btn-warning: #D14187;\n",
       "    --btn-danger: #d43133;\n",
       "    --running-notebook: #009489;\n",
       "\n",
       "    --cell-display-border: #009489;\n",
       "    --cell-edit-border: #d43133;\n",
       "}\n",
       "\n",
       "html {\n",
       "    font-size: 10px;\n",
       "}\n",
       "\n",
       "body {\n",
       "\n",
       "    background-color: var(--background-color) !important;\n",
       "    font-weight: 300;\n",
       "    font-family: var(--txbk-ui-font-family);\n",
       "    color: var(--txbk-ui-color);\n",
       "    overflow: inherit;\n",
       "    vertical-align: middle;\n",
       "    font-size: var(--txbk-ui-font-size);\n",
       "}\n",
       "\n",
       "h1, h2, h3, h4, h5, h6, label > strong {\n",
       "    font-family: var(--txbk-ui-header-font-family);\n",
       "    color: var(--txbk-ui-header-color);\n",
       "}\n",
       "\n",
       "h1 img, h2 img , h3 img, h4 img, h5 img, h6 img {\n",
       "    display: inline !important;\n",
       "}\n",
       "\n",
       "h1 {\n",
       "    font-weight: bold;\n",
       "    font-style: normal;\n",
       "}\n",
       "\n",
       "h2 {\n",
       "    font-weight: bold;\n",
       "    font-style: italic;\n",
       "}\n",
       "\n",
       "h3 {\n",
       "    font-weight: 600;\n",
       "    font-style: normal;\n",
       "}\n",
       "\n",
       "h4 {\n",
       "    font-weight: 500;\n",
       "    font-style: normal;\n",
       "}\n",
       "\n",
       "h5, h6 {\n",
       "    font-weight: 500;\n",
       "    font-style: italic;\n",
       "}\n",
       "\n",
       "code, kbd, pre, samp {\n",
       "    font-family: var(--txbk-code-font-family) !important;\n",
       "    color: var(--txbk-ui-mono-color);\n",
       "    font-weight: 400;\n",
       "    font-size: var(--txbk-ui-mono-font-size) !important;\n",
       "    line-height: var(--txbk-ui-mono-line-height) !important;\n",
       "}\n",
       "\n",
       "table > thead > tr > td.info,\n",
       "table > tbody > tr > td.info,\n",
       "table > tfoot > tr > td.info,\n",
       "table > thead > tr > th.info,\n",
       "table > tbody > tr > th.info,\n",
       "table > tfoot > tr > th.info,\n",
       "table > thead > tr.info > td,\n",
       "table > tbody > tr.info > td,\n",
       "table > tfoot > tr.info > td,\n",
       "table > thead > tr.info > th,\n",
       "table > tbody > tr.info > th,\n",
       "table > tfoot > tr.info > th {\n",
       "    background-color: #d9edf7;\n",
       "}\n",
       "\n",
       "del {\n",
       "    color: var(--del-color) !important;\n",
       "}\n",
       "\n",
       "/* ======================================================\n",
       "                 Intro/Home Page Server\n",
       "   ======================================================\n",
       "*/\n",
       "\n",
       "#ipython-main-app p {\n",
       "    text-align: justify !important;\n",
       "}\n",
       "\n",
       ".toolbar_info,\n",
       ".list-container {\n",
       "    color: #828282;\n",
       "}\n",
       "\n",
       ".list_placeholder {\n",
       "    font-family: \"Roboto Slab\", serif !important;\n",
       "    font-weight: 300;\n",
       "    font-style: normal;\n",
       "}\n",
       "\n",
       "a.item_link {\n",
       "    color: var(--link-color);\n",
       "    font-weight: 300;\n",
       "}\n",
       "\n",
       ".item_buttons .kernel-name {\n",
       "    color: var(--kernel-name-color);\n",
       "    font-weight: 400;\n",
       "}\n",
       "\n",
       ".btn-warning {\n",
       "    background-color: var(--btn-warning) !important;\n",
       "    border-color: var(--btn-warning) !important;\n",
       "}\n",
       "\n",
       ".btn-warning:focus {\n",
       "    border-color: var(--btn-warning) !important;\n",
       "}\n",
       "\n",
       ".btn-danger {\n",
       "    background-color: var(--btn-danger) !important;\n",
       "    border-color: var(--btn-danger) !important;\n",
       "}\n",
       "\n",
       ".btn-danger:focus {\n",
       "    border-color: var(--btn-danger) !important;\n",
       "}\n",
       "\n",
       ".running-indicator,\n",
       ".running_notebook_icon:before {\n",
       "    color: var(--running-notebook);\n",
       "}\n",
       "\n",
       "\n",
       "\n",
       "/* ======================================================\n",
       "                         Notebook\n",
       "   ======================================================\n",
       "*/\n",
       "\n",
       "/* Modal Dialog */\n",
       "\n",
       ".modal-header > h4 {\n",
       "    font-style: normal !important;\n",
       "    text-decoration: none !important;\n",
       "    font-family: var(--txbk-ui-font-family) !important;\n",
       "    margin: 0 !important;\n",
       "}\n",
       "\n",
       ".notebook_app {\n",
       "    background-color: var(--background-color) !important;\n",
       "    font-family: \"Helvetica Neue\", Helvetica, Arial, sans-serif !important;\n",
       "    font-weight: normal;\n",
       "}\n",
       "\n",
       "div#notebook_name {\n",
       "    font-family: var(--txbk-ui-font-family) !important;\n",
       "    font-weight: normal;\n",
       "    font-size: 24px;\n",
       "    padding: 1px 7px 1px 1px;\n",
       "}\n",
       "\n",
       "div#site {\n",
       "\toverflow: inherit;\n",
       "    top: 112px;\n",
       "    position: absolute;\n",
       "}\n",
       "\n",
       "#header {\n",
       "    display: block;\n",
       "    position: fixed !important;\n",
       "    top: 0;\n",
       "    width: 100%;\n",
       "    max-width: 100%;\n",
       "    height: fit-content;\n",
       "    background-color: var(--background-color);\n",
       "}\n",
       "\n",
       "#notebook-container {\n",
       "    /* Remove shadow so that it looks like a page of a PDF doc */\n",
       "    box-shadow: none !important;\n",
       "    -webkit-box-shadow: none !important;\n",
       "    padding: 0;\n",
       "}\n",
       "\n",
       ".prompt {\n",
       "    font-family: var(--txbk-code-font-family) !important;\n",
       "    font-style: normal;\n",
       "    font-size: 1rem;\n",
       "    text-align: right;\n",
       "    line-height: 1rem;\n",
       "}\n",
       "\n",
       "div#notebook {\n",
       "    border-top: none;\n",
       "    font-size: 1rem;\n",
       "    padding: 0 !important;\n",
       "    padding-top: 30px !important;\n",
       "    font-family: var(--txbk-content-font-family) !important;\n",
       "}\n",
       "\n",
       ".kernel_idle_icon:before {\n",
       "    color: var(--kernel-idle);\n",
       "}\n",
       "\n",
       ".kernel_busy_icon:before {\n",
       "    color: var(--kernel-busy);\n",
       "}\n",
       "\n",
       ".kernel_disconnected_icon:before {\n",
       "    color: var(--kernel-disconnected);\n",
       "}\n",
       "\n",
       "#notification_area {\n",
       "    font-family: var(--txbk-ui-font-family);\n",
       "}\n",
       "\n",
       "#notification_kernel {\n",
       "    color: #fff;\n",
       "    background-color: var(--kernel-idle);\n",
       "    border-color: var(--kernel-idle);\n",
       "}\n",
       "\n",
       "#notification_kernel.warning {\n",
       "    color: #fff;\n",
       "    background-color: var(--kernel-disconnected);\n",
       "    border-color: var(--kernel-disconnected);\n",
       "}\n",
       "\n",
       "#notification_trusted {\n",
       "    border-color: var(--kernel-disconnected);\n",
       "}\n",
       "\n",
       "#notification_trusted[disabled=\"disabled\"] {\n",
       "    border-color: var(--kernel-idle);\n",
       "}\n",
       "\n",
       "\n",
       "#notification_notebook {\n",
       "    border-color: var(--kernel-idle);\n",
       "}\n",
       "\n",
       "/* -----------------------------------\n",
       "    CELLS\n",
       "   -----------------------------------\n",
       "*/\n",
       "\n",
       "div.cell {\n",
       "    padding: 12px 0 5px 0 !important;\n",
       "    right: 2px;\n",
       "    border:  none;\n",
       "}\n",
       "\n",
       "div.cell .inner_cell {\n",
       "    padding-left: 5px;\n",
       "    border-right: 5px solid var(--background-color);\n",
       "    border-left:  0.1rem dotted var(--background-color);\n",
       "}\n",
       "\n",
       "div.cell.selected {\n",
       "    border-radius: 0;\n",
       "}\n",
       "\n",
       "\n",
       "div.cell.selected {\n",
       "    border: none;\n",
       "    background: none !important;\n",
       "}\n",
       "\n",
       "div.cell.selected .inner_cell {\n",
       "    /* left and right border on current cell */\n",
       "    border-left:  0.1rem dotted lightgrey;\n",
       "    /* coloured and visible */\n",
       "    border-right: 5px solid var(--cell-display-border);\n",
       "    /*margin-right: -2px;*/\n",
       "}\n",
       "\n",
       "div.code_cell.selected .inner_cell {\n",
       "    border-left: 0 !important;\n",
       "}\n",
       "\n",
       ".edit_mode div.code_cell.selected .inner_cell,\n",
       "div.text_cell.selected.unrendered .inner_cell {\n",
       "    border-left: none;\n",
       "    border-right: 5px solid var(--cell-edit-border);\n",
       "}\n",
       "\n",
       "/*\n",
       "Overlay with Shadow for Code Cell Selected !\n",
       "*/\n",
       "div.code_cell.selected, div.code_cell.selected.jupyter-soft-selected {\n",
       "    border: none;\n",
       "    background: transparent;\n",
       "    box-shadow: 0 6px 18px #aaa;\n",
       "    z-index: 10;\n",
       "    top: -10px;\n",
       "}\n",
       "\n",
       "div.cell.selected:before, div.cell.selected.jupyter-soft-selected:before {\n",
       "    position: absolute;\n",
       "    display: none;\n",
       "    top: -1px;\n",
       "    left: -1px;\n",
       "    width: 0;\n",
       "    height: calc(100% + 2px);\n",
       "    content: '';\n",
       "    background: none;\n",
       "}\n",
       "\n",
       "div.cell.selected div.input:before {\n",
       "    display: inline-block;\n",
       "    position: absolute;\n",
       "    content: \"\\279E\";\n",
       "    font-size: 1.8rem;\n",
       "    top: 14px;\n",
       "    /*top: 40px;*/\n",
       "    width: 10px;\n",
       "    left: 30px;\n",
       "    /*left: 15px;*/\n",
       "    color: var(--cell-display-border);\n",
       "    font-weight: bold !important;\n",
       "}\n",
       "\n",
       "/* Cell Input and Output */\n",
       "\n",
       "div.input_prompt {\n",
       "    color: #aba9a9;\n",
       "    font-style: normal !important;\n",
       "    font-size: 1.4rem;\n",
       "}\n",
       "\n",
       "/* FIX: Fixing Empty cell output in HTML export */\n",
       "div.output_prompt {\n",
       "    color: transparent !important;\n",
       "}\n",
       "\n",
       "div.input_prompt bdi,\n",
       "div.output_prompt bdi {\n",
       "    line-height: 0;\n",
       "    font-size:0;\n",
       "    color: transparent;\n",
       "    left: -10000px;\n",
       "    content: \"\\21E2\";\n",
       "\n",
       "}\n",
       "\n",
       "div.output_wrapper {\n",
       "    margin-top: 8px;\n",
       "}\n",
       "\n",
       "div.output_area pre, div.output_subarea {\n",
       "    font-weight: normal;\n",
       "    word-break: normal;\n",
       "    word-wrap: break-word;\n",
       "}\n",
       "\n",
       "div.output_area pre {\n",
       "    --txbk-content-mono-font-family: var(--txbk-code-font-family);\n",
       "\n",
       "    padding-bottom: 15px;\n",
       "    padding-top: 10px;\n",
       "}\n",
       "\n",
       "/* Output Standard Error  */\n",
       "div.output_stderr {\n",
       "    background-color: #FFFFFF;\n",
       "}\n",
       "\n",
       "div.out_prompt_overlay:hover {\n",
       "    box-shadow: none;\n",
       "    background: none;\n",
       "}\n",
       "\n",
       "/* Output HTML after cell code - e.g. Pandas DataFrame */\n",
       "div.output_html {\n",
       "    color: var(--code-text-color);\n",
       "}\n",
       "\n",
       "\n",
       "div.output_html {\n",
       "    font-size: 1.3rem;\n",
       "    font-weight: normal;\n",
       "    font-family: var(--txbk-code-font-family);\n",
       "    padding-bottom: 15px;\n",
       "    padding-top: 10px;\n",
       "}\n",
       "div.output_html > iframe, div.output_area {\n",
       "    margin-left: 3rem;\n",
       "}\n",
       "\n",
       "div.output_subarea {\n",
       "    margin-left: 1rem;\n",
       "}\n",
       "\n",
       "div.output_svg div {\n",
       "    max-width: 98%;\n",
       "    margin-left: 0 !important;\n",
       "}\n",
       "\n",
       "/* -----------------------------------\n",
       "    EDIT MODE\n",
       "   -----------------------------------\n",
       "*/\n",
       "\n",
       "div.input_area {\n",
       "    border-radius: 0;\n",
       "    border: none;\n",
       "    padding: 0 5px;\n",
       "}\n",
       "\n",
       "div.cell.edit_mode {\n",
       "    border-radius: 0;\n",
       "    border: thin solid var(--cell-edit-border);\n",
       "}\n",
       "\n",
       ".edit_mode div.cell.selected div.input:before,\n",
       ".edit_mode div.cell.selected.unrendered div.input:before {\n",
       "    color: var(--cell-edit-border);\n",
       "}\n",
       "\n",
       ".code_cell div.input_prompt:after,\n",
       ".code_cell div.output_prompt:after {\n",
       "    display: inline-block;\n",
       "    content: '';\n",
       "    font-size:  0.75rem;\n",
       "    font-style: normal !important;\n",
       "}\n",
       "\n",
       ".edit_mode div.cell.selected {\n",
       "    border: none;\n",
       "    background: none !important;\n",
       "}\n",
       "\n",
       ".edit_mode div.cell.selected:before{\n",
       "    width: 0;\n",
       "    background: none;\n",
       "}\n",
       "\n",
       "\n",
       "/* -----------------------------------\n",
       "    CELLS Render\n",
       "   -----------------------------------\n",
       "*/\n",
       "\n",
       "/* -- CODE CELLS -- */\n",
       "\n",
       "/* Display + Edit modes */\n",
       "div.code_cell pre, div.CodeMirror, div.CodeMirror-linenumber {\n",
       "    font-family: var(--txbk-code-font-family) !important;\n",
       "    font-size: var(--txbk-code-font-size) !important;\n",
       "    line-height: var(--txbk-code-line-height) !important;\n",
       "}\n",
       "\n",
       "div.CodeMirror-linenumber {\n",
       "    --txbk-ui-mono-font-size: 12px !important;\n",
       "}\n",
       "\n",
       "/* -- MARKDOWN CELLS (Edit) -- */\n",
       "\n",
       "/* md cell */\n",
       "div.text_cell.unrendered pre {\n",
       "    /* general font rule */\n",
       "    font-family: var(--txbk-md-font-family)  !important;\n",
       "    font-size: var(--txbk-code-font-size) !important;\n",
       "}\n",
       "\n",
       "/* md cell headers (edit) */\n",
       ".cm-header-1, .cm-header-2, .cm-header-3,\n",
       ".cm-header-4, .cm-header-5, .cm-header-6 {\n",
       "    /* general font rule */\n",
       "    font-family: var(--txbk-md-font-family) !important;\n",
       "}\n",
       "\n",
       "/* ------------------------------------------------------------------\n",
       "        MARKDOWN CELLS (DISPLAY MODE)\n",
       "\n",
       "        Notes: Font-families to use here:\n",
       "            computer-modern --> general text (Computer Modern Typeface, CMU)\n",
       "            md-display-monospace --> Monospace output (CMU Typewriter)\n",
       "   ------------------------------------------------------------------\n",
       " */\n",
       "\n",
       "div.text_cell_render {\n",
       "    font-family: var(--txbk-content-font-family) !important;\n",
       "    font-size: var(--txbk-content-font-size) !important;\n",
       "    color: var(--txbk-content-color) !important;\n",
       "    font-kerning: auto;\n",
       "    text-align: justify !important;\n",
       "    display: block;\n",
       "    word-break: normal !important;\n",
       "    word-wrap: break-word !important;\n",
       "}\n",
       "\n",
       "div.text_cell_render a {\n",
       "    color: var(--link-color) !important;\n",
       "}\n",
       "\n",
       "div.text_cell_render h1, div.text_cell_render h2,\n",
       "div.text_cell_render h3, div.text_cell_render h4,\n",
       "div.text_cell_render h5, div.text_cell_render h6 {\n",
       "    font-family:  var(--txbk-content-font-family) !important;\n",
       "    font-style: normal !important;\n",
       "}\n",
       "\n",
       "/* Font-sizes for headers */\n",
       "div.text_cell_render h1 {\n",
       "    font-size: 4.2rem !important;\n",
       "    text-align: center !important;\n",
       "    padding-top:  3rem;\n",
       "    padding-bottom: 3rem;\n",
       "}\n",
       "\n",
       "div.text_cell_render h2 {\n",
       "    font-size: 3.8rem !important;\n",
       "}\n",
       "\n",
       "div.text_cell_render h3 {\n",
       "    font-size: 3.4rem !important;\n",
       "}\n",
       "\n",
       "div.text_cell_render h4 {\n",
       "    font-size: 3rem !important;\n",
       "}\n",
       "\n",
       "div.text_cell_render h5 {\n",
       "    font-size: 2.6rem !important;\n",
       "}\n",
       "\n",
       "div.text_cell_render h6 {\n",
       "    font-size: 2.2rem !important;\n",
       "    border-bottom: 1px solid rgb(204, 204, 204);\n",
       "}\n",
       "\n",
       "div.text_cell_render p,\n",
       "div.text_cell_render pre,\n",
       "div.text_cell_render code {\n",
       "    font-size: 1em !important;\n",
       "    color: var(--code-text-color)  /* REMOVED useless important clause */\n",
       "}\n",
       "\n",
       "/* Monospace Code - no code syntax highlight*/\n",
       "div.text_cell_render pre {\n",
       "    /* hack: using code background colour here to allow for compatibility */\n",
       "    background-color: var(--code-background-color) !important;\n",
       "    font-family: var(--txbk-content-mono-font-family) !important;\n",
       "}\n",
       "\n",
       "div.text_cell_render p {\n",
       "    line-height: var(--txbk-content-line-height);\n",
       "    text-align: justify !important;\n",
       "}\n",
       "\n",
       "/* Monospace inline rendered markdown */\n",
       "div.text_cell_render p code {\n",
       "    background-color: var(--txbk-content-mono-bgcolor) !important;\n",
       "    font-size: var(--txbk-content-mono-font-size) !important;\n",
       "}\n",
       "\n",
       "div.text_cell_render p strong code {\n",
       "    font-weight: bold !important;\n",
       "}\n",
       "\n",
       "div.text_cell_render p em code {\n",
       "    font-style: italic !important;\n",
       "}\n",
       "\n",
       "div.text_cell_render pre code {\n",
       "\n",
       "    /*--txbk-ui-mono-line-height: 1.3;*/\n",
       "\n",
       "    font-size: 1em !important;\n",
       "    padding: 1rem 1.5rem;\n",
       "    display: block !important;\n",
       "    color: var(--txkb-content-mono-color) !important;\n",
       "    background-color: var(--txbk-content-mono-bgcolor) !important;\n",
       "    font-family: var(--txbk-content-mono-font-family) !important;\n",
       "    word-wrap: break-word;\n",
       "    word-break: normal;\n",
       "}\n",
       "\n",
       "div.text_cell_render blockquote {\n",
       "    --txbk-ui-color: #6f6f6f !important;\n",
       "\n",
       "    margin: 2rem .2rem !important;\n",
       "    padding: .3rem .5rem !important;\n",
       "    border-left: .3rem solid #a7a7a7 !important;\n",
       "}\n",
       "\n",
       "div.text_cell_render blockquote p {\n",
       "    padding: .2rem 1.5rem;\n",
       "}\n",
       "\n",
       "div.text_cell_render table {\n",
       "    font-size: var(--txbk-content-font-size) !important;\n",
       "    border-collapse: collapse;\n",
       "    border-spacing: 0;\n",
       "    width: 100%;\n",
       "    overflow: auto;\n",
       "    break-inside: auto;\n",
       "    text-align: left;\n",
       "    margin-top: 25px;\n",
       "}\n",
       "\n",
       "div.text_cell_render table thead {\n",
       "    display: table-header-group;\n",
       "    vertical-align: middle !important;\n",
       "    border-bottom: none !important;\n",
       "}\n",
       "\n",
       "div.text_cell_render table thead tr,\n",
       "div.text_cell_render table thead tr th,\n",
       "div.text_cell_render table thead tr td,\n",
       "div.text_cell_render table tbody tr,\n",
       "div.text_cell_render table tbody tr th,\n",
       "div.text_cell_render table tbody tr td {\n",
       "    break-inside: avoid;\n",
       "    break-after: auto;\n",
       "    text-align: left !important;\n",
       "    vertical-align: middle !important;\n",
       "    padding: 0 !important;\n",
       "}\n",
       "\n",
       "div.text_cell_render table tr th {\n",
       "    border-bottom-width: 0;\n",
       "}\n",
       "\n",
       "div.text_cell_render ul, div.text_cell_render ol {\n",
       "    position: relative;\n",
       "    display: block;\n",
       "    margin-bottom: 0 !important;\n",
       "    line-height: var(--txbk-content-line-height);\n",
       "}\n",
       "\n",
       "div.text_cell_render ul {\n",
       "    list-style-type: disc;\n",
       "}\n",
       "\n",
       "div.text_cell_render ul li, div.text_cell_render ol li {\n",
       "    /*white-space: pre-wrap;*/\n",
       "    padding: .8rem !important;\n",
       "}\n",
       "\n",
       "div.text_cell_render ul li > code, div.text_cell_render ol li > code {\n",
       "    font-size: .9em !important;\n",
       "}\n",
       "\n",
       "div.text_cell_render ul li a code, div.text_cell_render ol li a code {\n",
       "    font-size: .9em !important;\n",
       "}\n",
       "\n",
       "div.text_cell_render ul ul {\n",
       "    list-style-type: circle !important;\n",
       "}\n",
       "\n",
       "div.text_cell_render ul ul,\n",
       "div.text_cell_render ul ol,\n",
       "div.text_cell_render ol ul,\n",
       "div.text_cell_render ol ol {\n",
       "    padding-top: .5rem !important;\n",
       "}\n",
       "\n",
       "div.text_cell_render ul li > ul li,\n",
       "div.text_cell_render ul li > ol li,\n",
       "div.text_cell_render ol li > ul li,\n",
       "div.text_cell_render ol li > ol li {\n",
       "    padding: .5rem !important;\n",
       "}\n",
       "\n",
       "div.text_cell_render ul li > ul li code,\n",
       "div.text_cell_render ul li > ol li code,\n",
       "div.text_cell_render ol li > ul li code,\n",
       "div.text_cell_render ol li > ol li code {\n",
       "    font-size: .9em !important;\n",
       "}\n",
       "\n",
       "div.text_cell_render ul li > ul li a code,\n",
       "div.text_cell_render ul li > ol li a code,\n",
       "div.text_cell_render ol li > ul li a code,\n",
       "div.text_cell_render ol li > ol li a code {\n",
       "    font-size: .9em !important;\n",
       "    color: var(--link-color);\n",
       "}\n",
       "\n",
       "div.text_cell_render ul ul ul {\n",
       "    list-style-type: square !important;\n",
       "}\n",
       "\n",
       "div.text_cell_render p > img:only-child {\n",
       "    display: block;\n",
       "    margin: auto;\n",
       "    max-width: 70% !important;\n",
       "}\n",
       "\n",
       "div.text_cell_render img {\n",
       "    max-width: 70%;\n",
       "}\n",
       "\n",
       ".rendered_html code {\n",
       "    background-color: transparent !important;\n",
       "}\n",
       "\n",
       "/*\n",
       "    ===================================\n",
       "\n",
       "    New CSS Classes and Styles\n",
       "\n",
       "    ===================================\n",
       "*/\n",
       "\n",
       "/* ------------\n",
       "    Footnotes\n",
       "   ------------\n",
       "*/\n",
       "[id^='fn'], [class^='fn'] {\n",
       "    font-size: small !important;\n",
       "    font-weight: normal !important;\n",
       "    font-style: normal !important;\n",
       "    border-top: 1px solid var(--txbk-ui-mono-color);\n",
       "    padding-top: .8rem;\n",
       "    display: block;\n",
       "}\n",
       "\n",
       "p > [id^='fn']:not(:first-child),\n",
       "p > [class^='fn']:not(:first-child) {\n",
       "    border-top: 0 !important;\n",
       "}\n",
       "\n",
       "[id^='fn'] i, [class^='fn'] i, p > strong > strong {\n",
       "    background-color: var(--txbk-content-mono-bgcolor);\n",
       "    font-style: normal !important;\n",
       "    font-weight: bold !important;\n",
       "    text-transform: capitalize;\n",
       "}\n",
       "\n",
       "/* FIX Forcing monospace code to adhere with footnotes rules!*/\n",
       "div.text_cell_render p [id^='fn'] > code, div.text_cell_render p [class^='fn'] > code {\n",
       "    font-size: 1em !important;\n",
       "}\n",
       "\n",
       "/* ------------\n",
       "    Drop cap\n",
       "   ------------\n",
       "*/\n",
       ".drop {\n",
       "    color: var(--drop-cap-color);\n",
       "    float: left;\n",
       "    font-size: 75px;\n",
       "    line-height: 60px;\n",
       "    padding-top: 4px;\n",
       "    padding-right: 8px;\n",
       "    padding-left: 3px;\n",
       "    margin-top: 0.2rem;\n",
       "}\n",
       "\n",
       "\n",
       "/* -----------------------------\n",
       "    TexBook Text colors classes\n",
       "   -----------------------------\n",
       "*/\n",
       ".texbook-red {\n",
       "    color: var(--texbook-red);\n",
       "}\n",
       "\n",
       ".texbook-pink {\n",
       "    color: var(--texbook-pink);\n",
       "}\n",
       "\n",
       ".texbook-turquoise {\n",
       "    color: var(--texbook-turquoise);\n",
       "}\n",
       "\n",
       ".texbook-azure {\n",
       "    color: var(--texbook-azure);\n",
       "}\n",
       "\n",
       ".texbook-blue {\n",
       "    color: var(--texbook-blue);\n",
       "}\n",
       "\n",
       ".texbook-light-grey {\n",
       "    color: var(--texbook-light-grey);\n",
       "}\n",
       "\n",
       ".texbook-dark-grey {\n",
       "    color: var(--texbook-dark-grey);\n",
       "}\n",
       "\n",
       "/* ---------------------------------------------------------\n",
       "    IMG MaxWidthXX\n",
       "    CSS classes to control the max-width property of images\n",
       "    when the default 70% is not enough.\n",
       "    This is when images need to be enlarged or shrunk.\n",
       "    Percentage of max-width supported are:\n",
       "    - 10%\n",
       "    - 15%\n",
       "    - 20%\n",
       "    - 25%\n",
       "    - 30%\n",
       "    - 40%\n",
       "    - 50%\n",
       "    - 80%\n",
       "    - 85%\n",
       "    - 90%\n",
       "    - 100%\n",
       "   ---------------------------------------------------------\n",
       "*/\n",
       "\n",
       "div.text_cell_render img.maxw10,\n",
       "div.text_cell_render p > img.maxw10 {\n",
       "    max-width: 10% !important;\n",
       "}\n",
       "\n",
       "div.text_cell_render img.maxw15,\n",
       "div.text_cell_render p > img.maxw15 {\n",
       "    max-width: 15% !important;\n",
       "}\n",
       "\n",
       "div.text_cell_render img.maxw20,\n",
       "div.text_cell_render p > img.maxw20 {\n",
       "    max-width: 20% !important;\n",
       "}\n",
       "\n",
       "div.text_cell_render img.maxw25,\n",
       "div.text_cell_render p > img.maxw25 {\n",
       "    max-width: 25% !important;\n",
       "}\n",
       "\n",
       "div.text_cell_render img.maxw30,\n",
       "div.text_cell_render p > img.maxw30 {\n",
       "    max-width: 30% !important;\n",
       "}\n",
       "\n",
       "div.text_cell_render img.maxw40,\n",
       "div.text_cell_render p > img.maxw40 {\n",
       "    max-width: 40% !important;\n",
       "}\n",
       "\n",
       "div.text_cell_render img.maxw50,\n",
       "div.text_cell_render p > img.maxw50 {\n",
       "    max-width: 50% !important;\n",
       "}\n",
       "\n",
       "div.text_cell_render img.maxw80,\n",
       "div.text_cell_render p > img.maxw80 {\n",
       "    max-width: 80% !important;\n",
       "}\n",
       "\n",
       "div.text_cell_render img.maxw85,\n",
       "div.text_cell_render p > img.maxw85 {\n",
       "    max-width: 85% !important;\n",
       "}\n",
       "\n",
       "div.text_cell_render img.maxw90,\n",
       "div.text_cell_render p > img.maxw90 {\n",
       "    max-width: 90% !important;\n",
       "}\n",
       "\n",
       "div.text_cell_render img.maxw100,\n",
       "div.text_cell_render p > img.maxw100 {\n",
       "    max-width: 100% !important;\n",
       "}\n",
       "\n",
       ".badges img, .badges p img {\n",
       "    margin: 0 !important;  /* Override margins */\n",
       "    display: inline !important;\n",
       "    padding-right: 7px;\n",
       "}\n",
       "\n",
       ".badges p {\n",
       "    display: inline !important;\n",
       "}\n",
       "\n",
       ".badges {\n",
       "    display: block;\n",
       "    text-align: center;\n",
       "}\n",
       "</style>\n",
       "\n",
       "<script type=\"text/javascript\">\n",
       "/*\n",
       "Author: Valerio Maggio (@leriomaggio)\n",
       "http://github.com/leriomaggio\n",
       "\n",
       " ==================================================\n",
       " Custom JQuery function that handles the scrolling\n",
       " to anchor links positioning the landing of the top\n",
       " pixel to the correct offset, considering that the\n",
       " header toolbar is FIXED by default.\n",
       " ==================================================\n",
       "\n",
       "*/\n",
       "\n",
       "function customise_anchor_links_click() {\n",
       "    $(\"a\").on(\"click\", function (e) {\n",
       "        const hash = this.hash;  // full hash reference, if any (e.g. #numpy.arange)\n",
       "        if (hash !== \"\") {  // check that this is an anchor link\n",
       "            // Remove any existing handler\n",
       "            $(this).unbind();\n",
       "            // Get anchor (get rid of sharp symbol)\n",
       "            // and escape any invalid character for a JQuery selector\n",
       "            // e.g. numpy.arange ==> \"numpy\\.arange\"\n",
       "            const anchor = $.escapeSelector(hash.substr(1));\n",
       "            // Look for ID selector\n",
       "            let anchor_sel = \"#\"+anchor;\n",
       "            let t = $(anchor_sel);\n",
       "            if ((t === undefined) || (t.length === 0)) {\n",
       "                // if not ID, look for a link name anchor\n",
       "                anchor_sel = \"a[name='\" + anchor + \"'\";\n",
       "                t = $(anchor_sel);\n",
       "            }\n",
       "            if ((t !== undefined) && (t.length > 0)) {\n",
       "                // Prevent default anchor click behavior\n",
       "                e.preventDefault();\n",
       "                const page = $(\"html, body\");\n",
       "                // Using jQuery's animate() method to add smooth page scroll\n",
       "                // The optional number (800) specifies the number of milliseconds\n",
       "                // it takes to scroll to the specified area\n",
       "                let header_height = $(\"#header\").height();\n",
       "                let scrollTopOffset = $(t).offset().top - header_height;\n",
       "\n",
       "                /*\n",
       "                 * FIX Scrolling Animation Freeze:\n",
       "                 * https://stackoverflow.com/questions/18445590/jquery-animate-stop-scrolling-when-user-scrolls-manually\n",
       "                 */\n",
       "                page.on(\"scroll mousedown wheel DOMMouseScroll mousewheel keyup touchmove\", function () {\n",
       "                    page.stop(true);  // clearQueue\n",
       "                });\n",
       "                page.stop(true).animate({\n",
       "                    scrollTop: scrollTopOffset\n",
       "                }, 800, function () {\n",
       "                    page.off(\"scroll mousedown wheel DOMMouseScroll mousewheel keyup touchmove\");\n",
       "                });\n",
       "                return false;\n",
       "            }\n",
       "        }\n",
       "    });\n",
       "}\n",
       "\n",
       "// Trigger the selection when the page is ready\n",
       "$(document).ready(function () {\n",
       "    customise_anchor_links_click();\n",
       "});\n",
       "\n",
       "/*\n",
       " Trigger a new selection scan every time a\n",
       " Markdown cell is rendered -\n",
       " so that (possible) newly defined links can be captured.\n",
       " */\n",
       "$([IPython.events]).on(\"rendered.MarkdownCell\", function () {\n",
       "    customise_anchor_links_click();\n",
       "});\n",
       "</script>"
      ],
      "text/plain": [
       "<IPython.core.display.HTML object>"
      ]
     },
     "execution_count": 2,
     "metadata": {},
     "output_type": "execute_result"
    }
   ],
   "source": [
    "%texify"
   ]
  },
  {
   "cell_type": "markdown",
   "metadata": {},
   "source": [
    "<span class=\"badges\">[![colab-badge](https://colab.research.google.com/assets/colab-badge.svg)](https://colab.research.google.com/github/leriomaggio/deep-learning-health-life-sciences/blob/master/1_Warm_up/2_torch_playground.ipynb)\n",
    "[![](https://img.shields.io/badge/Open%20in-Binder-E66581.svg?logo=data:image/png;base64,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)](https://mybinder.org/v2/gh/leriomaggio/deep-learning-health-life-sciences/master/?filepath=1_Warm_up/2_torch_playground.ipynb)\n",
    "[![](https://img.shields.io/badge/%20%20Read%20on-NBViewer-F5A252.svg?logo=data:image/png;base64,iVBORw0KGgoAAAANSUhEUgAAAFkAAABZCAMAAABi1XidAAAB8lBMVEX///9XmsrmZYH1olJXmsr1olJXmsrmZYH1olJXmsr1olJXmsrmZYH1olL1olJXmsr1olJXmsrmZYH1olL1olJXmsrmZYH1olJXmsr1olL1olJXmsrmZYH1olL1olJXmsrmZYH1olL1olL0nFf1olJXmsrmZYH1olJXmsq8dZb1olJXmsrmZYH1olJXmspXmspXmsr1olL1olJXmsrmZYH1olJXmsr1olL1olJXmsrmZYH1olL1olLeaIVXmsrmZYH1olL1olL1olJXmsrmZYH1olLna31Xmsr1olJXmsr1olJXmsrmZYH1olLqoVr1olJXmsr1olJXmsrmZYH1olL1olKkfaPobXvviGabgadXmsqThKuofKHmZ4Dobnr1olJXmsr1olJXmspXmsr1olJXmsrfZ4TuhWn1olL1olJXmsqBi7X1olJXmspZmslbmMhbmsdemsVfl8ZgmsNim8Jpk8F0m7R4m7F5nLB6jbh7jbiDirOEibOGnKaMhq+PnaCVg6qWg6qegKaff6WhnpKofKGtnomxeZy3noG6dZi+n3vCcpPDcpPGn3bLb4/Mb47UbIrVa4rYoGjdaIbeaIXhoWHmZYHobXvpcHjqdHXreHLroVrsfG/uhGnuh2bwj2Hxk17yl1vzmljzm1j0nlX1olL3AJXWAAAAbXRSTlMAEBAQHx8gICAuLjAwMDw9PUBAQEpQUFBXV1hgYGBkcHBwcXl8gICAgoiIkJCQlJicnJ2goKCmqK+wsLC4usDAwMjP0NDQ1NbW3Nzg4ODi5+3v8PDw8/T09PX29vb39/f5+fr7+/z8/Pz9/v7+zczCxgAABC5JREFUeAHN1ul3k0UUBvCb1CTVpmpaitAGSLSpSuKCLWpbTKNJFGlcSMAFF63iUmRccNG6gLbuxkXU66JAUef/9LSpmXnyLr3T5AO/rzl5zj137p136BISy44fKJXuGN/d19PUfYeO67Znqtf2KH33Id1psXoFdW30sPZ1sMvs2D060AHqws4FHeJojLZqnw53cmfvg+XR8mC0OEjuxrXEkX5ydeVJLVIlV0e10PXk5k7dYeHu7Cj1j+49uKg7uLU61tGLw1lq27ugQYlclHC4bgv7VQ+TAyj5Zc/UjsPvs1sd5cWryWObtvWT2EPa4rtnWW3JkpjggEpbOsPr7F7EyNewtpBIslA7p43HCsnwooXTEc3UmPmCNn5lrqTJxy6nRmcavGZVt/3Da2pD5NHvsOHJCrdc1G2r3DITpU7yic7w/7Rxnjc0kt5GC4djiv2Sz3Fb2iEZg41/ddsFDoyuYrIkmFehz0HR2thPgQqMyQYb2OtB0WxsZ3BeG3+wpRb1vzl2UYBog8FfGhttFKjtAclnZYrRo9ryG9uG/FZQU4AEg8ZE9LjGMzTmqKXPLnlWVnIlQQTvxJf8ip7VgjZjyVPrjw1te5otM7RmP7xm+sK2Gv9I8Gi++BRbEkR9EBw8zRUcKxwp73xkaLiqQb+kGduJTNHG72zcW9LoJgqQxpP3/Tj//c3yB0tqzaml05/+orHLksVO+95kX7/7qgJvnjlrfr2Ggsyx0eoy9uPzN5SPd86aXggOsEKW2Prz7du3VID3/tzs/sSRs2w7ovVHKtjrX2pd7ZMlTxAYfBAL9jiDwfLkq55Tm7ifhMlTGPyCAs7RFRhn47JnlcB9RM5T97ASuZXIcVNuUDIndpDbdsfrqsOppeXl5Y+XVKdjFCTh+zGaVuj0d9zy05PPK3QzBamxdwtTCrzyg/2Rvf2EstUjordGwa/kx9mSJLr8mLLtCW8HHGJc2R5hS219IiF6PnTusOqcMl57gm0Z8kanKMAQg0qSyuZfn7zItsbGyO9QlnxY0eCuD1XL2ys/MsrQhltE7Ug0uFOzufJFE2PxBo/YAx8XPPdDwWN0MrDRYIZF0mSMKCNHgaIVFoBbNoLJ7tEQDKxGF0kcLQimojCZopv0OkNOyWCCg9XMVAi7ARJzQdM2QUh0gmBozjc3Skg6dSBRqDGYSUOu66Zg+I2fNZs/M3/f/Grl/XnyF1Gw3VKCez0PN5IUfFLqvgUN4C0qNqYs5YhPL+aVZYDE4IpUk57oSFnJm4FyCqqOE0jhY2SMyLFoo56zyo6becOS5UVDdj7Vih0zp+tcMhwRpBeLyqtIjlJKAIZSbI8SGSF3k0pA3mR5tHuwPFoa7N7reoq2bqCsAk1HqCu5uvI1n6JuRXI+S1Mco54YmYTwcn6Aeic+kssXi8XpXC4V3t7/ADuTNKaQJdScAAAAAElFTkSuQmCC)](https://nbviewer.jupyter.org/github/leriomaggio/deep-learning-health-life-sciences/blob/master/1_Warm_up/2_torch_playground.ipynb?flush_cache=true)\n",
    "</span>"
   ]
  },
  {
   "cell_type": "markdown",
   "metadata": {
    "toc": true
   },
   "source": [
    "<h1>Table of Contents<span class=\"tocSkip\"></span></h1>\n",
    "<div class=\"toc\"><ul class=\"toc-item\"><li><span><a href=\"#What-is-PyTorch\" data-toc-modified-id=\"What-is-PyTorch-1\">What is PyTorch</a></span></li><li><span><a href=\"#Tensors\" data-toc-modified-id=\"Tensors-2\">Tensors</a></span><ul class=\"toc-item\"><li><span><a href=\"#Creating-Tensors\" data-toc-modified-id=\"Creating-Tensors-2.1\">Creating Tensors</a></span><ul class=\"toc-item\"><li><span><a href=\"#Using-Python-list-or-NumPy-ndarray\" data-toc-modified-id=\"Using-Python-list-or-NumPy-ndarray-2.1.1\">Using Python <code>list</code> or NumPy <code>ndarray</code></a></span></li><li><span><a href=\"#Specialised-torch-functions\" data-toc-modified-id=\"Specialised-torch-functions-2.1.2\">Specialised <code>torch</code> functions</a></span><ul class=\"toc-item\"><li><span><a href=\"#torch.arange-and-alike\" data-toc-modified-id=\"torch.arange-and-alike-2.1.2.1\"><code>torch.arange</code> and <em>alike</em></a></span></li><li><span><a href=\"#torch.zeros,-torch.ones\" data-toc-modified-id=\"torch.zeros,-torch.ones-2.1.2.2\"><code>torch.zeros</code>, <code>torch.ones</code></a></span></li><li><span><a href=\"#torch.empty-and-torch.full\" data-toc-modified-id=\"torch.empty-and-torch.full-2.1.2.3\"><code>torch.empty</code> and <code>torch.full</code></a></span></li><li><span><a href=\"#torch.rand\" data-toc-modified-id=\"torch.rand-2.1.2.4\"><code>torch.rand</code></a></span></li><li><span><a href=\"#_like\" data-toc-modified-id=\"_like-2.1.2.5\"><code>_like</code></a></span></li></ul></li></ul></li><li><span><a href=\"#2.-Tensor-Types\" data-toc-modified-id=\"2.-Tensor-Types-2.2\">2. Tensor Types</a></span></li><li><span><a href=\"#3.-Tensor-Operations\" data-toc-modified-id=\"3.-Tensor-Operations-2.3\">3. Tensor Operations</a></span></li><li><span><a href=\"#Special-Tensor-initializations\" data-toc-modified-id=\"Special-Tensor-initializations-2.4\">Special Tensor initializations</a></span><ul class=\"toc-item\"><li><span><a href=\"#Operations\" data-toc-modified-id=\"Operations-2.4.1\">Operations</a></span><ul class=\"toc-item\"><li><span><a href=\"#Swapping-Axes\" data-toc-modified-id=\"Swapping-Axes-2.4.1.1\">Swapping Axes</a></span></li></ul></li></ul></li><li><span><a href=\"#Computing-Gradients\" data-toc-modified-id=\"Computing-Gradients-2.5\">Computing Gradients</a></span></li><li><span><a href=\"#CUDA-Tensors\" data-toc-modified-id=\"CUDA-Tensors-2.6\">CUDA Tensors</a></span><ul class=\"toc-item\"><li><span><a href=\"#Exercise-1\" data-toc-modified-id=\"Exercise-1-2.6.1\">Exercise 1</a></span></li><li><span><a href=\"#Exercise-2\" data-toc-modified-id=\"Exercise-2-2.6.2\">Exercise 2</a></span></li><li><span><a href=\"#Exercise-3\" data-toc-modified-id=\"Exercise-3-2.6.3\">Exercise 3</a></span></li><li><span><a href=\"#Exercise-6\" data-toc-modified-id=\"Exercise-6-2.6.4\">Exercise 6</a></span></li></ul></li></ul></li></ul></div>"
   ]
  },
  {
   "cell_type": "markdown",
   "metadata": {},
   "source": [
    "# PyTorch Playground"
   ]
  },
  {
   "cell_type": "markdown",
   "metadata": {},
   "source": [
    "## What is PyTorch\n",
    "\n",
    "-  A library for **Tensor** manipulation (**this** notebook);\n",
    "-  a deep learning framework that provides maximum flexibility and speed ([`torch_nn_playground`](2_torch_nn_playground.ipynb) notebook)."
   ]
  },
  {
   "cell_type": "markdown",
   "metadata": {},
   "source": [
    "One of the **striking feature** of PyTorch is its *natural* integration with **NumPy**, which aided substantially its adoption among researchers, who are not necessarily inclined to work with \n",
    "hard-to-learn APIs (sorry `TensorFlow 1.x`).\n",
    "\n",
    "Indeed, learning `PyTorch APIs` is by far easier than learning the API of other frameworks \n",
    "(e.g. `TensorFlow`)[$^1$](#fn1)\n",
    "\n",
    "`NumPy` integration + **Dynamic Graph** computation makes `torch` a great tool for researcher and practitioners.\n",
    "\n",
    "\n",
    "<span id=\"fn1\">Actually there are people who spent so much time and effort to learn `TF 1.x` API so that they are very reluctuant to even updated to `TF 2.x`</span>"
   ]
  },
  {
   "cell_type": "code",
   "execution_count": 3,
   "metadata": {},
   "outputs": [],
   "source": [
    "import torch\n",
    "import numpy as np"
   ]
  },
  {
   "cell_type": "markdown",
   "metadata": {},
   "source": [
    "## Tensors\n",
    "\n",
    "**Tensors** are the **main** data structure supported by PyTorch (*everything is built around `torch.Tensor`*)"
   ]
  },
  {
   "cell_type": "markdown",
   "metadata": {},
   "source": [
    "* Scalar is a single number.\n",
    "* Vector is an array of numbers.\n",
    "* Matrix is a 2-D array of numbers.\n",
    "* Tensors are N-D arrays of numbers."
   ]
  },
  {
   "cell_type": "markdown",
   "metadata": {},
   "source": [
    "$\\rightarrow$ **NumPy Arrays**: For a quick overview on how to create and manage `numpy` arrays, you can have a look at \n",
    "[this notebook](https://nbviewer.jupyter.org/github/leriomaggio/numpy-euroscipy/blob/master/01_numpy_basics.ipynb?flush_cache=true) extracted from `NumPy Tutorial @ EuroSciPy 2015`"
   ]
  },
  {
   "cell_type": "markdown",
   "metadata": {},
   "source": [
    "### Creating Tensors"
   ]
  },
  {
   "cell_type": "markdown",
   "metadata": {},
   "source": [
    "You can create tensors by specifying the shape as arguments.  \n",
    "\n",
    "Here is a tensor with `6` rows and `4` columns"
   ]
  },
  {
   "cell_type": "code",
   "execution_count": 4,
   "metadata": {},
   "outputs": [],
   "source": [
    "t = torch.Tensor(6, 4)"
   ]
  },
  {
   "cell_type": "code",
   "execution_count": 5,
   "metadata": {},
   "outputs": [
    {
     "data": {
      "text/plain": [
       "torch.Size([6, 4])"
      ]
     },
     "execution_count": 5,
     "metadata": {},
     "output_type": "execute_result"
    }
   ],
   "source": [
    "t.shape  # shape of tensor"
   ]
  },
  {
   "cell_type": "code",
   "execution_count": 6,
   "metadata": {},
   "outputs": [
    {
     "data": {
      "text/plain": [
       "'torch.FloatTensor'"
      ]
     },
     "execution_count": 6,
     "metadata": {},
     "output_type": "execute_result"
    }
   ],
   "source": [
    "t.type()  # dtype of tensor"
   ]
  },
  {
   "cell_type": "code",
   "execution_count": 7,
   "metadata": {},
   "outputs": [
    {
     "data": {
      "text/plain": [
       "tensor([[3.4718e-28, 4.5811e-41, 3.4718e-28, 4.5811e-41],\n",
       "        [3.4718e-28, 4.5811e-41, 0.0000e+00, 0.0000e+00]])"
      ]
     },
     "execution_count": 7,
     "metadata": {},
     "output_type": "execute_result"
    }
   ],
   "source": [
    "t[2:4, :]  #slicing"
   ]
  },
  {
   "cell_type": "markdown",
   "metadata": {},
   "source": [
    "Tensors can be initialized and then **filled in place**. \n",
    "\n",
    "**Note**: Operations that **end in an underscore** (`_`) are in place operations by convention.\n",
    "On a more general note, this _software design strategy_ is usually referred to as _Convention over Configuration_ principle.\n",
    "\n"
   ]
  },
  {
   "cell_type": "code",
   "execution_count": 8,
   "metadata": {},
   "outputs": [
    {
     "name": "stdout",
     "output_type": "stream",
     "text": [
      "torch.FloatTensor\n",
      "torch.Size([3, 4])\n",
      "tensor([[5., 5., 5., 5.],\n",
      "        [5., 5., 5., 5.],\n",
      "        [5., 5., 5., 5.]])\n"
     ]
    }
   ],
   "source": [
    "x = torch.Tensor(3,4).fill_(5)\n",
    "print(x.type())\n",
    "print(x.shape)\n",
    "print(x)"
   ]
  },
  {
   "cell_type": "markdown",
   "metadata": {},
   "source": [
    "#### Using Python `list` or NumPy `ndarray`"
   ]
  },
  {
   "cell_type": "markdown",
   "metadata": {},
   "source": [
    "Tensors can be initialized from a list of lists (for 2D tensor)"
   ]
  },
  {
   "cell_type": "code",
   "execution_count": 9,
   "metadata": {},
   "outputs": [
    {
     "name": "stdout",
     "output_type": "stream",
     "text": [
      "torch.FloatTensor\n"
     ]
    },
    {
     "data": {
      "text/plain": [
       "tensor([[1., 2.],\n",
       "        [3., 4.],\n",
       "        [5., 6.]])"
      ]
     },
     "execution_count": 9,
     "metadata": {},
     "output_type": "execute_result"
    }
   ],
   "source": [
    "# from Python list\n",
    "x = torch.Tensor([[1, 2,],  \n",
    "                  [3, 4,],\n",
    "                  [5, 6,]\n",
    "                 ])\n",
    "print(x.type())\n",
    "x"
   ]
  },
  {
   "cell_type": "markdown",
   "metadata": {},
   "source": [
    "... or a `numpy.array` using the `torch.from_numpy` function"
   ]
  },
  {
   "cell_type": "code",
   "execution_count": 10,
   "metadata": {},
   "outputs": [
    {
     "data": {
      "text/plain": [
       "tensor([[0.5084, 0.6775, 0.4990, 0.3134],\n",
       "        [0.6660, 0.7842, 0.8693, 0.0089],\n",
       "        [0.9546, 0.1973, 0.9829, 0.7512],\n",
       "        [0.5414, 0.4437, 0.2599, 0.4056]], dtype=torch.float64)"
      ]
     },
     "execution_count": 10,
     "metadata": {},
     "output_type": "execute_result"
    }
   ],
   "source": [
    "npy = np.random.rand(4, 4)\n",
    "torch.from_numpy(npy)"
   ]
  },
  {
   "cell_type": "markdown",
   "metadata": {},
   "source": [
    "#### Specialised `torch` functions\n",
    "\n",
    "There also exist specialised `torch` function returning `torch.Tensor` instances. \n",
    "\n",
    "We will examples for some of them below:\n",
    "\n",
    "- [`torch.arange` and _alike_](#torch.arange)\n",
    "- [`torch.zeros` and `torch.ones`](#zeros_and_ones)\n",
    "- [`torch.empty` and `torch.full`](#empty_and_full)\n",
    "- [`torch.rand`](#torch.rand)\n",
    "- [`_like`](#like)"
   ]
  },
  {
   "cell_type": "markdown",
   "metadata": {},
   "source": [
    "##### `torch.arange` and _alike_"
   ]
  },
  {
   "cell_type": "markdown",
   "metadata": {},
   "source": [
    "We can use the `torch.arange` function ($\\Rightarrow$ [doc](https://pytorch.org/docs/stable/generated/torch.arange.html)) to generate a tensor of numbers in the **range**:\n",
    "$$\n",
    "[ \\frac{end - start}{step} ]\n",
    "$$\n",
    "\n",
    "This function is _almost_ identical to `np.arange` $\\Rightarrow$ [doc](https://numpy.org/doc/stable/reference/generated/numpy.arange.html)\n",
    "\n",
    "Similarly to `numpy.arange`:\n",
    "- `start` is `0` by default\n",
    "- `step` is `1` by default\n",
    "- `step` can be also a `float`, so `roundoff` error applies when calculating items in range."
   ]
  },
  {
   "cell_type": "code",
   "execution_count": 38,
   "metadata": {},
   "outputs": [
    {
     "data": {
      "text/plain": [
       "tensor([0, 1, 2, 3, 4, 5])"
      ]
     },
     "execution_count": 38,
     "metadata": {},
     "output_type": "execute_result"
    }
   ],
   "source": [
    "t_arange = torch.arange(6)\n",
    "t_arange"
   ]
  },
  {
   "cell_type": "markdown",
   "metadata": {},
   "source": [
    "Now specifying `start`, `stop`, and `step`"
   ]
  },
  {
   "cell_type": "code",
   "execution_count": 39,
   "metadata": {},
   "outputs": [
    {
     "data": {
      "text/plain": [
       "tensor([ 0,  5, 10, 15, 20, 25, 30, 35, 40, 45, 50])"
      ]
     },
     "execution_count": 39,
     "metadata": {},
     "output_type": "execute_result"
    }
   ],
   "source": [
    "t_arange = torch.arange(0, 55, 5)  # times table of 5\n",
    "t_arange"
   ]
  },
  {
   "cell_type": "markdown",
   "metadata": {},
   "source": [
    "And with a **non-integer** step"
   ]
  },
  {
   "cell_type": "code",
   "execution_count": 40,
   "metadata": {},
   "outputs": [
    {
     "data": {
      "text/plain": [
       "tensor([0.0000, 0.5000, 1.0000, 1.5000, 2.0000, 2.5000, 3.0000, 3.5000, 4.0000,\n",
       "        4.5000, 5.0000])"
      ]
     },
     "execution_count": 40,
     "metadata": {},
     "output_type": "execute_result"
    }
   ],
   "source": [
    "t_arange = torch.arange(0, 5.5, .5)  # times table of 5 scaled by 10\n",
    "t_arange"
   ]
  },
  {
   "cell_type": "markdown",
   "metadata": {},
   "source": [
    "**Note**: \n",
    "There _still_ exists the `torch.range` function, which is **deprecated** and not to be used. This function will be removed in future versions of PyTorch."
   ]
  },
  {
   "cell_type": "markdown",
   "metadata": {},
   "source": [
    "###### `linspace` and `logspace`\n",
    "\n",
    "To generate a tensor of numbers **evenly** spaced in a range we can use the [`torch.linspace`](https://pytorch.org/docs/stable/generated/torch.linspace.html) function (or [`torch.logspace`](https://pytorch.org/docs/stable/generated/torch.logspace.html) for logarithmic scale for a specified `base`):"
   ]
  },
  {
   "cell_type": "code",
   "execution_count": 47,
   "metadata": {},
   "outputs": [],
   "source": [
    "t_linspace = torch.linspace(start=1, end=40, steps=4)"
   ]
  },
  {
   "cell_type": "code",
   "execution_count": 48,
   "metadata": {},
   "outputs": [
    {
     "data": {
      "text/plain": [
       "tensor([ 1., 14., 27., 40.])"
      ]
     },
     "execution_count": 48,
     "metadata": {},
     "output_type": "execute_result"
    }
   ],
   "source": [
    "t_linspace"
   ]
  },
  {
   "cell_type": "code",
   "execution_count": 49,
   "metadata": {},
   "outputs": [],
   "source": [
    "t_logspace = torch.logspace(start=2, end=6, base=2, steps=4)"
   ]
  },
  {
   "cell_type": "code",
   "execution_count": 50,
   "metadata": {},
   "outputs": [
    {
     "data": {
      "text/plain": [
       "tensor([ 4.0000, 10.0794, 25.3984, 64.0000])"
      ]
     },
     "execution_count": 50,
     "metadata": {},
     "output_type": "execute_result"
    }
   ],
   "source": [
    "t_logspace"
   ]
  },
  {
   "cell_type": "markdown",
   "metadata": {},
   "source": [
    "<a name=\"zeros_and_ones\"></a>\n",
    "\n",
    "##### `torch.zeros`, `torch.ones`"
   ]
  },
  {
   "cell_type": "markdown",
   "metadata": {},
   "source": [
    "We can also initialize tensors of `zeros` or `ones`:"
   ]
  },
  {
   "cell_type": "code",
   "execution_count": 14,
   "metadata": {},
   "outputs": [],
   "source": [
    "zeros = torch.zeros(4, 4)\n",
    "ones = torch.ones(4, 4)"
   ]
  },
  {
   "cell_type": "markdown",
   "metadata": {},
   "source": [
    "These functions both return a tensor filled with the scalar value `0` or `1` respectively,  with the `shape` defined by the variable argument size.\n",
    "\n",
    "These two functions are identical to homonymous versions in `numpy`: [`numpy.zeros`](https://numpy.org/doc/stable/reference/generated/numpy.zeros.html); [`numpy.ones`](https://numpy.org/doc/stable/reference/generated/numpy.ones.html)"
   ]
  },
  {
   "cell_type": "code",
   "execution_count": 15,
   "metadata": {},
   "outputs": [
    {
     "data": {
      "text/plain": [
       "tensor([[0., 0., 0., 0.],\n",
       "        [0., 0., 0., 0.],\n",
       "        [0., 0., 0., 0.],\n",
       "        [0., 0., 0., 0.]])"
      ]
     },
     "execution_count": 15,
     "metadata": {},
     "output_type": "execute_result"
    }
   ],
   "source": [
    "zeros"
   ]
  },
  {
   "cell_type": "code",
   "execution_count": 16,
   "metadata": {},
   "outputs": [
    {
     "data": {
      "text/plain": [
       "tensor([[1., 1., 1., 1.],\n",
       "        [1., 1., 1., 1.],\n",
       "        [1., 1., 1., 1.],\n",
       "        [1., 1., 1., 1.]])"
      ]
     },
     "execution_count": 16,
     "metadata": {},
     "output_type": "execute_result"
    }
   ],
   "source": [
    "ones"
   ]
  },
  {
   "cell_type": "markdown",
   "metadata": {},
   "source": [
    "<a name=\"empty_and_full\"></a>\n",
    "\n",
    "##### `torch.empty` and `torch.full`"
   ]
  },
  {
   "cell_type": "markdown",
   "metadata": {},
   "source": [
    "Similarly, `torch.emtpy` and `torch.full` will respectively create an empty tensor, or a tensor filled with a specific *scalar* value.\n",
    "\n",
    "Again, these two utility functions share a similar API of their NumPy counterparts: [`numpy.empty`](https://numpy.org/doc/stable/reference/generated/numpy.empty.html), and [`numpy.full`](https://numpy.org/doc/stable/reference/generated/numpy.full.html)"
   ]
  },
  {
   "cell_type": "code",
   "execution_count": 30,
   "metadata": {},
   "outputs": [],
   "source": [
    "empty_t = torch.empty(4, 2)"
   ]
  },
  {
   "cell_type": "code",
   "execution_count": 32,
   "metadata": {},
   "outputs": [
    {
     "data": {
      "text/plain": [
       "(torch.Size([4, 2]), torch.float32)"
      ]
     },
     "execution_count": 32,
     "metadata": {},
     "output_type": "execute_result"
    }
   ],
   "source": [
    "empty_t.shape, empty_t.dtype"
   ]
  },
  {
   "cell_type": "code",
   "execution_count": 36,
   "metadata": {},
   "outputs": [],
   "source": [
    "full_t = torch.full(size=(6, 1), fill_value=4)"
   ]
  },
  {
   "cell_type": "code",
   "execution_count": 37,
   "metadata": {},
   "outputs": [
    {
     "data": {
      "text/plain": [
       "tensor([[4],\n",
       "        [4],\n",
       "        [4],\n",
       "        [4],\n",
       "        [4],\n",
       "        [4]])"
      ]
     },
     "execution_count": 37,
     "metadata": {},
     "output_type": "execute_result"
    }
   ],
   "source": [
    "full_t"
   ]
  },
  {
   "cell_type": "markdown",
   "metadata": {},
   "source": [
    "##### `torch.rand`"
   ]
  },
  {
   "cell_type": "markdown",
   "metadata": {},
   "source": [
    "It's common in experimenting to create tensors with **random numbers** of a specific `shape`."
   ]
  },
  {
   "cell_type": "markdown",
   "metadata": {},
   "source": [
    "**Note**: Since, from now on in this notebook we are going to deal with _random_, let's set some `seeds` first. \n",
    "It is not particularly _crucial_ here, but it is a good idea to replicate same outputs, and good practice in general."
   ]
  },
  {
   "cell_type": "code",
   "execution_count": 17,
   "metadata": {},
   "outputs": [
    {
     "data": {
      "text/plain": [
       "<torch._C.Generator at 0x7fb4122098d0>"
      ]
     },
     "execution_count": 17,
     "metadata": {},
     "output_type": "execute_result"
    }
   ],
   "source": [
    "np.random.seed(123456)\n",
    "torch.random.manual_seed(123456)"
   ]
  },
  {
   "cell_type": "code",
   "execution_count": 18,
   "metadata": {},
   "outputs": [
    {
     "data": {
      "text/plain": [
       "torch.Size([2, 3])"
      ]
     },
     "execution_count": 18,
     "metadata": {},
     "output_type": "execute_result"
    }
   ],
   "source": [
    "x = torch.rand(2, 3)\n",
    "x.shape"
   ]
  },
  {
   "cell_type": "markdown",
   "metadata": {},
   "source": [
    "`torch.rand` returns a tensor filled with random numbers from a **uniform distribution** on the interval [0, 1)[0,1)"
   ]
  },
  {
   "cell_type": "code",
   "execution_count": 19,
   "metadata": {},
   "outputs": [
    {
     "data": {
      "text/plain": [
       "tensor([[0.5043, 0.8178, 0.4798],\n",
       "        [0.9201, 0.6819, 0.6900]])"
      ]
     },
     "execution_count": 19,
     "metadata": {},
     "output_type": "execute_result"
    }
   ],
   "source": [
    "x"
   ]
  },
  {
   "cell_type": "markdown",
   "metadata": {},
   "source": [
    "##### `_like`"
   ]
  },
  {
   "cell_type": "markdown",
   "metadata": {},
   "source": [
    "Finally, PyTorch includes a series of _utility_ functions to quickly create tensors similar to other tensors. These functions are identical to previous one, and have the `_like` suffix in their names.(i.e. `like`). The new tensor will share the same `shape` as well as the `dtype`"
   ]
  },
  {
   "cell_type": "code",
   "execution_count": 20,
   "metadata": {},
   "outputs": [],
   "source": [
    "zeros_like = torch.zeros_like(x)"
   ]
  },
  {
   "cell_type": "code",
   "execution_count": 22,
   "metadata": {},
   "outputs": [
    {
     "data": {
      "text/plain": [
       "(torch.Size([2, 3]), torch.Size([2, 3]))"
      ]
     },
     "execution_count": 22,
     "metadata": {},
     "output_type": "execute_result"
    }
   ],
   "source": [
    "zeros_like.shape, x.shape"
   ]
  },
  {
   "cell_type": "code",
   "execution_count": 23,
   "metadata": {},
   "outputs": [
    {
     "data": {
      "text/plain": [
       "(torch.float32, torch.float32)"
      ]
     },
     "execution_count": 23,
     "metadata": {},
     "output_type": "execute_result"
    }
   ],
   "source": [
    "zeros_like.dtype, x.dtype"
   ]
  },
  {
   "cell_type": "markdown",
   "metadata": {},
   "source": [
    "If needed, we can force the `dtype` paramenter for the new tensor:"
   ]
  },
  {
   "cell_type": "code",
   "execution_count": 24,
   "metadata": {},
   "outputs": [],
   "source": [
    "# dtype will be int, this time\n",
    "ones_like = torch.ones_like(x, dtype=int)"
   ]
  },
  {
   "cell_type": "code",
   "execution_count": 25,
   "metadata": {},
   "outputs": [
    {
     "data": {
      "text/plain": [
       "(torch.int64, torch.float32)"
      ]
     },
     "execution_count": 25,
     "metadata": {},
     "output_type": "execute_result"
    }
   ],
   "source": [
    "ones_like.dtype, x.dtype"
   ]
  },
  {
   "cell_type": "code",
   "execution_count": 28,
   "metadata": {},
   "outputs": [
    {
     "data": {
      "text/plain": [
       "torch.float32"
      ]
     },
     "execution_count": 28,
     "metadata": {},
     "output_type": "execute_result"
    }
   ],
   "source": []
  },
  {
   "cell_type": "markdown",
   "metadata": {},
   "source": [
    "### 2. Tensor Types"
   ]
  },
  {
   "cell_type": "markdown",
   "metadata": {},
   "source": [
    "The `FloatTensor` is the **default** tensor type.\n",
    "\n",
    "However, we can control the type of **tensors** by explicit casting (via `dtype`), or specialised constructors."
   ]
  },
  {
   "cell_type": "code",
   "execution_count": 15,
   "metadata": {},
   "outputs": [
    {
     "data": {
      "text/plain": [
       "'torch.LongTensor'"
      ]
     },
     "execution_count": 15,
     "metadata": {},
     "output_type": "execute_result"
    }
   ],
   "source": [
    "x = torch.FloatTensor([[1, 2, 3],  \n",
    "                       [4, 5, 6]])\n",
    "# converts to long\n",
    "x = x.long()\n",
    "x.type()"
   ]
  },
  {
   "cell_type": "code",
   "execution_count": 16,
   "metadata": {},
   "outputs": [
    {
     "data": {
      "text/plain": [
       "'torch.LongTensor'"
      ]
     },
     "execution_count": 16,
     "metadata": {},
     "output_type": "execute_result"
    }
   ],
   "source": [
    "# Specify `dtype` in the constructor\n",
    "x = torch.tensor([[1, 2, 3], \n",
    "                  [4, 5, 6]], dtype=torch.int64)\n",
    "x.type()"
   ]
  },
  {
   "cell_type": "markdown",
   "metadata": {},
   "source": [
    "⚠️ **Note**\n",
    "\n",
    "Please note that so far we have been using `torch.Tensor`, whereas in the cell above we used `torch.tensor` instead. There is a (_quite substantial, ed._) difference between the two.\n",
    "\n",
    "1. `torch.Tensor` is a `class`, i.e. the main **tensor** class in the PyTorch Data Model;\n",
    "2. `torch.tensor` is a [`function`](https://pytorch.org/docs/stable/torch.html#torch.tensor), used to create a tensor from `data`, of a specified `dtype`\n",
    "\n",
    "**See also** [stack overflow `#51911749`](https://stackoverflow.com/questions/51911749/what-is-the-difference-between-torch-tensor-and-torch-tensor)"
   ]
  },
  {
   "cell_type": "code",
   "execution_count": 17,
   "metadata": {},
   "outputs": [
    {
     "data": {
      "text/plain": [
       "'torch.FloatTensor'"
      ]
     },
     "execution_count": 17,
     "metadata": {},
     "output_type": "execute_result"
    }
   ],
   "source": [
    "x.float().type()"
   ]
  },
  {
   "cell_type": "code",
   "execution_count": 18,
   "metadata": {},
   "outputs": [
    {
     "data": {
      "text/plain": [
       "'torch.LongTensor'"
      ]
     },
     "execution_count": 18,
     "metadata": {},
     "output_type": "execute_result"
    }
   ],
   "source": [
    "x.type()"
   ]
  },
  {
   "cell_type": "markdown",
   "metadata": {},
   "source": [
    "**What happened??** \n",
    "\n",
    "Method like `.float()` or `.long()` return a **new copy** of a `Tensor` object."
   ]
  },
  {
   "cell_type": "markdown",
   "metadata": {},
   "source": [
    "###### Excercise\n",
    "\n",
    "Try to create a long tensor from a `random` NumPy array and then cast it as `float`"
   ]
  },
  {
   "cell_type": "code",
   "execution_count": null,
   "metadata": {},
   "outputs": [],
   "source": [
    "# Your code here\n",
    "\n"
   ]
  },
  {
   "cell_type": "markdown",
   "metadata": {},
   "source": [
    "### 3. Tensor Operations"
   ]
  },
  {
   "cell_type": "code",
   "execution_count": 29,
   "metadata": {},
   "outputs": [],
   "source": [
    "x = torch.arange(10).view(5, 2)  # view is the equivalent for np.reshape"
   ]
  },
  {
   "cell_type": "code",
   "execution_count": 30,
   "metadata": {},
   "outputs": [
    {
     "data": {
      "text/plain": [
       "tensor([[0, 1],\n",
       "        [2, 3],\n",
       "        [4, 5],\n",
       "        [6, 7],\n",
       "        [8, 9]])"
      ]
     },
     "execution_count": 30,
     "metadata": {},
     "output_type": "execute_result"
    }
   ],
   "source": [
    "x"
   ]
  },
  {
   "cell_type": "code",
   "execution_count": 31,
   "metadata": {},
   "outputs": [
    {
     "data": {
      "text/plain": [
       "tensor([[ 0,  2],\n",
       "        [ 4,  6],\n",
       "        [ 8, 10],\n",
       "        [12, 14],\n",
       "        [16, 18]])"
      ]
     },
     "execution_count": 31,
     "metadata": {},
     "output_type": "execute_result"
    }
   ],
   "source": [
    "x + x"
   ]
  },
  {
   "cell_type": "code",
   "execution_count": 35,
   "metadata": {},
   "outputs": [
    {
     "data": {
      "text/plain": [
       "tensor([[ 0,  2],\n",
       "        [ 4,  6],\n",
       "        [ 8, 10],\n",
       "        [12, 14],\n",
       "        [16, 18]])"
      ]
     },
     "execution_count": 35,
     "metadata": {},
     "output_type": "execute_result"
    }
   ],
   "source": [
    "x * 2"
   ]
  },
  {
   "cell_type": "markdown",
   "metadata": {},
   "source": [
    "The convention of `_` indicating in-place operations continues:"
   ]
  },
  {
   "cell_type": "code",
   "execution_count": 36,
   "metadata": {},
   "outputs": [
    {
     "name": "stdout",
     "output_type": "stream",
     "text": [
      "tensor([[ 0,  1,  2,  3],\n",
      "        [ 4,  5,  6,  7],\n",
      "        [ 8,  9, 10, 11]])\n",
      "tensor([[ 0,  2,  4,  6],\n",
      "        [ 8, 10, 12, 14],\n",
      "        [16, 18, 20, 22]])\n"
     ]
    }
   ],
   "source": [
    "x = torch.arange(12).reshape(3, 4)\n",
    "print(x)\n",
    "print(x.add_(x))"
   ]
  },
  {
   "cell_type": "code",
   "execution_count": 27,
   "metadata": {},
   "outputs": [
    {
     "data": {
      "text/plain": [
       "tensor([3, 5, 7])"
      ]
     },
     "execution_count": 27,
     "metadata": {},
     "output_type": "execute_result"
    }
   ],
   "source": [
    "torch.sum(x, dim=0)  # over axis = 0"
   ]
  },
  {
   "cell_type": "code",
   "execution_count": 28,
   "metadata": {},
   "outputs": [
    {
     "data": {
      "text/plain": [
       "tensor([ 3, 12])"
      ]
     },
     "execution_count": 28,
     "metadata": {},
     "output_type": "execute_result"
    }
   ],
   "source": [
    "torch.sum(x, dim=1)  # over axis = 1 (column-wise)"
   ]
  },
  {
   "cell_type": "code",
   "execution_count": 29,
   "metadata": {},
   "outputs": [
    {
     "data": {
      "text/plain": [
       "tensor([[0, 3],\n",
       "        [1, 4],\n",
       "        [2, 5]])"
      ]
     },
     "execution_count": 29,
     "metadata": {},
     "output_type": "execute_result"
    }
   ],
   "source": [
    "# np.swapaxes\n",
    "\n",
    "torch.transpose(x, 0, 1)"
   ]
  },
  {
   "cell_type": "markdown",
   "metadata": {},
   "source": [
    "Long Tensors are used for indexing operations and mirror the `int64` numpy type"
   ]
  },
  {
   "cell_type": "code",
   "execution_count": 24,
   "metadata": {},
   "outputs": [
    {
     "name": "stdout",
     "output_type": "stream",
     "text": [
      "Type: torch.LongTensor\n",
      "Shape/size: torch.Size([3, 3])\n",
      "Values: \n",
      "tensor([[1, 2, 3],\n",
      "        [4, 5, 6],\n",
      "        [7, 8, 9]])\n",
      "torch.int64\n",
      "int64\n"
     ]
    }
   ],
   "source": [
    "x = torch.LongTensor([[1, 2, 3],  \n",
    "                      [4, 5, 6],\n",
    "                      [7, 8, 9]])\n",
    "describe(x)\n",
    "print(x.dtype)\n",
    "print(x.numpy().dtype)"
   ]
  },
  {
   "cell_type": "markdown",
   "metadata": {},
   "source": [
    "You can convert a FloatTensor to a LongTensor"
   ]
  },
  {
   "cell_type": "code",
   "execution_count": 25,
   "metadata": {},
   "outputs": [
    {
     "name": "stdout",
     "output_type": "stream",
     "text": [
      "Type: torch.LongTensor\n",
      "Shape/size: torch.Size([3, 3])\n",
      "Values: \n",
      "tensor([[1, 2, 3],\n",
      "        [4, 5, 6],\n",
      "        [7, 8, 9]])\n"
     ]
    }
   ],
   "source": [
    "x = torch.FloatTensor([[1, 2, 3],  \n",
    "                       [4, 5, 6],\n",
    "                       [7, 8, 9]])\n",
    "x = x.long()\n",
    "describe(x)"
   ]
  },
  {
   "cell_type": "markdown",
   "metadata": {},
   "source": [
    "### Special Tensor initializations"
   ]
  },
  {
   "cell_type": "markdown",
   "metadata": {},
   "source": [
    "We can create a vector of incremental numbers"
   ]
  },
  {
   "cell_type": "code",
   "execution_count": 26,
   "metadata": {},
   "outputs": [
    {
     "name": "stdout",
     "output_type": "stream",
     "text": [
      "tensor([0, 1, 2, 3, 4, 5, 6, 7, 8, 9])\n"
     ]
    }
   ],
   "source": [
    "x = torch.arange(0, 10)\n",
    "print(x)"
   ]
  },
  {
   "cell_type": "markdown",
   "metadata": {},
   "source": [
    "Sometimes it's useful to have an integer-based arange for indexing"
   ]
  },
  {
   "cell_type": "code",
   "execution_count": 27,
   "metadata": {},
   "outputs": [
    {
     "name": "stdout",
     "output_type": "stream",
     "text": [
      "tensor([0, 1, 2, 3, 4, 5, 6, 7, 8, 9])\n"
     ]
    }
   ],
   "source": [
    "x = torch.arange(0, 10).long()\n",
    "print(x)"
   ]
  },
  {
   "cell_type": "markdown",
   "metadata": {},
   "source": [
    "#### Operations\n",
    "\n",
    "Using the tensors to do linear algebra is a foundation of modern Deep Learning practices"
   ]
  },
  {
   "cell_type": "markdown",
   "metadata": {},
   "source": [
    "**Reshaping** allows you to move the numbers in a tensor around.  \n",
    "\n",
    "In PyTorch, reshaping is called `view`:\n",
    "\n",
    "(*from the documentation: *)\n",
    "> Returns a new tensor with the same data as the self tensor but of a different shape.\n",
    ">  The returned tensor **shares the same** data and must have the same number of elements, but may have a different size. For a tensor to be viewed, the new view size must be compatible with its original size and stride"
   ]
  },
  {
   "cell_type": "markdown",
   "metadata": {},
   "source": [
    "We can use view to add size-1 dimensions, which can be useful for combining with other tensors.  \n",
    "\n",
    "**This is called broadcasting.**"
   ]
  },
  {
   "cell_type": "code",
   "execution_count": 31,
   "metadata": {},
   "outputs": [
    {
     "name": "stdout",
     "output_type": "stream",
     "text": [
      "tensor([[ 0,  1,  2,  3,  4,  5,  6,  7,  8,  9, 10, 11, 12, 13, 14, 15, 16, 17,\n",
      "         18, 19]])\n",
      "tensor([[ 0,  1,  2,  3,  4,  5,  6,  7,  8,  9],\n",
      "        [10, 11, 12, 13, 14, 15, 16, 17, 18, 19]])\n",
      "tensor([[ 0,  1,  2,  3,  4],\n",
      "        [ 5,  6,  7,  8,  9],\n",
      "        [10, 11, 12, 13, 14],\n",
      "        [15, 16, 17, 18, 19]])\n",
      "tensor([[ 0,  1,  2,  3],\n",
      "        [ 4,  5,  6,  7],\n",
      "        [ 8,  9, 10, 11],\n",
      "        [12, 13, 14, 15],\n",
      "        [16, 17, 18, 19]])\n",
      "tensor([[ 0,  1],\n",
      "        [ 2,  3],\n",
      "        [ 4,  5],\n",
      "        [ 6,  7],\n",
      "        [ 8,  9],\n",
      "        [10, 11],\n",
      "        [12, 13],\n",
      "        [14, 15],\n",
      "        [16, 17],\n",
      "        [18, 19]])\n",
      "tensor([[ 0],\n",
      "        [ 1],\n",
      "        [ 2],\n",
      "        [ 3],\n",
      "        [ 4],\n",
      "        [ 5],\n",
      "        [ 6],\n",
      "        [ 7],\n",
      "        [ 8],\n",
      "        [ 9],\n",
      "        [10],\n",
      "        [11],\n",
      "        [12],\n",
      "        [13],\n",
      "        [14],\n",
      "        [15],\n",
      "        [16],\n",
      "        [17],\n",
      "        [18],\n",
      "        [19]])\n"
     ]
    }
   ],
   "source": [
    "x = torch.arange(0, 20)\n",
    "\n",
    "print(x.view(1, 20))\n",
    "print(x.view(2, 10))\n",
    "print(x.view(4, 5))\n",
    "print(x.view(5, 4))\n",
    "print(x.view(10, 2))\n",
    "print(x.view(20, 1))"
   ]
  },
  {
   "cell_type": "code",
   "execution_count": 32,
   "metadata": {},
   "outputs": [
    {
     "name": "stdout",
     "output_type": "stream",
     "text": [
      "tensor([[ 0,  1,  2,  3],\n",
      "        [ 4,  5,  6,  7],\n",
      "        [ 8,  9, 10, 11]])\n",
      "tensor([[0, 1, 2, 3]])\n",
      "tensor([[0],\n",
      "        [1],\n",
      "        [2]])\n",
      "tensor([[ 0,  2,  4,  6],\n",
      "        [ 4,  6,  8, 10],\n",
      "        [ 8, 10, 12, 14]])\n",
      "tensor([[ 0,  1,  2,  3],\n",
      "        [ 5,  6,  7,  8],\n",
      "        [10, 11, 12, 13]])\n"
     ]
    }
   ],
   "source": [
    "x = torch.arange(12).view(3, 4)\n",
    "y = torch.arange(4).view(1, 4)\n",
    "z = torch.arange(3).view(3, 1)\n",
    "\n",
    "print(x)\n",
    "print(y)\n",
    "print(z)\n",
    "print(x + y)\n",
    "print(x + z)"
   ]
  },
  {
   "cell_type": "markdown",
   "metadata": {},
   "source": [
    "Unsqueeze and squeeze will add and remove 1-dimensions."
   ]
  },
  {
   "cell_type": "code",
   "execution_count": 33,
   "metadata": {},
   "outputs": [
    {
     "name": "stdout",
     "output_type": "stream",
     "text": [
      "torch.Size([3, 4])\n",
      "torch.Size([3, 1, 4])\n",
      "torch.Size([3, 4])\n"
     ]
    }
   ],
   "source": [
    "x = torch.arange(12).view(3, 4)\n",
    "print(x.shape)\n",
    "\n",
    "x = x.unsqueeze(dim=1)\n",
    "print(x.shape)\n",
    "\n",
    "x = x.squeeze()\n",
    "print(x.shape)"
   ]
  },
  {
   "cell_type": "markdown",
   "metadata": {},
   "source": [
    "##### Swapping Axes\n",
    "\n",
    "Another very common operation to perform requires `swapping` axes when analysing images, due to different internal representation between `numpy` and `torch`.\n",
    "\n",
    "For instance, for a 3D tensor representing a simple `RGB` (three channels) image:\n",
    "\n",
    "`torch` $\\mapsto$ (`channel`, `row`, `col`);\n",
    "`numpy` $\\mapsto$ (`row`, `col`, `channel`)."
   ]
  },
  {
   "cell_type": "markdown",
   "metadata": {},
   "source": [
    "Transposing allows you to switch the dimensions to be on different axis. So we can make it so all the rows are columsn and vice versa. "
   ]
  },
  {
   "cell_type": "code",
   "execution_count": 38,
   "metadata": {},
   "outputs": [
    {
     "name": "stdout",
     "output_type": "stream",
     "text": [
      "x: \n",
      " torch.Size([28, 28, 3])\n",
      "tranpose: \n",
      " torch.Size([3, 28, 28])\n",
      "x - again: \n",
      " torch.Size([28, 28, 3])\n"
     ]
    }
   ],
   "source": [
    "x = torch.arange(2352).view(28, 28, 3)\n",
    "print(\"x: \\n\", x.shape) \n",
    "print(\"tranpose: \\n\", x.transpose(2, 0).shape)\n",
    "print(\"x - again: \\n\", x.shape)"
   ]
  },
  {
   "cell_type": "markdown",
   "metadata": {},
   "source": [
    "###### Understanding Dimensions in `Tensor`"
   ]
  },
  {
   "cell_type": "markdown",
   "metadata": {},
   "source": [
    "A `3D` tensor would represent a `batch` of sequences, where each sequence item has a feature vector.  \n",
    "\n",
    "It is common to switch the batch and sequence dimensions so that we can more easily index the sequence in a sequence model.\n",
    "\n",
    "Note: `transpose` will only let you swap `2` axes.  `permute` allows for multiple axes:"
   ]
  },
  {
   "cell_type": "code",
   "execution_count": 39,
   "metadata": {},
   "outputs": [],
   "source": [
    "batch_size = 3\n",
    "seq_size = 28\n",
    "feature_size = 28\n",
    "\n",
    "x = torch.arange(batch_size * seq_size * feature_size).view(batch_size, seq_size, feature_size)"
   ]
  },
  {
   "cell_type": "markdown",
   "metadata": {},
   "source": [
    "Permute is a more general version of tranpose:"
   ]
  },
  {
   "cell_type": "code",
   "execution_count": 40,
   "metadata": {},
   "outputs": [
    {
     "name": "stdout",
     "output_type": "stream",
     "text": [
      "x.permute(1, 0, 2).shape: \n",
      " torch.Size([28, 3, 28])\n"
     ]
    }
   ],
   "source": [
    "print(\"x.permute(1, 0, 2).shape: \\n\", x.permute(1, 0, 2).shape)"
   ]
  },
  {
   "cell_type": "code",
   "execution_count": 41,
   "metadata": {},
   "outputs": [
    {
     "name": "stdout",
     "output_type": "stream",
     "text": [
      "tensor([[ 0.,  1.,  2.,  3.],\n",
      "        [ 4.,  5.,  6.,  7.],\n",
      "        [ 8.,  9., 10., 11.]])\n",
      "tensor([[1., 2.],\n",
      "        [1., 2.],\n",
      "        [1., 2.],\n",
      "        [1., 2.]])\n",
      "tensor([[ 6., 12.],\n",
      "        [22., 44.],\n",
      "        [38., 76.]])\n"
     ]
    }
   ],
   "source": [
    "x = torch.arange(0, 12).view(3,4).float()\n",
    "print(x)\n",
    "\n",
    "x2 = torch.ones(4, 2)\n",
    "x2[:, 1] += 1\n",
    "print(x2)\n",
    "\n",
    "print(x.mm(x2))"
   ]
  },
  {
   "cell_type": "markdown",
   "metadata": {},
   "source": [
    "See the [PyTorch Math Operations Documentation](https://pytorch.org/docs/stable/torch.html#math-operations) for more!"
   ]
  },
  {
   "cell_type": "markdown",
   "metadata": {},
   "source": [
    "### Computing Gradients\n",
    "\n",
    "Central to Tensors is the *free* computation of **gradients** - **when required**!\n",
    "\n",
    "To specify that a `Tensor` requires `gradient`, the option `requires_grad` has to be provided."
   ]
  },
  {
   "cell_type": "code",
   "execution_count": 42,
   "metadata": {},
   "outputs": [
    {
     "name": "stdout",
     "output_type": "stream",
     "text": [
      "tensor([[6., 9.]], grad_fn=<MulBackward0>)\n"
     ]
    }
   ],
   "source": [
    "x = torch.tensor([[2.0, 3.0]], requires_grad=True)\n",
    "z = 3 * x\n",
    "print(z)"
   ]
  },
  {
   "cell_type": "markdown",
   "metadata": {},
   "source": [
    "In the **next** example, we are going to slightly complicate a bit more the (**graph**) of operations..\n",
    "\n",
    "1. We create a tensor and multiply it by `3`.  \n",
    "2. We create a scalar output using `sum()`.  \n",
    "\n",
    "A Scalar output is needed as the the loss variable. Then,\n",
    "3. We call `backward` on the loss means it computes its rate of change with res`pect to the inputs.  \n",
    "\n",
    "Since the scalar was created with `sum`, each position in `z` and `x` are \n",
    "independent with respect to the loss scalar. \n",
    "\n",
    "The rate of change of `x` with respect to the output is just the constant `3` that we multiplied `x` by."
   ]
  },
  {
   "cell_type": "code",
   "execution_count": 43,
   "metadata": {},
   "outputs": [
    {
     "name": "stdout",
     "output_type": "stream",
     "text": [
      "x: \n",
      " tensor([[2., 3.]], requires_grad=True)\n",
      "---\n",
      "z = 3*x: \n",
      " tensor([[6., 9.]], grad_fn=<MulBackward0>)\n",
      "---\n",
      "loss = z.sum(): \n",
      " tensor(15., grad_fn=<SumBackward0>)\n",
      "---\n",
      "after loss.backward(), x.grad: \n",
      " tensor([[3., 3.]])\n"
     ]
    }
   ],
   "source": [
    "x = torch.tensor([[2.0, 3.0]], requires_grad=True)\n",
    "print(\"x: \\n\", x)\n",
    "print(\"---\")\n",
    "z = 3 * x\n",
    "print(\"z = 3*x: \\n\", z)\n",
    "print(\"---\")\n",
    "\n",
    "loss = z.sum()\n",
    "print(\"loss = z.sum(): \\n\", loss)\n",
    "print(\"---\")\n",
    "\n",
    "loss.backward()\n",
    "\n",
    "print(\"after loss.backward(), x.grad: \\n\", x.grad)\n"
   ]
  },
  {
   "cell_type": "markdown",
   "metadata": {},
   "source": [
    "### CUDA Tensors"
   ]
  },
  {
   "cell_type": "markdown",
   "metadata": {},
   "source": [
    "PyTorch's operations can seamlessly be used on the GPU or on the CPU.  \n",
    "\n",
    "There are a couple basic operations for interacting in this way."
   ]
  },
  {
   "cell_type": "code",
   "execution_count": 44,
   "metadata": {},
   "outputs": [
    {
     "name": "stdout",
     "output_type": "stream",
     "text": [
      "False\n"
     ]
    }
   ],
   "source": [
    "print(torch.cuda.is_available())  # should be True if executed on Colab"
   ]
  },
  {
   "cell_type": "code",
   "execution_count": 45,
   "metadata": {},
   "outputs": [],
   "source": [
    "x = torch.rand(3,3)"
   ]
  },
  {
   "cell_type": "code",
   "execution_count": 46,
   "metadata": {},
   "outputs": [
    {
     "name": "stdout",
     "output_type": "stream",
     "text": [
      "cpu\n"
     ]
    }
   ],
   "source": [
    "device = torch.device(\"cuda\" if torch.cuda.is_available() else \"cpu\")\n",
    "print(device)"
   ]
  },
  {
   "cell_type": "code",
   "execution_count": 47,
   "metadata": {},
   "outputs": [
    {
     "name": "stdout",
     "output_type": "stream",
     "text": [
      "cpu\n"
     ]
    }
   ],
   "source": [
    "x = torch.rand(3, 3).to(device)\n",
    "print(x.device)"
   ]
  },
  {
   "cell_type": "code",
   "execution_count": 48,
   "metadata": {},
   "outputs": [],
   "source": [
    "cpu_device = torch.device(\"cpu\")"
   ]
  },
  {
   "cell_type": "code",
   "execution_count": 80,
   "metadata": {},
   "outputs": [
    {
     "ename": "RuntimeError",
     "evalue": "expected type torch.cuda.FloatTensor but got torch.FloatTensor",
     "output_type": "error",
     "traceback": [
      "\u001b[0;31m---------------------------------------------------------------------------\u001b[0m",
      "\u001b[0;31mRuntimeError\u001b[0m                              Traceback (most recent call last)",
      "\u001b[0;32m<ipython-input-80-bc65a5d8cb7f>\u001b[0m in \u001b[0;36m<module>\u001b[0;34m\u001b[0m\n\u001b[1;32m      1\u001b[0m \u001b[0;31m# this will break!\u001b[0m\u001b[0;34m\u001b[0m\u001b[0;34m\u001b[0m\u001b[0;34m\u001b[0m\u001b[0m\n\u001b[1;32m      2\u001b[0m \u001b[0my\u001b[0m \u001b[0;34m=\u001b[0m \u001b[0mtorch\u001b[0m\u001b[0;34m.\u001b[0m\u001b[0mrand\u001b[0m\u001b[0;34m(\u001b[0m\u001b[0;36m3\u001b[0m\u001b[0;34m,\u001b[0m \u001b[0;36m3\u001b[0m\u001b[0;34m)\u001b[0m\u001b[0;34m\u001b[0m\u001b[0;34m\u001b[0m\u001b[0m\n\u001b[0;32m----> 3\u001b[0;31m \u001b[0mx\u001b[0m \u001b[0;34m+\u001b[0m \u001b[0my\u001b[0m\u001b[0;34m\u001b[0m\u001b[0;34m\u001b[0m\u001b[0m\n\u001b[0m",
      "\u001b[0;31mRuntimeError\u001b[0m: expected type torch.cuda.FloatTensor but got torch.FloatTensor"
     ]
    }
   ],
   "source": [
    "# this will break if X is on GPU!\n",
    "y = torch.rand(3, 3)\n",
    "x + y"
   ]
  },
  {
   "cell_type": "code",
   "execution_count": 81,
   "metadata": {},
   "outputs": [
    {
     "data": {
      "text/plain": [
       "tensor([[0.8394, 0.5273, 0.8267],\n",
       "        [0.9273, 1.2824, 1.0603],\n",
       "        [0.4574, 0.5968, 1.0541]])"
      ]
     },
     "execution_count": 81,
     "metadata": {},
     "output_type": "execute_result"
    }
   ],
   "source": [
    "y = y.to(cpu_device)\n",
    "x = x.to(cpu_device)\n",
    "x + y"
   ]
  },
  {
   "cell_type": "code",
   "execution_count": 82,
   "metadata": {},
   "outputs": [
    {
     "name": "stdout",
     "output_type": "stream",
     "text": [
      "tensor([[0.5274, 0.6325, 0.0910],\n",
      "        [0.2323, 0.7269, 0.1187],\n",
      "        [0.3951, 0.7199, 0.7595]], device='cuda:0')\n",
      "tensor([[0.5311, 0.6449, 0.7224],\n",
      "        [0.4416, 0.3634, 0.8818],\n",
      "        [0.9874, 0.7316, 0.2814]], device='cuda:0')\n",
      "tensor([[1.0585, 1.2775, 0.8134],\n",
      "        [0.6739, 1.0903, 1.0006],\n",
      "        [1.3825, 1.4515, 1.0409]], device='cuda:0')\n"
     ]
    },
    {
     "ename": "RuntimeError",
     "evalue": "expected type torch.FloatTensor but got torch.cuda.FloatTensor",
     "output_type": "error",
     "traceback": [
      "\u001b[0;31m---------------------------------------------------------------------------\u001b[0m",
      "\u001b[0;31mRuntimeError\u001b[0m                              Traceback (most recent call last)",
      "\u001b[0;32m<ipython-input-82-0cfe18366dba>\u001b[0m in \u001b[0;36m<module>\u001b[0;34m\u001b[0m\n\u001b[1;32m      9\u001b[0m \u001b[0;34m\u001b[0m\u001b[0m\n\u001b[1;32m     10\u001b[0m     \u001b[0ma\u001b[0m \u001b[0;34m=\u001b[0m \u001b[0ma\u001b[0m\u001b[0;34m.\u001b[0m\u001b[0mcpu\u001b[0m\u001b[0;34m(\u001b[0m\u001b[0;34m)\u001b[0m \u001b[0;31m# Error expected\u001b[0m\u001b[0;34m\u001b[0m\u001b[0;34m\u001b[0m\u001b[0m\n\u001b[0;32m---> 11\u001b[0;31m     \u001b[0mprint\u001b[0m\u001b[0;34m(\u001b[0m\u001b[0ma\u001b[0m \u001b[0;34m+\u001b[0m \u001b[0mb\u001b[0m\u001b[0;34m)\u001b[0m\u001b[0;34m\u001b[0m\u001b[0;34m\u001b[0m\u001b[0m\n\u001b[0m",
      "\u001b[0;31mRuntimeError\u001b[0m: expected type torch.FloatTensor but got torch.cuda.FloatTensor"
     ]
    }
   ],
   "source": [
    "if torch.cuda.is_available(): # only is GPU is available\n",
    "    a = torch.rand(3,3).to(device='cuda:0') #  CUDA Tensor\n",
    "    print(a)\n",
    "    \n",
    "    b = torch.rand(3,3).cuda()\n",
    "    print(b)\n",
    "\n",
    "    print(a + b)\n",
    "\n",
    "    a = a.cpu() # Error expected\n",
    "    print(a + b)"
   ]
  },
  {
   "cell_type": "markdown",
   "metadata": {},
   "source": [
    "#### Exercise 1\n",
    "\n",
    "Create a 2D tensor and then add a dimension of size 1 inserted at the 0th axis."
   ]
  },
  {
   "cell_type": "code",
   "execution_count": null,
   "metadata": {},
   "outputs": [],
   "source": [
    "a = torch.rand(3,3)\n",
    "a = a.unsqueeze(0)\n",
    "print(a)\n",
    "print(a.shape)"
   ]
  },
  {
   "cell_type": "markdown",
   "metadata": {},
   "source": [
    "#### Exercise 2 \n",
    "\n",
    "Remove the extra dimension we just added to the previous tensor."
   ]
  },
  {
   "cell_type": "code",
   "execution_count": null,
   "metadata": {},
   "outputs": [],
   "source": []
  },
  {
   "cell_type": "markdown",
   "metadata": {},
   "source": [
    "#### Exercise 3\n",
    "\n",
    "Create a random tensor of shape 5x3 and move it to the GPU - if available"
   ]
  },
  {
   "cell_type": "code",
   "execution_count": null,
   "metadata": {},
   "outputs": [],
   "source": []
  },
  {
   "cell_type": "markdown",
   "metadata": {},
   "source": [
    "#### Exercise 6\n",
    "\n",
    "Create a random tensor of size (3,1) and then horizonally stack 4 copies together.\n",
    "\n",
    "You can use both `stack` or `expand`"
   ]
  },
  {
   "cell_type": "code",
   "execution_count": null,
   "metadata": {},
   "outputs": [],
   "source": []
  }
 ],
 "metadata": {
  "hide_input": false,
  "kernelspec": {
   "display_name": "Python 3",
   "language": "python",
   "name": "python3"
  },
  "language_info": {
   "codemirror_mode": {
    "name": "ipython",
    "version": 3
   },
   "file_extension": ".py",
   "mimetype": "text/x-python",
   "name": "python",
   "nbconvert_exporter": "python",
   "pygments_lexer": "ipython3",
   "version": "3.7.6"
  },
  "toc": {
   "base_numbering": 1,
   "nav_menu": {},
   "number_sections": false,
   "sideBar": false,
   "skip_h1_title": true,
   "title_cell": "Table of Contents",
   "title_sidebar": "Contents",
   "toc_cell": true,
   "toc_position": {
    "height": "calc(100% - 180px)",
    "left": "10px",
    "top": "150px",
    "width": "322.797px"
   },
   "toc_section_display": false,
   "toc_window_display": false
  }
 },
 "nbformat": 4,
 "nbformat_minor": 4
}
